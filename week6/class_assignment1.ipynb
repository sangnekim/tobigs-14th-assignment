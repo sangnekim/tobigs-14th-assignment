{
 "cells": [
  {
   "cell_type": "code",
   "execution_count": 1,
   "metadata": {},
   "outputs": [],
   "source": [
    "from Vector_2D import Vector_2d\n",
    "\n",
    "class Vector_3d (Vector_2d):\n",
    "    def __init__(self, x,y,z):\n",
    "        super().__init__(x,y)\n",
    "        self.z = z\n",
    "        \n",
    "    def __add__(self, other):\n",
    "        return Vector_3d(self.x+other.x, self.y+other.y, self.z+other.z)\n",
    "    \n",
    "    def __neg__(self):\n",
    "        return Vector_3d(-self.x, -self.y, -self.z)\n",
    "    \n",
    "    def __sub__(self, other):\n",
    "        # + (add) 와 - (neg) 기호를 활용해보셔도 좋아요\n",
    "        return self + -other\n",
    "    \n",
    "    def __repr__(self):\n",
    "        return f'Vector({self.x},{self.y},{self.z})'\n"
   ]
  },
  {
   "cell_type": "code",
   "execution_count": 2,
   "metadata": {},
   "outputs": [
    {
     "name": "stdout",
     "output_type": "stream",
     "text": [
      "Vector(9,2,3)\n",
      "Vector(-1,-4,1)\n"
     ]
    }
   ],
   "source": [
    "v1 = Vector_3d(4,-1,2)\n",
    "v2 = Vector_3d(5,3,1)\n",
    "\n",
    "print(v1+v2)\n",
    "print(v1-v2)"
   ]
  },
  {
   "cell_type": "code",
   "execution_count": null,
   "metadata": {},
   "outputs": [],
   "source": []
  }
 ],
 "metadata": {
  "kernelspec": {
   "display_name": "Python 3",
   "language": "python",
   "name": "python3"
  },
  "language_info": {
   "codemirror_mode": {
    "name": "ipython",
    "version": 3
   },
   "file_extension": ".py",
   "mimetype": "text/x-python",
   "name": "python",
   "nbconvert_exporter": "python",
   "pygments_lexer": "ipython3",
   "version": "3.7.3"
  }
 },
 "nbformat": 4,
 "nbformat_minor": 4
}
