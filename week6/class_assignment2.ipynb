{
 "cells": [
  {
   "cell_type": "markdown",
   "metadata": {},
   "source": [
    "# Logistic Regression을 클래스로 구현해봅시다!"
   ]
  },
  {
   "cell_type": "markdown",
   "metadata": {},
   "source": [
    "## 1. 함수로 구현한 LogisticRegression\n",
    "\n",
    "### - 아래 코드를 참고하여 LinearRegression_class.py에 클래스로 구현된 Logistic Regression을 완성시켜주세요!  \n",
    "\n",
    "<br/>\n",
    "\n",
    "코드 출처: 박성호님의 머신러닝 강의 https://youtu.be/nhzljkpjjFk, https://github.com/neowizard2018/neowizard/blob/master/MachineLearning/ML_LEC_17_Example1.ipynb  "
   ]
  },
  {
   "cell_type": "code",
   "execution_count": 1,
   "metadata": {},
   "outputs": [
    {
     "name": "stdout",
     "output_type": "stream",
     "text": [
      "X_train.shape =  (10, 1) , y_train.shape =  (10, 1)\n"
     ]
    }
   ],
   "source": [
    "import numpy as np\n",
    "\n",
    "X_train = np.array([2, 4, 6, 8, 10, 12, 14, 16, 18, 20]).reshape(10,1)   \n",
    "y_train = np.array([0, 0, 0, 0,  0,  0,  1,  1,  1,  1]).reshape(10,1)\n",
    "X_test = np.array([1, 3, 5, 7, 9, 11, 15, 17, 19]).reshape(9,1)\n",
    "\n",
    "print(\"X_train.shape = \", X_train.shape, \", y_train.shape = \", y_train.shape)"
   ]
  },
  {
   "cell_type": "code",
   "execution_count": 6,
   "metadata": {},
   "outputs": [],
   "source": [
    "#시그모이드 함수\n",
    "def sigmoid(x):\n",
    "    return 1 / (1+np.exp(-x))\n",
    "\n",
    "#편미분 함수\n",
    "def numerical_derivative(f, x):\n",
    "    delta_x = 1e-4 # 0.0001\n",
    "    grad = np.zeros_like(x)\n",
    "    \n",
    "    it = np.nditer(x, flags=['multi_index'], op_flags=['readwrite'])\n",
    "    \n",
    "    while not it.finished:\n",
    "        idx = it.multi_index        \n",
    "        tmp_val = x[idx]\n",
    "        x[idx] = float(tmp_val) + delta_x\n",
    "        fx1 = f(x) # f(x+delta_x)\n",
    "        \n",
    "        x[idx] = tmp_val - delta_x \n",
    "        fx2 = f(x) # f(x-delta_x)\n",
    "        grad[idx] = (fx1 - fx2) / (2*delta_x)\n",
    "        \n",
    "        x[idx] = tmp_val \n",
    "        it.iternext()   \n",
    "        \n",
    "    return grad\n",
    "\n"
   ]
  },
  {
   "cell_type": "code",
   "execution_count": 7,
   "metadata": {},
   "outputs": [],
   "source": [
    "#초기화\n",
    "W = np.random.rand(1,1)  \n",
    "b = np.random.rand(1)  \n",
    "learning_rate = 1e-2"
   ]
  },
  {
   "cell_type": "code",
   "execution_count": 8,
   "metadata": {},
   "outputs": [],
   "source": [
    "# 손실 함수\n",
    "def loss_func(X_train, y_train):\n",
    "    \n",
    "    delta = 1e-7    # log 무한대 발산 방지\n",
    "    \n",
    "    z = np.dot(X_train,W) + b\n",
    "    y = sigmoid(z)\n",
    "    \n",
    "    # cross-entropy \n",
    "    return  -np.sum(y_train*np.log(y + delta) + (1-y_train)*np.log((1 - y)+delta ) )\n",
    "\n",
    "# 손실 값 계산 함수\n",
    "def error_val(X_train, y_train):\n",
    "    \n",
    "    delta = 1e-7    # log 무한대 발산 방지\n",
    "    \n",
    "    z = np.dot(X_train,W) + b\n",
    "    y = sigmoid(z)\n",
    "    \n",
    "    # cross-entropy \n",
    "    return  -np.sum( y_train*np.log(y + delta) + (1-y_train)*np.log((1 - y)+delta ) ) \n",
    "\n",
    "\n",
    "def predict(X):\n",
    "    result=[]\n",
    "    for x in X:\n",
    "        z=np.dot(x, W) + b\n",
    "        y=sigmoid(z)\n",
    "\n",
    "        if y > 0.5:\n",
    "            result.append(1)\n",
    "        else:\n",
    "            result.append(0)\n",
    "\n",
    "    return result"
   ]
  },
  {
   "cell_type": "code",
   "execution_count": 9,
   "metadata": {},
   "outputs": [
    {
     "name": "stdout",
     "output_type": "stream",
     "text": [
      "Initial error value =  28.573025654123217 Initial W =  [[0.53993599]] \n",
      " , b =  [0.95104804]\n",
      "step =  0 error value =  11.881741595362278 W =  [[0.12558458]] , b =  [0.90161958]\n",
      "step =  400 error value =  3.2654019247012434 W =  [[0.43561227]] , b =  [-4.0736295]\n",
      "step =  800 error value =  1.7901484653179662 W =  [[0.45173519]] , b =  [-5.61935786]\n",
      "step =  1200 error value =  1.5216044151577628 W =  [[0.52947031]] , b =  [-6.654509]\n",
      "step =  1600 error value =  1.3548975484946864 W =  [[0.59094979]] , b =  [-7.47094617]\n",
      "step =  2000 error value =  1.237771771170294 W =  [[0.64261034]] , b =  [-8.15548365]\n",
      "step =  2400 error value =  1.1492099289373037 W =  [[0.68761482]] , b =  [-8.75076107]\n",
      "step =  2800 error value =  1.0789120409487416 W =  [[0.7277692]] , b =  [-9.28110336]\n",
      "step =  3200 error value =  1.0211534907642883 W =  [[0.76420958]] , b =  [-9.7617972]\n",
      "step =  3600 error value =  0.9724610765491054 W =  [[0.79770105]] , b =  [-10.20312517]\n",
      "step =  4000 error value =  0.9305865813069313 W =  [[0.8287855]] , b =  [-10.61236216]\n",
      "step =  4400 error value =  0.8940003202334375 W =  [[0.85786201]] , b =  [-10.99485995]\n",
      "step =  4800 error value =  0.8616194448765718 W =  [[0.88523376]] , b =  [-11.35467996]\n",
      "step =  5200 error value =  0.8326523032152966 W =  [[0.91113697]] , b =  [-11.69498351]\n",
      "step =  5600 error value =  0.8065044364158288 W =  [[0.93575959]] , b =  [-12.01828376]\n",
      "step =  6000 error value =  0.7827192703516695 W =  [[0.95925387]] , b =  [-12.32661447]\n",
      "step =  6400 error value =  0.7609393007299616 W =  [[0.981745]] , b =  [-12.62164679]\n",
      "step =  6800 error value =  0.7408798854269537 W =  [[1.00333732]] , b =  [-12.9047721]\n",
      "step =  7200 error value =  0.7223110666957894 W =  [[1.02411876]] , b =  [-13.17716236]\n",
      "step =  7600 error value =  0.7050446639116711 W =  [[1.04416418]] , b =  [-13.43981477]\n",
      "step =  8000 error value =  0.6889249178355954 W =  [[1.06353792]] , b =  [-13.69358554]\n",
      "step =  8400 error value =  0.6738215841508527 W =  [[1.08229571]] , b =  [-13.93921583]\n",
      "step =  8800 error value =  0.6596247512589773 W =  [[1.10048614]] , b =  [-14.17735187]\n",
      "step =  9200 error value =  0.6462408945022116 W =  [[1.11815192]] , b =  [-14.40856086]\n",
      "step =  9600 error value =  0.6335898318188947 W =  [[1.13533076]] , b =  [-14.63334362]\n",
      "step =  10000 error value =  0.6216023465337195 W =  [[1.15205615]] , b =  [-14.85214479]\n"
     ]
    }
   ],
   "source": [
    "f = lambda x : loss_func(X_train, y_train)  # f(x) = loss_func(x_data, t_data)\n",
    "\n",
    "print(\"Initial error value = \", error_val(X_train, y_train), \"Initial W = \", W, \"\\n\", \", b = \", b )\n",
    "\n",
    "for step in  range(10001):  \n",
    "    \n",
    "    W -= learning_rate * numerical_derivative(f, W)\n",
    "    \n",
    "    b -= learning_rate * numerical_derivative(f, b)\n",
    "    \n",
    "    if (step % 400 == 0):\n",
    "        print(\"step = \", step, \"error value = \", error_val(X_train, y_train), \"W = \", W, \", b = \",b )"
   ]
  },
  {
   "cell_type": "code",
   "execution_count": 6,
   "metadata": {},
   "outputs": [
    {
     "data": {
      "text/plain": [
       "[0, 0, 0, 0, 0, 0, 1, 1, 1]"
      ]
     },
     "execution_count": 6,
     "metadata": {},
     "output_type": "execute_result"
    }
   ],
   "source": [
    "y_pred = predict(X_test)\n",
    "y_pred"
   ]
  },
  {
   "cell_type": "markdown",
   "metadata": {},
   "source": [
    "## 2. class로 구현한 LogisticRegression_class\n",
    "\n",
    "### 1을 참고하여 만든 모듈을 import하고 학습시켜주세요!"
   ]
  },
  {
   "cell_type": "code",
   "execution_count": 2,
   "metadata": {},
   "outputs": [],
   "source": [
    "from LogisticRegression_class import *"
   ]
  },
  {
   "cell_type": "code",
   "execution_count": null,
   "metadata": {},
   "outputs": [],
   "source": []
  },
  {
   "cell_type": "code",
   "execution_count": 3,
   "metadata": {},
   "outputs": [
    {
     "name": "stdout",
     "output_type": "stream",
     "text": [
      "Initial error value =  45.273608770329425\n",
      "step =  0 error value =  27.512891896129773\n",
      "step =  400 error value =  2.863224347081565\n",
      "step =  800 error value =  1.7906408435598864\n",
      "step =  1200 error value =  1.5218858980316894\n",
      "step =  1600 error value =  1.35508636953129\n",
      "step =  2000 error value =  1.2379103907261748\n",
      "step =  2400 error value =  1.1493177375180879\n",
      "step =  2800 error value =  1.0789993058855099\n",
      "step =  3200 error value =  1.0212262247905377\n",
      "step =  3600 error value =  0.9725230680116166\n",
      "step =  4000 error value =  0.9306403534601738\n",
      "step =  4400 error value =  0.8940476287365829\n",
      "step =  4800 error value =  0.8616615551167309\n",
      "step =  5200 error value =  0.8326901540861276\n",
      "step =  5600 error value =  0.8065387417256006\n",
      "step =  6000 error value =  0.7827505841355724\n",
      "step =  6400 error value =  0.7609680607416586\n",
      "step =  6800 error value =  0.7409064429526407\n",
      "step =  7200 error value =  0.7223357074926289\n",
      "step =  7600 error value =  0.7050676232491978\n",
      "step =  8000 error value =  0.6889463915083817\n",
      "step =  8400 error value =  0.6738417366781648\n",
      "step =  8800 error value =  0.6596437220865324\n",
      "step =  9200 error value =  0.6462588027549017\n",
      "step =  9600 error value =  0.6336067799978456\n",
      "step =  10000 error value =  0.6216184234143391\n"
     ]
    }
   ],
   "source": [
    "model_class = LogisticRegression_cls(X_train, y_train)\n",
    "model_class.train()"
   ]
  },
  {
   "cell_type": "code",
   "execution_count": 7,
   "metadata": {},
   "outputs": [
    {
     "name": "stdout",
     "output_type": "stream",
     "text": [
      "initial error value= 9.764485842269702\n",
      "step= 0  error value= 12.863813142431257\n",
      "step= 400  error value= 2.846142249503101\n",
      "step= 800  error value= 1.788197607309589\n",
      "step= 1200  error value= 1.5204882308809238\n",
      "step= 1600  error value= 1.3541484590332817\n",
      "step= 2000  error value= 1.2372216736883672\n",
      "step= 2400  error value= 1.1487820061829852\n",
      "step= 2800  error value= 1.0785656006766844\n",
      "step= 3200  error value= 1.020864695642025\n",
      "step= 3600  error value= 0.9722149043393165\n",
      "step= 4000  error value= 0.93037302454704\n",
      "step= 4400  error value= 0.893812414806018\n",
      "step= 4800  error value= 0.861452170808396\n",
      "step= 5200  error value= 0.8325019353976557\n",
      "step= 5600  error value= 0.8063681425340465\n",
      "step= 6000  error value= 0.7825948518906034\n",
      "step= 6400  error value= 0.7608250204761637\n",
      "step= 6800  error value= 0.7407743492387093\n",
      "step= 7200  error value= 0.7222131404261993\n",
      "step= 7600  error value= 0.7049534137459633\n",
      "step= 8000  error value= 0.6888395666098783\n",
      "step= 8400  error value= 0.6737414788181381\n",
      "step= 8800  error value= 0.6595493382828068\n",
      "step= 9200  error value= 0.6461697009864329\n",
      "step= 9600  error value= 0.6335224508539228\n",
      "step= 10000  error value= 0.6215384256864239\n"
     ]
    }
   ],
   "source": [
    "# model_class = LogisticRegression_cls(X_train, y_train)\n",
    "# model_class.train()"
   ]
  },
  {
   "cell_type": "code",
   "execution_count": 8,
   "metadata": {},
   "outputs": [
    {
     "name": "stdout",
     "output_type": "stream",
     "text": [
      "[0, 0, 0, 0, 0, 0, 1, 1, 1]\n"
     ]
    }
   ],
   "source": [
    "# y_pred = model_class.predict(X_test)\n",
    "\n",
    "# print(y_pred)"
   ]
  },
  {
   "cell_type": "code",
   "execution_count": 4,
   "metadata": {},
   "outputs": [
    {
     "name": "stdout",
     "output_type": "stream",
     "text": [
      "[0, 0, 0, 0, 0, 0, 1, 1, 1]\n"
     ]
    }
   ],
   "source": [
    "y_pred = model_class.predict(X_test)\n",
    "\n",
    "print(y_pred)"
   ]
  },
  {
   "cell_type": "markdown",
   "metadata": {},
   "source": [
    "### 3. sklearn.linear_model의 LogisticRegression과 비교"
   ]
  },
  {
   "cell_type": "code",
   "execution_count": 5,
   "metadata": {},
   "outputs": [
    {
     "name": "stderr",
     "output_type": "stream",
     "text": [
      "D:\\Anaconda3\\lib\\site-packages\\sklearn\\utils\\validation.py:73: DataConversionWarning: A column-vector y was passed when a 1d array was expected. Please change the shape of y to (n_samples, ), for example using ravel().\n",
      "  return f(**kwargs)\n"
     ]
    },
    {
     "data": {
      "text/plain": [
       "LogisticRegression()"
      ]
     },
     "execution_count": 5,
     "metadata": {},
     "output_type": "execute_result"
    }
   ],
   "source": [
    "from sklearn.linear_model import LogisticRegression\n",
    "\n",
    "model_sk = LogisticRegression()\n",
    "model_sk.fit(X_train,y_train)"
   ]
  },
  {
   "cell_type": "code",
   "execution_count": 6,
   "metadata": {},
   "outputs": [
    {
     "name": "stdout",
     "output_type": "stream",
     "text": [
      "[0 0 0 0 0 0 1 1 1]\n"
     ]
    }
   ],
   "source": [
    "y_pred_sk = model_sk.predict(X_test) \n",
    "\n",
    "print(y_pred_sk)"
   ]
  },
  {
   "cell_type": "code",
   "execution_count": null,
   "metadata": {},
   "outputs": [],
   "source": []
  }
 ],
 "metadata": {
  "kernelspec": {
   "display_name": "Python 3",
   "language": "python",
   "name": "python3"
  },
  "language_info": {
   "codemirror_mode": {
    "name": "ipython",
    "version": 3
   },
   "file_extension": ".py",
   "mimetype": "text/x-python",
   "name": "python",
   "nbconvert_exporter": "python",
   "pygments_lexer": "ipython3",
   "version": "3.7.3"
  }
 },
 "nbformat": 4,
 "nbformat_minor": 4
}
