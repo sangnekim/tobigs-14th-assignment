{
 "cells": [
  {
   "cell_type": "code",
   "execution_count": 80,
   "metadata": {},
   "outputs": [],
   "source": [
    "#패키지 임포트\n",
    "import numpy as np\n",
    "import pandas as pd\n",
    "\n",
    "from sklearn.model_selection import train_test_split\n",
    "\n",
    "import matplotlib.pyplot as plt\n",
    "%matplotlib inline\n",
    "\n",
    "#Pytorch 라이브러리 임포트\n",
    "import torch\n",
    "from torch.autograd import Variable\n",
    "import torch.nn as nn\n",
    "import torch.nn.functional as F\n",
    "import torch.optim as optim\n",
    "from torch.utils.data import DataLoader, TensorDataset\n",
    "import torchvision\n",
    "from torchvision import transforms\n",
    "from torch.optim import lr_scheduler\n",
    "\n",
    "import copy\n",
    "\n",
    "import warnings\n",
    "warnings.filterwarnings(action='ignore')"
   ]
  },
  {
   "cell_type": "markdown",
   "metadata": {},
   "source": [
    "## Data load and pre-processing"
   ]
  },
  {
   "cell_type": "code",
   "execution_count": 87,
   "metadata": {},
   "outputs": [],
   "source": [
    "# data 불러오기\n",
    "train_data = pd.read_csv('tobigs14-mnist-competition/train_df.csv')\n",
    "test_data = pd.read_csv('tobigs14-mnist-competition/test_df.csv')"
   ]
  },
  {
   "cell_type": "code",
   "execution_count": 88,
   "metadata": {},
   "outputs": [
    {
     "data": {
      "text/html": [
       "<div>\n",
       "<style scoped>\n",
       "    .dataframe tbody tr th:only-of-type {\n",
       "        vertical-align: middle;\n",
       "    }\n",
       "\n",
       "    .dataframe tbody tr th {\n",
       "        vertical-align: top;\n",
       "    }\n",
       "\n",
       "    .dataframe thead th {\n",
       "        text-align: right;\n",
       "    }\n",
       "</style>\n",
       "<table border=\"1\" class=\"dataframe\">\n",
       "  <thead>\n",
       "    <tr style=\"text-align: right;\">\n",
       "      <th></th>\n",
       "      <th>label</th>\n",
       "      <th>pixel0</th>\n",
       "      <th>pixel1</th>\n",
       "      <th>pixel2</th>\n",
       "      <th>pixel3</th>\n",
       "      <th>pixel4</th>\n",
       "      <th>pixel5</th>\n",
       "      <th>pixel6</th>\n",
       "      <th>pixel7</th>\n",
       "      <th>pixel8</th>\n",
       "      <th>...</th>\n",
       "      <th>pixel774</th>\n",
       "      <th>pixel775</th>\n",
       "      <th>pixel776</th>\n",
       "      <th>pixel777</th>\n",
       "      <th>pixel778</th>\n",
       "      <th>pixel779</th>\n",
       "      <th>pixel780</th>\n",
       "      <th>pixel781</th>\n",
       "      <th>pixel782</th>\n",
       "      <th>pixel783</th>\n",
       "    </tr>\n",
       "  </thead>\n",
       "  <tbody>\n",
       "    <tr>\n",
       "      <th>0</th>\n",
       "      <td>7</td>\n",
       "      <td>0</td>\n",
       "      <td>0</td>\n",
       "      <td>0</td>\n",
       "      <td>0</td>\n",
       "      <td>0</td>\n",
       "      <td>0</td>\n",
       "      <td>0</td>\n",
       "      <td>0</td>\n",
       "      <td>0</td>\n",
       "      <td>...</td>\n",
       "      <td>0</td>\n",
       "      <td>0</td>\n",
       "      <td>0</td>\n",
       "      <td>0</td>\n",
       "      <td>0</td>\n",
       "      <td>0</td>\n",
       "      <td>0</td>\n",
       "      <td>0</td>\n",
       "      <td>0</td>\n",
       "      <td>0</td>\n",
       "    </tr>\n",
       "    <tr>\n",
       "      <th>1</th>\n",
       "      <td>8</td>\n",
       "      <td>0</td>\n",
       "      <td>0</td>\n",
       "      <td>0</td>\n",
       "      <td>0</td>\n",
       "      <td>0</td>\n",
       "      <td>0</td>\n",
       "      <td>0</td>\n",
       "      <td>0</td>\n",
       "      <td>0</td>\n",
       "      <td>...</td>\n",
       "      <td>0</td>\n",
       "      <td>0</td>\n",
       "      <td>0</td>\n",
       "      <td>0</td>\n",
       "      <td>0</td>\n",
       "      <td>0</td>\n",
       "      <td>0</td>\n",
       "      <td>0</td>\n",
       "      <td>0</td>\n",
       "      <td>0</td>\n",
       "    </tr>\n",
       "    <tr>\n",
       "      <th>2</th>\n",
       "      <td>7</td>\n",
       "      <td>0</td>\n",
       "      <td>0</td>\n",
       "      <td>0</td>\n",
       "      <td>0</td>\n",
       "      <td>0</td>\n",
       "      <td>0</td>\n",
       "      <td>0</td>\n",
       "      <td>0</td>\n",
       "      <td>0</td>\n",
       "      <td>...</td>\n",
       "      <td>0</td>\n",
       "      <td>0</td>\n",
       "      <td>0</td>\n",
       "      <td>0</td>\n",
       "      <td>0</td>\n",
       "      <td>0</td>\n",
       "      <td>0</td>\n",
       "      <td>0</td>\n",
       "      <td>0</td>\n",
       "      <td>0</td>\n",
       "    </tr>\n",
       "    <tr>\n",
       "      <th>3</th>\n",
       "      <td>6</td>\n",
       "      <td>0</td>\n",
       "      <td>0</td>\n",
       "      <td>0</td>\n",
       "      <td>0</td>\n",
       "      <td>0</td>\n",
       "      <td>0</td>\n",
       "      <td>0</td>\n",
       "      <td>0</td>\n",
       "      <td>0</td>\n",
       "      <td>...</td>\n",
       "      <td>0</td>\n",
       "      <td>0</td>\n",
       "      <td>0</td>\n",
       "      <td>0</td>\n",
       "      <td>0</td>\n",
       "      <td>0</td>\n",
       "      <td>0</td>\n",
       "      <td>0</td>\n",
       "      <td>0</td>\n",
       "      <td>0</td>\n",
       "    </tr>\n",
       "    <tr>\n",
       "      <th>4</th>\n",
       "      <td>5</td>\n",
       "      <td>0</td>\n",
       "      <td>0</td>\n",
       "      <td>0</td>\n",
       "      <td>0</td>\n",
       "      <td>0</td>\n",
       "      <td>0</td>\n",
       "      <td>0</td>\n",
       "      <td>0</td>\n",
       "      <td>0</td>\n",
       "      <td>...</td>\n",
       "      <td>0</td>\n",
       "      <td>0</td>\n",
       "      <td>0</td>\n",
       "      <td>0</td>\n",
       "      <td>0</td>\n",
       "      <td>0</td>\n",
       "      <td>0</td>\n",
       "      <td>0</td>\n",
       "      <td>0</td>\n",
       "      <td>0</td>\n",
       "    </tr>\n",
       "  </tbody>\n",
       "</table>\n",
       "<p>5 rows × 785 columns</p>\n",
       "</div>"
      ],
      "text/plain": [
       "   label  pixel0  pixel1  pixel2  pixel3  pixel4  pixel5  pixel6  pixel7  \\\n",
       "0      7       0       0       0       0       0       0       0       0   \n",
       "1      8       0       0       0       0       0       0       0       0   \n",
       "2      7       0       0       0       0       0       0       0       0   \n",
       "3      6       0       0       0       0       0       0       0       0   \n",
       "4      5       0       0       0       0       0       0       0       0   \n",
       "\n",
       "   pixel8    ...     pixel774  pixel775  pixel776  pixel777  pixel778  \\\n",
       "0       0    ...            0         0         0         0         0   \n",
       "1       0    ...            0         0         0         0         0   \n",
       "2       0    ...            0         0         0         0         0   \n",
       "3       0    ...            0         0         0         0         0   \n",
       "4       0    ...            0         0         0         0         0   \n",
       "\n",
       "   pixel779  pixel780  pixel781  pixel782  pixel783  \n",
       "0         0         0         0         0         0  \n",
       "1         0         0         0         0         0  \n",
       "2         0         0         0         0         0  \n",
       "3         0         0         0         0         0  \n",
       "4         0         0         0         0         0  \n",
       "\n",
       "[5 rows x 785 columns]"
      ]
     },
     "execution_count": 88,
     "metadata": {},
     "output_type": "execute_result"
    }
   ],
   "source": [
    "train_data.head()"
   ]
  },
  {
   "cell_type": "code",
   "execution_count": 89,
   "metadata": {},
   "outputs": [],
   "source": [
    "X_train = train_data.drop('label',axis = 1).values\n",
    "y_train = train_data['label'].values\n",
    "\n",
    "X_test = test_data.iloc[:,1:].values"
   ]
  },
  {
   "cell_type": "code",
   "execution_count": 90,
   "metadata": {},
   "outputs": [
    {
     "data": {
      "text/plain": [
       "((42000, 784), (42000,), (18000, 784))"
      ]
     },
     "execution_count": 90,
     "metadata": {},
     "output_type": "execute_result"
    }
   ],
   "source": [
    "X_train.shape, y_train.shape, X_test.shape"
   ]
  },
  {
   "cell_type": "code",
   "execution_count": 91,
   "metadata": {},
   "outputs": [
    {
     "data": {
      "image/png": "[encoded data removed]",
      "text/plain": [
       "<Figure size 432x288 with 1 Axes>"
      ]
     },
     "metadata": {
      "needs_background": "light"
     },
     "output_type": "display_data"
    }
   ],
   "source": [
    "# 출력 해보기\n",
    "\n",
    "index = 0\n",
    "image = X_train[index].reshape(28,28)\n",
    "plt.imshow(image, 'gray')\n",
    "plt.title('label : {}'.format(y_train[index]))\n",
    "plt.show()"
   ]
  },
  {
   "cell_type": "code",
   "execution_count": 92,
   "metadata": {},
   "outputs": [
    {
     "name": "stdout",
     "output_type": "stream",
     "text": [
      "maximum value after scaling: 1.0 \n",
      "minimum value after scaling: 0.0\n"
     ]
    }
   ],
   "source": [
    "# scaling\n",
    "X_train = X_train.astype(np.float)\n",
    "X_test = X_test.astype(np.float)\n",
    "X_train /= 255\n",
    "X_test /= 255\n",
    "\n",
    "print('maximum value after scaling:', X_train.max(),\n",
    "      '\\nminimum value after scaling:' ,X_train.min())"
   ]
  },
  {
   "cell_type": "code",
   "execution_count": 93,
   "metadata": {},
   "outputs": [
    {
     "name": "stdout",
     "output_type": "stream",
     "text": [
      "(33600, 784) (33600,)\n",
      "(8400, 784) (8400,)\n"
     ]
    }
   ],
   "source": [
    "# train test split\n",
    "X_train, X_val, y_train, y_val = train_test_split(X_train, y_train, test_size=0.2)\n",
    "\n",
    "print(X_train.shape, y_train.shape)\n",
    "print(X_val.shape, y_val.shape)"
   ]
  },
  {
   "cell_type": "code",
   "execution_count": 94,
   "metadata": {},
   "outputs": [],
   "source": [
    "use_cuda = torch.cuda.is_available()\n",
    "device = torch.device(\"cuda:0\" if use_cuda else \"cpu\")"
   ]
  },
  {
   "cell_type": "code",
   "execution_count": 95,
   "metadata": {},
   "outputs": [],
   "source": [
    "X_train = X_train.reshape((len(X_train),1,28,28))\n",
    "X_val = X_val.reshape((len(X_val),1,28,28))\n",
    "X_test = X_test.reshape((len(X_test),1,28,28))"
   ]
  },
  {
   "cell_type": "code",
   "execution_count": 96,
   "metadata": {},
   "outputs": [],
   "source": [
    "y_train = y_train.astype('int32')\n",
    "y_val = y_val.astype('int32')"
   ]
  },
  {
   "cell_type": "code",
   "execution_count": 97,
   "metadata": {},
   "outputs": [],
   "source": [
    "X_train = torch.from_numpy(X_train).float()\n",
    "y_train = torch.from_numpy(y_train).long()\n",
    "X_val = torch.from_numpy(X_val).float()\n",
    "y_val = torch.from_numpy(y_val).long()\n",
    "X_test = torch.from_numpy(X_test).float()"
   ]
  },
  {
   "cell_type": "code",
   "execution_count": 98,
   "metadata": {},
   "outputs": [],
   "source": [
    "train_set = TensorDataset(X_train,y_train)\n",
    "val_set = TensorDataset(X_val,y_val)"
   ]
  },
  {
   "cell_type": "code",
   "execution_count": 99,
   "metadata": {},
   "outputs": [],
   "source": [
    "train_loader = DataLoader(train_set, batch_size=512, shuffle=True)\n",
    "val_loader = DataLoader(val_set, batch_size=512,shuffle=True)\n",
    "dataloaders = {'train':train_loader, 'val':val_loader} # 밑의 함수에서 phase에 따라 학습 및 평가를 진행하기 위해 dict타입으로 저장"
   ]
  },
  {
   "cell_type": "markdown",
   "metadata": {},
   "source": [
    " - data를 tensor로 변환 시킨다\n",
    " - TensorDataset을 이용해 X,y를 합친다\n",
    " - Dataloader를 이용해 배치를 나눠주고 데이터를 섞는다\n",
    " - Batch size: 512"
   ]
  },
  {
   "cell_type": "code",
   "execution_count": 77,
   "metadata": {},
   "outputs": [],
   "source": [
    "#학습 및 평가를 진행하는 함수를 정의 한다\n",
    "def train_model(model, dataloaders, criterion, optimizer, num_epochs):\n",
    "    \n",
    "    global train_loss_history\n",
    "    global val_loss_history\n",
    "    train_loss_history = []\n",
    "    val_loss_history = []\n",
    "    val_acc_history = []\n",
    "    \n",
    "    best_model_wts = copy.deepcopy(model.state_dict())\n",
    "    best_acc = 0.0\n",
    "    \n",
    "    for epoch in range(num_epochs):\n",
    "        print(\"Epoch {}/{}\".format(epoch, num_epochs-1))\n",
    "        print('-'*10)\n",
    "        \n",
    "        for phase in ['train','val']:\n",
    "            if phase == 'train':\n",
    "                model.train()\n",
    "                exp_lr_scheduler.step()\n",
    "            else:\n",
    "                model.eval()\n",
    "                \n",
    "            running_loss = 0.0\n",
    "            running_corrects = 0.0\n",
    "            \n",
    "            for inputs, labels in dataloaders[phase]:\n",
    "                inputs = inputs.to(device)\n",
    "                labels = labels.to(device)\n",
    "                \n",
    "                optimizer.zero_grad()\n",
    "                \n",
    "                with torch.set_grad_enabled(phase == 'train'):\n",
    "                    outputs = model(inputs)\n",
    "                    loss = criterion(outputs, labels)\n",
    "                \n",
    "                    _, preds = torch.max(outputs, 1)\n",
    "                    \n",
    "                    if phase == 'train':\n",
    "                        loss.backward()\n",
    "                        optimizer.step()\n",
    "                    \n",
    "                running_loss += loss.item() * inputs.size(0)\n",
    "                running_corrects += torch.sum(preds == labels.data)\n",
    "            \n",
    "            epoch_loss = running_loss / len(dataloaders[phase].dataset)\n",
    "            epoch_acc = running_corrects.double() / len(dataloaders[phase].dataset)\n",
    "        \n",
    "            if phase == 'train':\n",
    "                train_loss_history.append(epoch_loss)\n",
    "            else:\n",
    "                val_loss_history.append(epoch_loss)\n",
    "\n",
    "            print(\"{} Loss: {:.4f} Acc: {:.4f}\".format(phase, epoch_loss, epoch_acc))\n",
    "\n",
    "            if phase == 'val' and epoch_acc > best_acc:\n",
    "                best_acc = epoch_acc\n",
    "                best_model_wts = copy.deepcopy(model.state_dict())\n",
    "            if phase == 'val':\n",
    "                val_acc_history.append(epoch_acc)\n",
    "\n",
    "        print()\n",
    "    \n",
    "    print(\"Best val Acc: {:4f}\".format(best_acc))\n",
    "    \n",
    "    model.load_state_dict(best_model_wts)\n",
    "    return model, val_acc_history"
   ]
  },
  {
   "cell_type": "markdown",
   "metadata": {},
   "source": [
    "## CNN(Convolutional Neural Network)생성"
   ]
  },
  {
   "cell_type": "markdown",
   "metadata": {},
   "source": [
    "### CNN1\n",
    " - cnn 초기 모델인 lenet을 이용해서 만든 기본 모델\n",
    " - batchnormalization, dropout, weight initialization 등 처리 X"
   ]
  },
  {
   "cell_type": "code",
   "execution_count": 23,
   "metadata": {},
   "outputs": [],
   "source": [
    "class CNN1(nn.Module):\n",
    "    def __init__(self):\n",
    "        super(CNN1, self).__init__()\n",
    "        self.features = nn.Sequential(\n",
    "            nn.Conv2d(1,6,5),\n",
    "            nn.ReLU(),\n",
    "            nn.MaxPool2d(2,2),\n",
    "            nn.Conv2d(6,16,5),\n",
    "            nn.ReLU(),\n",
    "            nn.MaxPool2d(2,2))\n",
    "        \n",
    "        self.classifier = nn.Sequential(\n",
    "            nn.Linear(16*4*4,120),\n",
    "            nn.ReLU(),\n",
    "            nn.Linear(120,84),\n",
    "            nn.ReLU(),\n",
    "            nn.Linear(84,10))\n",
    "    \n",
    "    def forward(self,x):\n",
    "        x = self.features(x)\n",
    "        x = torch.flatten(x,1)\n",
    "        x = self.classifier(x)\n",
    "        return x"
   ]
  },
  {
   "cell_type": "markdown",
   "metadata": {},
   "source": [
    "### CNN2\n",
    " - batchnormalization과 dropout사용"
   ]
  },
  {
   "cell_type": "code",
   "execution_count": 24,
   "metadata": {},
   "outputs": [],
   "source": [
    "class CNN2(nn.Module):\n",
    "    def __init__(self):\n",
    "        super(CNN2, self).__init__()\n",
    "        self.features = nn.Sequential(\n",
    "            nn.Conv2d(1,6,5),\n",
    "            nn.BatchNorm2d(6),\n",
    "            nn.ReLU(),\n",
    "            nn.MaxPool2d(2,2),\n",
    "            nn.Conv2d(6,16,5),\n",
    "            nn.BatchNorm2d(16),\n",
    "            nn.ReLU(),\n",
    "            nn.MaxPool2d(2,2))\n",
    "        \n",
    "        self.classifier = nn.Sequential(\n",
    "            nn.Dropout(),\n",
    "            nn.Linear(16*4*4,120),\n",
    "            nn.BatchNorm1d(120),\n",
    "            nn.ReLU(),\n",
    "            nn.Dropout(),\n",
    "            nn.Linear(120,84),\n",
    "            nn.BatchNorm1d(84),\n",
    "            nn.ReLU(),\n",
    "            nn.Linear(84,10))\n",
    "    \n",
    "    def forward(self,x):\n",
    "        x = self.features(x)\n",
    "        x = torch.flatten(x,1)\n",
    "        x = self.classifier(x)\n",
    "        return x"
   ]
  },
  {
   "cell_type": "markdown",
   "metadata": {},
   "source": [
    "### CNN3\n",
    " - 은닉층의 활성화 함수를 leakyrelu 사용"
   ]
  },
  {
   "cell_type": "code",
   "execution_count": 25,
   "metadata": {},
   "outputs": [],
   "source": [
    "class CNN3(nn.Module):\n",
    "    def __init__(self):\n",
    "        super(CNN3, self).__init__()\n",
    "        self.features = nn.Sequential(\n",
    "            nn.Conv2d(1,6,5),\n",
    "            nn.LeakyReLU(),\n",
    "            nn.MaxPool2d(2,2),\n",
    "            nn.Conv2d(6,16,5),\n",
    "            nn.LeakyReLU(),\n",
    "            nn.MaxPool2d(2,2))\n",
    "        \n",
    "        self.classifier = nn.Sequential(\n",
    "            nn.Linear(16*4*4,120),\n",
    "            nn.LeakyReLU(),\n",
    "            nn.Linear(120,84),\n",
    "            nn.LeakyReLU(),\n",
    "            nn.Linear(84,10))\n",
    "    \n",
    "    def forward(self,x):\n",
    "        x = self.features(x)\n",
    "        x = torch.flatten(x,1)\n",
    "        x = self.classifier(x)\n",
    "        return x"
   ]
  },
  {
   "cell_type": "markdown",
   "metadata": {},
   "source": [
    "### Weight initialization"
   ]
  },
  {
   "cell_type": "code",
   "execution_count": 61,
   "metadata": {},
   "outputs": [
    {
     "name": "stdout",
     "output_type": "stream",
     "text": [
      "\n"
     ]
    }
   ],
   "source": [
    "def weights_init(m):\n",
    "    if isinstance(m, nn.Linear):\n",
    "        nn.init.kaiming_normal(m.weight.data)\n",
    " \n",
    "'''\n",
    "nn.Linear\n",
    "def reset_parameters(self) -> None:\n",
    "        init.kaiming_uniform_(self.weight, a=math.sqrt(5))\n",
    "        if self.bias is not None:\n",
    "            fan_in, _ = init._calculate_fan_in_and_fan_out(self.weight)\n",
    "            bound = 1 / math.sqrt(fan_in)\n",
    "            init.uniform_(self.bias, -bound, bound)\n",
    "\n",
    "nn.conv2d\n",
    "def reset_parameters(self) -> None:\n",
    "        init.kaiming_uniform_(self.weight, a=math.sqrt(5))\n",
    "        if self.bias is not None:\n",
    "            fan_in, _ = init._calculate_fan_in_and_fan_out(self.weight)\n",
    "            bound = 1 / math.sqrt(fan_in)\n",
    "            init.uniform_(self.bias, -bound, bound)\n",
    "'''\n",
    "print()"
   ]
  },
  {
   "cell_type": "markdown",
   "metadata": {},
   "source": [
    "pytorch 공식 문서(source code)\n",
    " - nn.linear 소스코드:https://pytorch.org/docs/stable/_modules/torch/nn/modules/linear.html#Linear\n",
    " - nn.conv2d 소스코드:https://pytorch.org/docs/stable/_modules/torch/nn/modules/conv.html#Conv2d  \n",
    "위 소스코드들의 reset_parameters를 확인하여 pytorch는 hidden layer 생성시 linear와 conv2d층에서 weight initialization으로  \n",
    "kaiming uniform(=he uniform)을 사용하는 것을 확인 할 수 있었다.  \n",
    "과거 문서에서 pytorch는 Xavier를 사용한다는 얘기가 있었는데, 개인적인 생각으로는 많은 사람들이 활성화 함수로 RELU를 사용하므로  \n",
    "이에 맞춰 RELU에서 더 효과가 좋은 initalization방법이 kaiming 방법을 사용하는 것으로 생각된다  \n",
    "  \n",
    "initialization 방법에 따른 성능 비교를 위해 nn.Linear로 구성된 classifier층의 hidden layer들에 대해 kaiming normal을 사용한  \n",
    "초기화를 적용하기 위해 해당 함수를 정의했다"
   ]
  },
  {
   "cell_type": "markdown",
   "metadata": {},
   "source": [
    "## Model Train\n",
    " - 여러 모델들을 비교하는 학습이기때문에 출력값들이 많으면 스크롤이 길어질것을 고려해서 train_model함수의 print구문을 주석처리해서 print문의 수를 줄였습니다\n",
    " - 이후 transfer learning에서는 주석 처리를 해제한 후 학습할 예정입니다"
   ]
  },
  {
   "cell_type": "code",
   "execution_count": 27,
   "metadata": {},
   "outputs": [
    {
     "name": "stdout",
     "output_type": "stream",
     "text": [
      "CNN1 training start\n",
      "Best val Acc: 0.989405\n"
     ]
    },
    {
     "data": {
      "image/png": "[encoded data removed]",
      "text/plain": [
       "<Figure size 432x288 with 1 Axes>"
      ]
     },
     "metadata": {
      "needs_background": "light"
     },
     "output_type": "display_data"
    },
    {
     "name": "stdout",
     "output_type": "stream",
     "text": [
      "CNN1 normal he init training start\n",
      "Best val Acc: 0.992262\n"
     ]
    },
    {
     "data": {
      "image/png": "[encoded data removed]",
      "text/plain": [
       "<Figure size 432x288 with 1 Axes>"
      ]
     },
     "metadata": {
      "needs_background": "light"
     },
     "output_type": "display_data"
    },
    {
     "name": "stdout",
     "output_type": "stream",
     "text": [
      "CNN2 training start\n",
      "Best val Acc: 0.993810\n"
     ]
    },
    {
     "data": {
      "image/png": "[encoded data removed]",
      "text/plain": [
       "<Figure size 432x288 with 1 Axes>"
      ]
     },
     "metadata": {
      "needs_background": "light"
     },
     "output_type": "display_data"
    },
    {
     "name": "stdout",
     "output_type": "stream",
     "text": [
      "CNN3 training start\n",
      "Best val Acc: 0.993214\n"
     ]
    },
    {
     "data": {
      "image/png": "[encoded data removed]",
      "text/plain": [
       "<Figure size 432x288 with 1 Axes>"
      ]
     },
     "metadata": {
      "needs_background": "light"
     },
     "output_type": "display_data"
    }
   ],
   "source": [
    "#train\n",
    "for i, cnn in enumerate([CNN1, CNN2, CNN3]):\n",
    "    model = cnn().to(device)\n",
    "    criterion = nn.CrossEntropyLoss() #손실함수\n",
    "    optimizer = optim.Adam(model.parameters(), lr = 0.001) #Adam 사용\n",
    "    \n",
    "    print(f\"{cnn.__name__} training start\")\n",
    "    train_model(model = model, dataloaders=dataloaders, criterion=criterion, optimizer=optimizer, num_epochs = 30)\n",
    "    plt.plot(train_loss_history, 'bo-', label = 'train')\n",
    "    plt.plot(val_loss_history, 'ro-', label = 'val')\n",
    "    plt.title('loss history')\n",
    "    plt.xlabel('epoch')\n",
    "    plt.ylabel('loss')\n",
    "    plt.legend()\n",
    "    plt.show()\n",
    "    \n",
    "    if i == 0: #Normal He initialization 경우\n",
    "        model = cnn().to(device)\n",
    "        model.apply(weights_init) #weight initialization(He)\n",
    "        criterion = nn.CrossEntropyLoss() #손실함수\n",
    "        optimizer = optim.Adam(model.parameters(), lr = 0.001) #Adam 사용\n",
    "    \n",
    "        print(f\"{cnn.__name__} normal he init training start\")\n",
    "        train_model(model = model, dataloaders=dataloaders, criterion=criterion, optimizer=optimizer, num_epochs = 30)\n",
    "        plt.plot(train_loss_history, 'bo-', label = 'train')\n",
    "        plt.plot(val_loss_history, 'ro-', label = 'val')\n",
    "        plt.title('loss history')\n",
    "        plt.xlabel('epoch')\n",
    "        plt.ylabel('loss')\n",
    "        plt.legend()\n",
    "        plt.show()"
   ]
  },
  {
   "cell_type": "markdown",
   "metadata": {},
   "source": [
    "## 학습 결과\n",
    " - weight initialzation 방법을 변경한 모델이 기본 모델보다 높은 정확도를 보여줬다\n",
    " - batchnorm과 dropout을 사용한 모델이 기본 모델보다 높은 정확도를 보여줬다\n",
    " - 활성화 함수로 Leakyrelu를 사용한 모델은 기본 모델보다 높은 정확도를 보여줬다\n",
    " - 최고 성능 모델: batchnorm & dropout model(CNN2)"
   ]
  },
  {
   "cell_type": "markdown",
   "metadata": {},
   "source": [
    "## Transfer Learning(전이학습)\n",
    " - Transfer Learning이란: Transfer learning (TL) is a research problem in machine learning (ML) that focuses on storing knowledge gained while solving one problem and applying it to a different but related problem. (출처: google wiki)\n",
    " - 우수한 모델을 통한 전이학습을 적용하기 위해 kaggle의 Mnist문제(수업예제 데이터로 학습하는 모델 kaggle competition data x) 선택 https://www.kaggle.com/juiyangchang/cnn-with-pytorch-0-995-accuracy\n",
    " - 위 캐글 notebook을 참고해 model을 설계하고, 다른 데이터로 학습 시킨 후 현재 모델에 적용 후 학습 \n",
    " - 위 캐글에서는 입력으로 받는 numpy 배열을 pillow패키지를 활용해서 사진이미지로 변환 후 torchvision을 통해 data augmentation과정을 거쳐 overfitting 문제를 해결하려 했다\n",
    " - data augmentation과정을 이용하여 학습된 parameter들을 활용해 현재 모델에 학습해 위상변화에 강한 모델 생성\n",
    " - competition에 제출한 전이학습 csv파일의 점수가 기본학습 csv파일의 점수보다 높았다\n",
    " - -> 위상변화에 강한가? competition 점수는 높았지만, 두 모델 모두 99%이상의 정확도를 보여줘서 정확도의 차이가 적었다. 따라서 'Data augmentation을 한 전이학습 모델이 위상변화에 강하다'라는 결론은\n",
    "   좀 더 검증이 필요하다가 생각된다.  "
   ]
  },
  {
   "cell_type": "code",
   "execution_count": 28,
   "metadata": {},
   "outputs": [],
   "source": [
    "class Net(nn.Module):    \n",
    "    def __init__(self):\n",
    "        super(Net, self).__init__()\n",
    "          \n",
    "        self.features = nn.Sequential(\n",
    "            nn.Conv2d(1, 32, kernel_size=3, stride=1, padding=1),\n",
    "            nn.BatchNorm2d(32),\n",
    "            nn.ReLU(inplace=True),\n",
    "            nn.Conv2d(32, 32, kernel_size=3, stride=1, padding=1),\n",
    "            nn.BatchNorm2d(32),\n",
    "            nn.ReLU(inplace=True),\n",
    "            nn.MaxPool2d(kernel_size=2, stride=2),\n",
    "            nn.Conv2d(32, 64, kernel_size=3, padding=1),\n",
    "            nn.BatchNorm2d(64),\n",
    "            nn.ReLU(inplace=True),\n",
    "            nn.Conv2d(64, 64, kernel_size=3, padding=1),\n",
    "            nn.BatchNorm2d(64),\n",
    "            nn.ReLU(inplace=True),\n",
    "            nn.MaxPool2d(kernel_size=2, stride=2)\n",
    "        )\n",
    "          \n",
    "        self.classifier = nn.Sequential(\n",
    "            nn.Dropout(p = 0.5),\n",
    "            nn.Linear(64 * 7 * 7, 512),\n",
    "            nn.BatchNorm1d(512),\n",
    "            nn.ReLU(inplace=True),\n",
    "            nn.Dropout(p = 0.5),\n",
    "            nn.Linear(512, 512),\n",
    "            nn.BatchNorm1d(512),\n",
    "            nn.ReLU(inplace=True),\n",
    "            nn.Dropout(p = 0.5),\n",
    "            nn.Linear(512, 10),\n",
    "        )\n",
    "\n",
    "                \n",
    "\n",
    "    def forward(self, x):\n",
    "        x = self.features(x)\n",
    "        x = torch.flatten(x,1)\n",
    "        x = self.classifier(x)\n",
    "        \n",
    "        return x"
   ]
  },
  {
   "cell_type": "code",
   "execution_count": 100,
   "metadata": {},
   "outputs": [
    {
     "data": {
      "text/plain": [
       "<All keys matched successfully>"
      ]
     },
     "execution_count": 100,
     "metadata": {},
     "output_type": "execute_result"
    }
   ],
   "source": [
    "#모델 생성 및 학습된 parameter 불러오기\n",
    "model = Net().to(device)\n",
    "model.load_state_dict(torch.load('pretrained.pth'))"
   ]
  },
  {
   "cell_type": "code",
   "execution_count": 101,
   "metadata": {},
   "outputs": [
    {
     "name": "stdout",
     "output_type": "stream",
     "text": [
      "Epoch 0/49\n",
      "----------\n",
      "train Loss: 1.6785 Acc: 0.7476\n",
      "val Loss: 0.1521 Acc: 0.9656\n",
      "\n",
      "Epoch 1/49\n",
      "----------\n",
      "train Loss: 0.1799 Acc: 0.9547\n",
      "val Loss: 0.0701 Acc: 0.9839\n",
      "\n",
      "Epoch 2/49\n",
      "----------\n",
      "train Loss: 0.1063 Acc: 0.9722\n",
      "val Loss: 0.0477 Acc: 0.9889\n",
      "\n",
      "Epoch 3/49\n",
      "----------\n",
      "train Loss: 0.0755 Acc: 0.9796\n",
      "val Loss: 0.0376 Acc: 0.9906\n",
      "\n",
      "Epoch 4/49\n",
      "----------\n",
      "train Loss: 0.0593 Acc: 0.9838\n",
      "val Loss: 0.0293 Acc: 0.9927\n",
      "\n",
      "Epoch 5/49\n",
      "----------\n",
      "train Loss: 0.0484 Acc: 0.9863\n",
      "val Loss: 0.0257 Acc: 0.9930\n",
      "\n",
      "Epoch 6/49\n",
      "----------\n",
      "train Loss: 0.0424 Acc: 0.9886\n",
      "val Loss: 0.0254 Acc: 0.9932\n",
      "\n",
      "Epoch 7/49\n",
      "----------\n",
      "train Loss: 0.0435 Acc: 0.9875\n",
      "val Loss: 0.0249 Acc: 0.9935\n",
      "\n",
      "Epoch 8/49\n",
      "----------\n",
      "train Loss: 0.0428 Acc: 0.9880\n",
      "val Loss: 0.0247 Acc: 0.9935\n",
      "\n",
      "Epoch 9/49\n",
      "----------\n",
      "train Loss: 0.0416 Acc: 0.9887\n",
      "val Loss: 0.0241 Acc: 0.9932\n",
      "\n",
      "Epoch 10/49\n",
      "----------\n",
      "train Loss: 0.0403 Acc: 0.9887\n",
      "val Loss: 0.0239 Acc: 0.9933\n",
      "\n",
      "Epoch 11/49\n",
      "----------\n",
      "train Loss: 0.0407 Acc: 0.9890\n",
      "val Loss: 0.0234 Acc: 0.9933\n",
      "\n",
      "Epoch 12/49\n",
      "----------\n",
      "train Loss: 0.0408 Acc: 0.9886\n",
      "val Loss: 0.0230 Acc: 0.9935\n",
      "\n",
      "Epoch 13/49\n",
      "----------\n",
      "train Loss: 0.0374 Acc: 0.9898\n",
      "val Loss: 0.0230 Acc: 0.9935\n",
      "\n",
      "Epoch 14/49\n",
      "----------\n",
      "train Loss: 0.0372 Acc: 0.9889\n",
      "val Loss: 0.0230 Acc: 0.9936\n",
      "\n",
      "Epoch 15/49\n",
      "----------\n",
      "train Loss: 0.0395 Acc: 0.9888\n",
      "val Loss: 0.0231 Acc: 0.9938\n",
      "\n",
      "Epoch 16/49\n",
      "----------\n",
      "train Loss: 0.0374 Acc: 0.9890\n",
      "val Loss: 0.0231 Acc: 0.9935\n",
      "\n",
      "Epoch 17/49\n",
      "----------\n",
      "train Loss: 0.0366 Acc: 0.9898\n",
      "val Loss: 0.0230 Acc: 0.9937\n",
      "\n",
      "Epoch 18/49\n",
      "----------\n",
      "train Loss: 0.0373 Acc: 0.9891\n",
      "val Loss: 0.0228 Acc: 0.9935\n",
      "\n",
      "Epoch 19/49\n",
      "----------\n",
      "train Loss: 0.0359 Acc: 0.9895\n",
      "val Loss: 0.0229 Acc: 0.9936\n",
      "\n",
      "Epoch 20/49\n",
      "----------\n",
      "train Loss: 0.0350 Acc: 0.9906\n",
      "val Loss: 0.0228 Acc: 0.9933\n",
      "\n",
      "Epoch 21/49\n",
      "----------\n",
      "train Loss: 0.0375 Acc: 0.9895\n",
      "val Loss: 0.0228 Acc: 0.9936\n",
      "\n",
      "Epoch 22/49\n",
      "----------\n",
      "train Loss: 0.0370 Acc: 0.9895\n",
      "val Loss: 0.0228 Acc: 0.9936\n",
      "\n",
      "Epoch 23/49\n",
      "----------\n",
      "train Loss: 0.0377 Acc: 0.9887\n",
      "val Loss: 0.0228 Acc: 0.9933\n",
      "\n",
      "Epoch 24/49\n",
      "----------\n",
      "train Loss: 0.0376 Acc: 0.9890\n",
      "val Loss: 0.0228 Acc: 0.9935\n",
      "\n",
      "Epoch 25/49\n",
      "----------\n",
      "train Loss: 0.0376 Acc: 0.9887\n",
      "val Loss: 0.0228 Acc: 0.9935\n",
      "\n",
      "Epoch 26/49\n",
      "----------\n",
      "train Loss: 0.0379 Acc: 0.9897\n",
      "val Loss: 0.0229 Acc: 0.9938\n",
      "\n",
      "Epoch 27/49\n",
      "----------\n",
      "train Loss: 0.0372 Acc: 0.9895\n",
      "val Loss: 0.0229 Acc: 0.9936\n",
      "\n",
      "Epoch 28/49\n",
      "----------\n",
      "train Loss: 0.0386 Acc: 0.9895\n",
      "val Loss: 0.0228 Acc: 0.9935\n",
      "\n",
      "Epoch 29/49\n",
      "----------\n",
      "train Loss: 0.0378 Acc: 0.9894\n",
      "val Loss: 0.0229 Acc: 0.9936\n",
      "\n",
      "Epoch 30/49\n",
      "----------\n",
      "train Loss: 0.0373 Acc: 0.9896\n",
      "val Loss: 0.0227 Acc: 0.9936\n",
      "\n",
      "Epoch 31/49\n",
      "----------\n",
      "train Loss: 0.0382 Acc: 0.9894\n",
      "val Loss: 0.0227 Acc: 0.9935\n",
      "\n",
      "Epoch 32/49\n",
      "----------\n",
      "train Loss: 0.0409 Acc: 0.9885\n",
      "val Loss: 0.0227 Acc: 0.9935\n",
      "\n",
      "Epoch 33/49\n",
      "----------\n",
      "train Loss: 0.0357 Acc: 0.9892\n",
      "val Loss: 0.0228 Acc: 0.9935\n",
      "\n",
      "Epoch 34/49\n",
      "----------\n",
      "train Loss: 0.0381 Acc: 0.9886\n",
      "val Loss: 0.0229 Acc: 0.9935\n",
      "\n",
      "Epoch 35/49\n",
      "----------\n",
      "train Loss: 0.0365 Acc: 0.9898\n",
      "val Loss: 0.0227 Acc: 0.9937\n",
      "\n",
      "Epoch 36/49\n",
      "----------\n",
      "train Loss: 0.0387 Acc: 0.9890\n",
      "val Loss: 0.0230 Acc: 0.9933\n",
      "\n",
      "Epoch 37/49\n",
      "----------\n",
      "train Loss: 0.0393 Acc: 0.9891\n",
      "val Loss: 0.0227 Acc: 0.9935\n",
      "\n",
      "Epoch 38/49\n",
      "----------\n",
      "train Loss: 0.0349 Acc: 0.9903\n",
      "val Loss: 0.0227 Acc: 0.9935\n",
      "\n",
      "Epoch 39/49\n",
      "----------\n",
      "train Loss: 0.0375 Acc: 0.9891\n",
      "val Loss: 0.0229 Acc: 0.9937\n",
      "\n",
      "Epoch 40/49\n",
      "----------\n",
      "train Loss: 0.0362 Acc: 0.9892\n",
      "val Loss: 0.0229 Acc: 0.9933\n",
      "\n",
      "Epoch 41/49\n",
      "----------\n",
      "train Loss: 0.0365 Acc: 0.9895\n",
      "val Loss: 0.0227 Acc: 0.9936\n",
      "\n",
      "Epoch 42/49\n",
      "----------\n",
      "train Loss: 0.0377 Acc: 0.9902\n",
      "val Loss: 0.0228 Acc: 0.9935\n",
      "\n",
      "Epoch 43/49\n",
      "----------\n",
      "train Loss: 0.0349 Acc: 0.9897\n",
      "val Loss: 0.0229 Acc: 0.9936\n",
      "\n",
      "Epoch 44/49\n",
      "----------\n",
      "train Loss: 0.0377 Acc: 0.9895\n",
      "val Loss: 0.0227 Acc: 0.9936\n",
      "\n",
      "Epoch 45/49\n",
      "----------\n",
      "train Loss: 0.0381 Acc: 0.9895\n",
      "val Loss: 0.0229 Acc: 0.9936\n",
      "\n",
      "Epoch 46/49\n",
      "----------\n",
      "train Loss: 0.0382 Acc: 0.9890\n",
      "val Loss: 0.0228 Acc: 0.9936\n",
      "\n",
      "Epoch 47/49\n",
      "----------\n",
      "train Loss: 0.0366 Acc: 0.9899\n",
      "val Loss: 0.0228 Acc: 0.9937\n",
      "\n",
      "Epoch 48/49\n",
      "----------\n",
      "train Loss: 0.0372 Acc: 0.9895\n",
      "val Loss: 0.0229 Acc: 0.9935\n",
      "\n",
      "Epoch 49/49\n",
      "----------\n",
      "train Loss: 0.0379 Acc: 0.9892\n",
      "val Loss: 0.0228 Acc: 0.9936\n",
      "\n",
      "Best val Acc: 0.993810\n"
     ]
    },
    {
     "data": {
      "image/png": "[encoded data removed]",
      "text/plain": [
       "<Figure size 432x288 with 1 Axes>"
      ]
     },
     "metadata": {
      "needs_background": "light"
     },
     "output_type": "display_data"
    }
   ],
   "source": [
    "#학습 및 시각화\n",
    "criterion = nn.CrossEntropyLoss()\n",
    "\n",
    "optimizer = optim.Adam(model.parameters(), lr = 0.003) #Adam 사용\n",
    "\n",
    "exp_lr_scheduler = lr_scheduler.StepLR(optimizer, step_size=7, gamma=0.1) #특정 step마다 lr을 gamma 비율만큼 감소시킨다\n",
    "\n",
    "train_model(model = model, dataloaders=dataloaders, criterion=criterion, optimizer=optimizer, num_epochs = 50) #epoch 50\n",
    "\n",
    "plt.plot(train_loss_history, 'bo-', label = 'train')\n",
    "plt.plot(val_loss_history, 'ro-', label = 'val')\n",
    "plt.title('loss history')\n",
    "plt.xlabel('epoch')\n",
    "plt.ylabel('loss')\n",
    "plt.legend()\n",
    "plt.show()"
   ]
  },
  {
   "cell_type": "markdown",
   "metadata": {},
   "source": [
    "## 예측 및 제출 파일 생성"
   ]
  },
  {
   "cell_type": "code",
   "execution_count": 103,
   "metadata": {},
   "outputs": [],
   "source": [
    "X_test = X_test.cuda()\n",
    "with torch.no_grad():\n",
    "    result = torch.max(model(X_test).data,1)[1]"
   ]
  },
  {
   "cell_type": "code",
   "execution_count": 104,
   "metadata": {},
   "outputs": [
    {
     "data": {
      "text/plain": [
       "tensor([8, 0, 5, 3, 8], device='cuda:0')"
      ]
     },
     "execution_count": 104,
     "metadata": {},
     "output_type": "execute_result"
    }
   ],
   "source": [
    "result[:5]"
   ]
  },
  {
   "cell_type": "code",
   "execution_count": 84,
   "metadata": {},
   "outputs": [],
   "source": [
    "sample_submission = pd.read_csv('tobigs14-mnist-competition/sample_submission.csv')"
   ]
  },
  {
   "cell_type": "code",
   "execution_count": 105,
   "metadata": {},
   "outputs": [],
   "source": [
    "result = result.cpu() #pandas series로 처리하기 위해서"
   ]
  },
  {
   "cell_type": "code",
   "execution_count": 86,
   "metadata": {},
   "outputs": [],
   "source": [
    "sample_submission['Category'] = pd.Series(result)\n",
    "sample_submission.to_csv(\"submission.csv\", index = False)"
   ]
  },
  {
   "cell_type": "code",
   "execution_count": null,
   "metadata": {},
   "outputs": [],
   "source": []
  }
 ],
 "metadata": {
  "kernelspec": {
   "display_name": "Python 3",
   "language": "python",
   "name": "python3"
  },
  "language_info": {
   "codemirror_mode": {
    "name": "ipython",
    "version": 3
   },
   "file_extension": ".py",
   "mimetype": "text/x-python",
   "name": "python",
   "nbconvert_exporter": "python",
   "pygments_lexer": "ipython3",
   "version": "3.6.7"
  }
 },
 "nbformat": 4,
 "nbformat_minor": 2
}
