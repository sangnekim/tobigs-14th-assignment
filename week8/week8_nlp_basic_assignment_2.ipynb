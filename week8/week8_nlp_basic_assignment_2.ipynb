{
 "cells": [
  {
   "cell_type": "markdown",
   "metadata": {},
   "source": [
    "# spam.csv를 가지고 유의미한 해석을 도출해주세요!"
   ]
  },
  {
   "cell_type": "code",
   "execution_count": 1,
   "metadata": {},
   "outputs": [],
   "source": [
    "# 필요한 모듈 불러오기\n",
    "import pandas as pd\n",
    "import matplotlib.pyplot as plt\n",
    "%matplotlib inline\n",
    "\n",
    "import warnings\n",
    "warnings.filterwarnings(\"ignore\")"
   ]
  },
  {
   "cell_type": "markdown",
   "metadata": {},
   "source": [
    "## Load Data\n",
    "- 보시면 spam.csv는 라벨이 있는 데이터예요. 물론 8주차 주체가 텍스트 기초인만큼 텍스트만 활용하셔도 되고 라벨까지 활용하셔서 모델을 돌려볼 수도 있어요!"
   ]
  },
  {
   "cell_type": "code",
   "execution_count": 2,
   "metadata": {},
   "outputs": [],
   "source": [
    "data = pd.read_csv('./spam.csv')"
   ]
  },
  {
   "cell_type": "code",
   "execution_count": 3,
   "metadata": {},
   "outputs": [
    {
     "data": {
      "text/html": [
       "<div>\n",
       "<style scoped>\n",
       "    .dataframe tbody tr th:only-of-type {\n",
       "        vertical-align: middle;\n",
       "    }\n",
       "\n",
       "    .dataframe tbody tr th {\n",
       "        vertical-align: top;\n",
       "    }\n",
       "\n",
       "    .dataframe thead th {\n",
       "        text-align: right;\n",
       "    }\n",
       "</style>\n",
       "<table border=\"1\" class=\"dataframe\">\n",
       "  <thead>\n",
       "    <tr style=\"text-align: right;\">\n",
       "      <th></th>\n",
       "      <th>v1</th>\n",
       "      <th>v2</th>\n",
       "    </tr>\n",
       "  </thead>\n",
       "  <tbody>\n",
       "    <tr>\n",
       "      <th>0</th>\n",
       "      <td>ham</td>\n",
       "      <td>Go until jurong point, crazy.. Available only ...</td>\n",
       "    </tr>\n",
       "    <tr>\n",
       "      <th>1</th>\n",
       "      <td>ham</td>\n",
       "      <td>Ok lar... Joking wif u oni...</td>\n",
       "    </tr>\n",
       "    <tr>\n",
       "      <th>2</th>\n",
       "      <td>spam</td>\n",
       "      <td>Free entry in 2 a wkly comp to win FA Cup fina...</td>\n",
       "    </tr>\n",
       "    <tr>\n",
       "      <th>3</th>\n",
       "      <td>ham</td>\n",
       "      <td>U dun say so early hor... U c already then say...</td>\n",
       "    </tr>\n",
       "    <tr>\n",
       "      <th>4</th>\n",
       "      <td>ham</td>\n",
       "      <td>Nah I don't think he goes to usf, he lives aro...</td>\n",
       "    </tr>\n",
       "  </tbody>\n",
       "</table>\n",
       "</div>"
      ],
      "text/plain": [
       "     v1                                                 v2\n",
       "0   ham  Go until jurong point, crazy.. Available only ...\n",
       "1   ham                      Ok lar... Joking wif u oni...\n",
       "2  spam  Free entry in 2 a wkly comp to win FA Cup fina...\n",
       "3   ham  U dun say so early hor... U c already then say...\n",
       "4   ham  Nah I don't think he goes to usf, he lives aro..."
      ]
     },
     "execution_count": 3,
     "metadata": {},
     "output_type": "execute_result"
    }
   ],
   "source": [
    "data.head()"
   ]
  },
  {
   "cell_type": "code",
   "execution_count": 4,
   "metadata": {},
   "outputs": [
    {
     "name": "stdout",
     "output_type": "stream",
     "text": [
      "ham     4825\n",
      "spam     747\n",
      "Name: v1, dtype: int64\n"
     ]
    },
    {
     "data": {
      "image/png": "[encoded data removed]",
      "text/plain": [
       "<Figure size 432x288 with 1 Axes>"
      ]
     },
     "metadata": {
      "needs_background": "light"
     },
     "output_type": "display_data"
    }
   ],
   "source": [
    "print(data['v1'].value_counts())\n",
    "plt.bar(data['v1'].value_counts().index,data['v1'].value_counts())\n",
    "plt.show()"
   ]
  },
  {
   "cell_type": "code",
   "execution_count": 5,
   "metadata": {},
   "outputs": [],
   "source": [
    "#spam과 ham 나눠주기\n",
    "spam = data[data['v1'] == 'spam']\n",
    "ham = data[data['v1'] == 'ham']"
   ]
  },
  {
   "cell_type": "code",
   "execution_count": 6,
   "metadata": {},
   "outputs": [
    {
     "name": "stdout",
     "output_type": "stream",
     "text": [
      "      v1                                                 v2\n",
      "2   spam  Free entry in 2 a wkly comp to win FA Cup fina...\n",
      "5   spam  FreeMsg Hey there darling it's been 3 week's n...\n",
      "8   spam  WINNER!! As a valued network customer you have...\n",
      "9   spam  Had your mobile 11 months or more? U R entitle...\n",
      "11  spam  SIX chances to win CASH! From 100 to 20,000 po...\n",
      "    v1                                                 v2\n",
      "0  ham  Go until jurong point, crazy.. Available only ...\n",
      "1  ham                      Ok lar... Joking wif u oni...\n",
      "3  ham  U dun say so early hor... U c already then say...\n",
      "4  ham  Nah I don't think he goes to usf, he lives aro...\n",
      "6  ham  Even my brother is not like to speak with me. ...\n"
     ]
    }
   ],
   "source": [
    "print(spam.head())\n",
    "print(ham.head())"
   ]
  },
  {
   "cell_type": "markdown",
   "metadata": {},
   "source": [
    "## Tokenizing\n",
    "- 실습코드는 물론 한국어 대상이라 konlpy를 다뤘지만, 슬라이드 보시면 영어는 nltk 모듈을 쓸 수 있어요. 의미 있는 토큰으로 쪼개고 불용어도 처리해보세요! 현존하는 불용어 리스트를 사용해도 좋고, 새롭게 만들어도 좋을 것 같아요!"
   ]
  },
  {
   "cell_type": "code",
   "execution_count": 9,
   "metadata": {},
   "outputs": [],
   "source": [
    "import nltk\n",
    "import string\n",
    "from nltk.tokenize import RegexpTokenizer\n",
    "from nltk.corpus import stopwords"
   ]
  },
  {
   "cell_type": "markdown",
   "metadata": {},
   "source": [
    "### 특수기호, 숫자, 불용어 처리"
   ]
  },
  {
   "cell_type": "code",
   "execution_count": 10,
   "metadata": {},
   "outputs": [],
   "source": [
    "def remove_punctuation(text):\n",
    "    no_punct = \"\".join([c for c in text if c not in string.punctuation])\n",
    "    return no_punct\n",
    "def remove_digit(text):\n",
    "    no_digit = \"\".join([c for c in text if c not in string.digits])\n",
    "    return no_digit\n",
    "def remove_stopwords(text):\n",
    "    words = [w for w in text if w not in stopwords.words('english')]\n",
    "    return words"
   ]
  },
  {
   "cell_type": "code",
   "execution_count": 11,
   "metadata": {},
   "outputs": [],
   "source": [
    "spam.loc[:,'v2'] = spam['v2'].apply(lambda x: remove_punctuation(x))\n",
    "spam.loc[:,'v2'] = spam['v2'].apply(lambda x: remove_digit(x))\n",
    "ham.loc[:,'v2'] = ham['v2'].apply(lambda x: remove_punctuation(x))\n",
    "ham.loc[:,'v2'] = ham['v2'].apply(lambda x: remove_digit(x))"
   ]
  },
  {
   "cell_type": "markdown",
   "metadata": {},
   "source": [
    "### 토큰화"
   ]
  },
  {
   "cell_type": "code",
   "execution_count": 12,
   "metadata": {},
   "outputs": [],
   "source": [
    "tokenizer = RegexpTokenizer(r'\\w+')\n",
    "spam.loc[:,'v2'] = spam['v2'].apply(lambda x: tokenizer.tokenize(x.lower()))\n",
    "spam.loc[:,'v2'] = spam['v2'].apply(lambda x: remove_stopwords(x))\n",
    "ham.loc[:,'v2'] = ham['v2'].apply(lambda x: tokenizer.tokenize(x.lower()))\n",
    "ham.loc[:,'v2'] = ham['v2'].apply(lambda x: remove_stopwords(x))"
   ]
  },
  {
   "cell_type": "markdown",
   "metadata": {},
   "source": [
    "### 전체 데이터 처리"
   ]
  },
  {
   "cell_type": "code",
   "execution_count": 13,
   "metadata": {},
   "outputs": [],
   "source": [
    "data.loc[:,'v2'] = data['v2'].apply(lambda x: remove_punctuation(x))\n",
    "data.loc[:,'v2'] = data['v2'].apply(lambda x: remove_digit(x))\n",
    "data.loc[:,'v2'] = data['v2'].apply(lambda x: tokenizer.tokenize(x.lower()))\n",
    "data.loc[:,'v2'] = data['v2'].apply(lambda x: remove_stopwords(x))"
   ]
  },
  {
   "cell_type": "code",
   "execution_count": 14,
   "metadata": {},
   "outputs": [
    {
     "name": "stdout",
     "output_type": "stream",
     "text": [
      "      v1                                                 v2\n",
      "2   spam  [free, entry, wkly, comp, win, fa, cup, final,...\n",
      "5   spam  [freemsg, hey, darling, weeks, word, back, id,...\n",
      "8   spam  [winner, valued, network, customer, selected, ...\n",
      "9   spam  [mobile, months, u, r, entitled, update, lates...\n",
      "11  spam  [six, chances, win, cash, pounds, txt, csh, se...\n",
      "    v1                                                 v2\n",
      "0  ham  [go, jurong, point, crazy, available, bugis, n...\n",
      "1  ham                     [ok, lar, joking, wif, u, oni]\n",
      "3  ham      [u, dun, say, early, hor, u, c, already, say]\n",
      "4  ham  [nah, dont, think, goes, usf, lives, around, t...\n",
      "6  ham  [even, brother, like, speak, treat, like, aids...\n"
     ]
    }
   ],
   "source": [
    "print(spam.head())\n",
    "print(ham.head())"
   ]
  },
  {
   "cell_type": "markdown",
   "metadata": {},
   "source": [
    "## Embedding\n",
    "\n",
    "- 수업에서 다룬 임베딩 방법에는 One-hot encoding, CBOW, Skip-gram, GloVe, FastText가 있었어요. 왜 이 임베딩 모델을 적용하게 되었는지 '비교' 결과와 함께 적어주세요!"
   ]
  },
  {
   "cell_type": "code",
   "execution_count": 15,
   "metadata": {},
   "outputs": [],
   "source": [
    "#한글자 token 제거 함수\n",
    "def remove_one(arr):\n",
    "    remove_list = []\n",
    "    for i in range(len(arr)):\n",
    "        if len(arr[i]) < 2:\n",
    "            remove_list.append(arr[i])\n",
    "    for j in remove_list:\n",
    "        arr.remove(j)\n",
    "    return arr"
   ]
  },
  {
   "cell_type": "code",
   "execution_count": 16,
   "metadata": {},
   "outputs": [],
   "source": [
    "corpus = [remove_one(i) for i in data['v2']]\n",
    "# corpus"
   ]
  },
  {
   "cell_type": "code",
   "execution_count": 17,
   "metadata": {},
   "outputs": [],
   "source": [
    "words = []\n",
    "for i in data['v2']:\n",
    "    words.extend(i)"
   ]
  },
  {
   "cell_type": "code",
   "execution_count": 18,
   "metadata": {},
   "outputs": [],
   "source": [
    "from collections import Counter"
   ]
  },
  {
   "cell_type": "markdown",
   "metadata": {},
   "source": [
    "### 빈도 수 상위 20개"
   ]
  },
  {
   "cell_type": "code",
   "execution_count": 19,
   "metadata": {},
   "outputs": [
    {
     "data": {
      "text/plain": [
       "[('call', 579),\n",
       " ('im', 464),\n",
       " ('get', 390),\n",
       " ('ur', 384),\n",
       " ('go', 282),\n",
       " ('dont', 279),\n",
       " ('free', 278),\n",
       " ('ok', 277),\n",
       " ('ltgt', 276),\n",
       " ('know', 257),\n",
       " ('like', 242),\n",
       " ('got', 239),\n",
       " ('ill', 237),\n",
       " ('good', 234),\n",
       " ('come', 226),\n",
       " ('day', 211),\n",
       " ('time', 208),\n",
       " ('love', 195),\n",
       " ('want', 192),\n",
       " ('send', 190)]"
      ]
     },
     "execution_count": 19,
     "metadata": {},
     "output_type": "execute_result"
    }
   ],
   "source": [
    "cnt = Counter(words)\n",
    "top20_cnt = sorted(cnt.items(), key = lambda x:x[1], reverse = True)[:20]\n",
    "top20_cnt"
   ]
  },
  {
   "cell_type": "markdown",
   "metadata": {},
   "source": [
    "### 문장별 평균 단어 개수"
   ]
  },
  {
   "cell_type": "code",
   "execution_count": 20,
   "metadata": {},
   "outputs": [
    {
     "data": {
      "text/plain": [
       "8.517587939698492"
      ]
     },
     "execution_count": 20,
     "metadata": {},
     "output_type": "execute_result"
    }
   ],
   "source": [
    "(data['v2'].apply(lambda x: len(x)).sum())/ len(data)"
   ]
  },
  {
   "cell_type": "markdown",
   "metadata": {},
   "source": [
    "### embedding"
   ]
  },
  {
   "cell_type": "code",
   "execution_count": 21,
   "metadata": {},
   "outputs": [],
   "source": [
    "from gensim.models import Word2Vec, FastText"
   ]
  },
  {
   "cell_type": "code",
   "execution_count": 22,
   "metadata": {},
   "outputs": [],
   "source": [
    "fasttext_model = FastText(corpus, size = 20, window = 5, min_count = 50, workers =1 , iter = 100,sg=1)"
   ]
  },
  {
   "cell_type": "code",
   "execution_count": 23,
   "metadata": {},
   "outputs": [],
   "source": [
    "Skip_Gram_model = Word2Vec(corpus, size = 20, window = 5, min_count = 50 , workers = 1, iter = 100, sg = 1)"
   ]
  },
  {
   "cell_type": "markdown",
   "metadata": {},
   "source": [
    " - 빈도수를 기반으로 min_count = 50으로 설정\n",
    " - 문장별 평균 단어 개수를 기반으로 window는 5로 설정\n",
    " - size는 2, 10, 20 단위로 실험해봤을 때 20이 좋은 성능을 보였다\n",
    " - 너무 큰 차원은 다루지 않기 위해 20을 maximum으로 실험했다\n",
    " - skip_gram을 위해 sg=1"
   ]
  },
  {
   "cell_type": "code",
   "execution_count": 24,
   "metadata": {},
   "outputs": [
    {
     "data": {
      "text/plain": [
       "['call',\n",
       " 'im',\n",
       " 'get',\n",
       " 'ur',\n",
       " 'go',\n",
       " 'dont',\n",
       " 'free',\n",
       " 'ok',\n",
       " 'ltgt',\n",
       " 'know',\n",
       " 'like',\n",
       " 'got',\n",
       " 'ill',\n",
       " 'good',\n",
       " 'come',\n",
       " 'day',\n",
       " 'time',\n",
       " 'love',\n",
       " 'want',\n",
       " 'send',\n",
       " 'text',\n",
       " 'going',\n",
       " 'one',\n",
       " 'need',\n",
       " 'txt',\n",
       " 'home',\n",
       " 'lor',\n",
       " 'see',\n",
       " 'sorry',\n",
       " 'still',\n",
       " 'stop',\n",
       " 'back',\n",
       " 'reply',\n",
       " 'today',\n",
       " 'mobile',\n",
       " 'tell',\n",
       " 'new',\n",
       " 'later',\n",
       " 'well',\n",
       " 'hi',\n",
       " 'think',\n",
       " 'da',\n",
       " 'please',\n",
       " 'take',\n",
       " 'phone',\n",
       " 'cant',\n",
       " 'week',\n",
       " 'claim',\n",
       " 'much',\n",
       " 'night',\n",
       " 'dear',\n",
       " 'oh',\n",
       " 'great',\n",
       " 'hey',\n",
       " 'pls',\n",
       " 'happy',\n",
       " 'hope',\n",
       " 'make',\n",
       " 'way',\n",
       " 'give',\n",
       " 'work',\n",
       " 'wat',\n",
       " 'thats',\n",
       " 'number',\n",
       " 'prize',\n",
       " 'right',\n",
       " 'yes',\n",
       " 'say',\n",
       " 'already',\n",
       " 'tomorrow',\n",
       " 'ask',\n",
       " 'really',\n",
       " 'yeah',\n",
       " 'said',\n",
       " 'message',\n",
       " 'msg',\n",
       " 'amp',\n",
       " 'didnt',\n",
       " 'meet',\n",
       " 'babe',\n",
       " 'last',\n",
       " 'morning',\n",
       " 'life',\n",
       " 'miss',\n",
       " 'would',\n",
       " 'cos',\n",
       " 'thanks',\n",
       " 'ive',\n",
       " 'cash',\n",
       " 'lol',\n",
       " 'anything',\n",
       " 'find',\n",
       " 'every',\n",
       " 'win',\n",
       " 'nokia',\n",
       " 'sure',\n",
       " 'pick',\n",
       " 'also',\n",
       " 'let',\n",
       " 'something',\n",
       " 'contact',\n",
       " 'sent',\n",
       " 'keep',\n",
       " 'care',\n",
       " 'urgent',\n",
       " 'buy',\n",
       " 'us',\n",
       " 'next',\n",
       " 'feel',\n",
       " 'first',\n",
       " 'around',\n",
       " 'even',\n",
       " 'went',\n",
       " 'thing',\n",
       " 'could',\n",
       " 'per',\n",
       " 'soon',\n",
       " 'tonight',\n",
       " 'help',\n",
       " 'wait',\n",
       " 'place',\n",
       " 'someone',\n",
       " 'service',\n",
       " 'many',\n",
       " 'friends',\n",
       " 'customer',\n",
       " 'gonna',\n",
       " 'nice',\n",
       " 'money',\n",
       " 'chat',\n",
       " 'wan',\n",
       " 'always',\n",
       " 'late',\n",
       " 'ya',\n",
       " 'sleep',\n",
       " 'dun',\n",
       " 'leave',\n",
       " 'wont',\n",
       " 'st',\n",
       " 'waiting',\n",
       " 'youre',\n",
       " 'things',\n",
       " 'gud',\n",
       " 'told',\n",
       " 'ìï',\n",
       " 'wish',\n",
       " 'name',\n",
       " 'getting',\n",
       " 'year',\n",
       " 'guaranteed',\n",
       " 'yet',\n",
       " 'people',\n",
       " 'thk',\n",
       " 'coming',\n",
       " 'mins',\n",
       " 'box']"
      ]
     },
     "execution_count": 24,
     "metadata": {},
     "output_type": "execute_result"
    }
   ],
   "source": [
    "words = Skip_Gram_model.wv.index2word\n",
    "words"
   ]
  },
  {
   "cell_type": "code",
   "execution_count": 25,
   "metadata": {},
   "outputs": [
    {
     "data": {
      "text/plain": [
       "['call',\n",
       " 'im',\n",
       " 'get',\n",
       " 'ur',\n",
       " 'go',\n",
       " 'dont',\n",
       " 'free',\n",
       " 'ok',\n",
       " 'ltgt',\n",
       " 'know',\n",
       " 'like',\n",
       " 'got',\n",
       " 'ill',\n",
       " 'good',\n",
       " 'come',\n",
       " 'day',\n",
       " 'time',\n",
       " 'love',\n",
       " 'want',\n",
       " 'send',\n",
       " 'text',\n",
       " 'going',\n",
       " 'one',\n",
       " 'need',\n",
       " 'txt',\n",
       " 'home',\n",
       " 'lor',\n",
       " 'see',\n",
       " 'sorry',\n",
       " 'still',\n",
       " 'stop',\n",
       " 'back',\n",
       " 'reply',\n",
       " 'today',\n",
       " 'mobile',\n",
       " 'tell',\n",
       " 'new',\n",
       " 'later',\n",
       " 'well',\n",
       " 'hi',\n",
       " 'think',\n",
       " 'da',\n",
       " 'please',\n",
       " 'take',\n",
       " 'phone',\n",
       " 'cant',\n",
       " 'week',\n",
       " 'claim',\n",
       " 'much',\n",
       " 'night',\n",
       " 'dear',\n",
       " 'oh',\n",
       " 'great',\n",
       " 'hey',\n",
       " 'pls',\n",
       " 'happy',\n",
       " 'hope',\n",
       " 'make',\n",
       " 'way',\n",
       " 'give',\n",
       " 'work',\n",
       " 'wat',\n",
       " 'thats',\n",
       " 'number',\n",
       " 'prize',\n",
       " 'right',\n",
       " 'yes',\n",
       " 'say',\n",
       " 'already',\n",
       " 'tomorrow',\n",
       " 'ask',\n",
       " 'really',\n",
       " 'yeah',\n",
       " 'said',\n",
       " 'message',\n",
       " 'msg',\n",
       " 'amp',\n",
       " 'didnt',\n",
       " 'meet',\n",
       " 'babe',\n",
       " 'last',\n",
       " 'morning',\n",
       " 'life',\n",
       " 'miss',\n",
       " 'would',\n",
       " 'cos',\n",
       " 'thanks',\n",
       " 'ive',\n",
       " 'cash',\n",
       " 'lol',\n",
       " 'anything',\n",
       " 'find',\n",
       " 'every',\n",
       " 'win',\n",
       " 'nokia',\n",
       " 'sure',\n",
       " 'pick',\n",
       " 'also',\n",
       " 'let',\n",
       " 'something',\n",
       " 'contact',\n",
       " 'sent',\n",
       " 'keep',\n",
       " 'care',\n",
       " 'urgent',\n",
       " 'buy',\n",
       " 'us',\n",
       " 'next',\n",
       " 'feel',\n",
       " 'first',\n",
       " 'around',\n",
       " 'even',\n",
       " 'went',\n",
       " 'thing',\n",
       " 'could',\n",
       " 'per',\n",
       " 'soon',\n",
       " 'tonight',\n",
       " 'help',\n",
       " 'wait',\n",
       " 'place',\n",
       " 'someone',\n",
       " 'service',\n",
       " 'many',\n",
       " 'friends',\n",
       " 'customer',\n",
       " 'gonna',\n",
       " 'nice',\n",
       " 'money',\n",
       " 'chat',\n",
       " 'wan',\n",
       " 'always',\n",
       " 'late',\n",
       " 'ya',\n",
       " 'sleep',\n",
       " 'dun',\n",
       " 'leave',\n",
       " 'wont',\n",
       " 'st',\n",
       " 'waiting',\n",
       " 'youre',\n",
       " 'things',\n",
       " 'gud',\n",
       " 'told',\n",
       " 'ìï',\n",
       " 'wish',\n",
       " 'name',\n",
       " 'getting',\n",
       " 'year',\n",
       " 'guaranteed',\n",
       " 'yet',\n",
       " 'people',\n",
       " 'thk',\n",
       " 'coming',\n",
       " 'mins',\n",
       " 'box']"
      ]
     },
     "execution_count": 25,
     "metadata": {},
     "output_type": "execute_result"
    }
   ],
   "source": [
    "words = fasttext_model.wv.index2word\n",
    "words"
   ]
  },
  {
   "cell_type": "code",
   "execution_count": 26,
   "metadata": {},
   "outputs": [
    {
     "data": {
      "text/plain": [
       "array([[ 0.38248298,  0.56459475,  0.22340497, ...,  0.61944824,\n",
       "        -0.4828775 ,  0.5634809 ],\n",
       "       [-0.08877974,  0.18561932, -0.36824352, ...,  0.10391185,\n",
       "        -0.35653636,  0.4258701 ],\n",
       "       [ 0.4719722 ,  0.29613626, -0.2127543 , ...,  0.16100761,\n",
       "        -0.34099904,  0.2864628 ],\n",
       "       ...,\n",
       "       [ 0.7092978 , -0.04098586, -0.3125327 , ..., -0.01747875,\n",
       "        -0.31884003,  0.21351725],\n",
       "       [ 0.2389834 ,  0.97481537, -0.2499452 , ...,  1.9360249 ,\n",
       "         0.5180855 ,  1.0077442 ],\n",
       "       [ 1.3953466 ,  0.8555277 , -1.0535187 , ...,  0.67290646,\n",
       "        -0.4290489 ,  0.49335748]], dtype=float32)"
      ]
     },
     "execution_count": 26,
     "metadata": {},
     "output_type": "execute_result"
    }
   ],
   "source": [
    "vectors1 = Skip_Gram_model.wv.vectors\n",
    "vectors1"
   ]
  },
  {
   "cell_type": "code",
   "execution_count": 27,
   "metadata": {},
   "outputs": [
    {
     "data": {
      "text/plain": [
       "array([[-0.09180381, -0.3674853 ,  0.08627755, ...,  1.082597  ,\n",
       "         0.30169404, -0.234365  ],\n",
       "       [ 0.26548156,  0.1956567 , -0.27470142, ...,  0.37317532,\n",
       "         0.01648752, -0.03169765],\n",
       "       [ 0.02181263,  0.04516581,  0.15692393, ...,  0.11292879,\n",
       "        -0.2150964 , -0.03991193],\n",
       "       ...,\n",
       "       [-0.41731697, -0.11743989, -0.443747  , ..., -0.3891473 ,\n",
       "         0.22946784,  0.0810848 ],\n",
       "       [ 0.24914737,  0.31962782, -0.26441014, ...,  0.7109328 ,\n",
       "         1.1870162 , -0.79096526],\n",
       "       [-0.08963289,  0.92251265,  1.058488  , ..., -0.42711535,\n",
       "         0.3882784 ,  0.50154996]], dtype=float32)"
      ]
     },
     "execution_count": 27,
     "metadata": {},
     "output_type": "execute_result"
    }
   ],
   "source": [
    "vectors = fasttext_model.wv.vectors\n",
    "vectors"
   ]
  },
  {
   "cell_type": "code",
   "execution_count": 28,
   "metadata": {},
   "outputs": [
    {
     "data": {
      "text/plain": [
       "['call', 'im', 'get', 'ur', 'go']"
      ]
     },
     "execution_count": 28,
     "metadata": {},
     "output_type": "execute_result"
    }
   ],
   "source": [
    "top5_word = [top20_cnt[i][0] for i in range(5)]\n",
    "top5_word"
   ]
  },
  {
   "cell_type": "code",
   "execution_count": 29,
   "metadata": {},
   "outputs": [
    {
     "name": "stdout",
     "output_type": "stream",
     "text": [
      "word: call\n",
      "Skip_gram\n",
      "[('guaranteed', 0.7039927244186401), ('prize', 0.7036927938461304), ('please', 0.643821656703949), ('mobile', 0.6408004760742188), ('urgent', 0.5857738256454468)]\n",
      "fasttext\n",
      "[('please', 0.6694702506065369), ('phone', 0.6412845849990845), ('urgent', 0.5982739925384521), ('guaranteed', 0.5900270342826843), ('text', 0.5826404690742493)]\n",
      "-------------------------------------------------------------\n",
      "\n",
      "word: im\n",
      "Skip_gram\n",
      "[('ok', 0.8191996812820435), ('home', 0.7973576784133911), ('tonight', 0.7817539572715759), ('go', 0.7520568370819092), ('ill', 0.7471689581871033)]\n",
      "fasttext\n",
      "[('home', 0.7660596966743469), ('go', 0.763390302658081), ('work', 0.7564711570739746), ('ok', 0.7555367350578308), ('going', 0.7509610652923584)]\n",
      "-------------------------------------------------------------\n",
      "\n",
      "word: get\n",
      "Skip_gram\n",
      "[('tell', 0.6999614834785461), ('week', 0.6836384534835815), ('txt', 0.6834967136383057), ('want', 0.6769862771034241), ('text', 0.6648395657539368)]\n",
      "fasttext\n",
      "[('tell', 0.7812305092811584), ('every', 0.732001781463623), ('want', 0.7071030139923096), ('text', 0.7060746550559998), ('free', 0.7040241360664368)]\n",
      "-------------------------------------------------------------\n",
      "\n",
      "word: ur\n",
      "Skip_gram\n",
      "[('st', 0.7457415461540222), ('dear', 0.6926084756851196), ('txt', 0.6134039759635925), ('cash', 0.5995864272117615), ('free', 0.593786895275116)]\n",
      "fasttext\n",
      "[('st', 0.6905319094657898), ('dear', 0.6757753491401672), ('free', 0.6297689080238342), ('win', 0.6263998746871948), ('txt', 0.6187094449996948)]\n",
      "-------------------------------------------------------------\n",
      "\n",
      "word: go\n",
      "Skip_gram\n",
      "[('ok', 0.8505255579948425), ('im', 0.7520568370819092), ('already', 0.7506894469261169), ('cos', 0.7378103733062744), ('still', 0.7130677700042725)]\n",
      "fasttext\n",
      "[('ok', 0.8143059015274048), ('yet', 0.8022232055664062), ('ask', 0.7945184707641602), ('im', 0.7633903622627258), ('going', 0.7515835762023926)]\n",
      "-------------------------------------------------------------\n",
      "\n"
     ]
    }
   ],
   "source": [
    "for word in top5_word:\n",
    "    print(\"word:\",word)\n",
    "    print(\"Skip_gram\")\n",
    "    print(Skip_Gram_model.wv.most_similar(word, topn=5))\n",
    "    print(\"fasttext\")\n",
    "    print(fasttext_model.wv.most_similar(word, topn=5))\n",
    "    print(\"-------------------------------------------------------------\")\n",
    "    print()"
   ]
  },
  {
   "cell_type": "markdown",
   "metadata": {},
   "source": [
    "### 모델 비교\n",
    " - 빈도 상위 5개의 단어별 코사인 유사도를 model에 따라 확인했다\n",
    " - 두 모델이 비슷한 결과들을 보인다\n",
    " - 하지만 fasttext모델이 더 의미상으로 비슷한 단어 뿐아니라 유사도 또한 같은 단어에 대해서 높게 나온것을 확인할 수 있다\n",
    " - 따라서 fasttext모델의 성능이 더 좋은것으로 생각된다."
   ]
  },
  {
   "cell_type": "markdown",
   "metadata": {},
   "source": [
    "## 본인이 도출해낸 해석을 적어주세요!\n",
    "\n",
    "- Plot, Wordcloud, 이진 분류 모델, 유사도 뭐든 관계없으니 분명하고 인상적인 해석 부탁드려요!"
   ]
  },
  {
   "cell_type": "code",
   "execution_count": 33,
   "metadata": {},
   "outputs": [],
   "source": [
    "from wordcloud import WordCloud"
   ]
  },
  {
   "cell_type": "code",
   "execution_count": 30,
   "metadata": {},
   "outputs": [],
   "source": [
    "#wordcloud 전처리\n",
    "spam_words = []\n",
    "ham_words = []\n",
    "for i in spam['v2']:\n",
    "    spam_words.extend(i)\n",
    "for i in ham['v2']:\n",
    "    ham_words.extend(i)\n",
    "\n",
    "spam_text = \" \".join(spam_words)\n",
    "ham_text = \" \".join(ham_words)"
   ]
  },
  {
   "cell_type": "code",
   "execution_count": 31,
   "metadata": {},
   "outputs": [],
   "source": [
    "spam_text = \" \".join(spam_words)\n",
    "ham_text = \" \".join(ham_words)"
   ]
  },
  {
   "cell_type": "markdown",
   "metadata": {},
   "source": [
    "## spam wordcloud"
   ]
  },
  {
   "cell_type": "code",
   "execution_count": 34,
   "metadata": {},
   "outputs": [
    {
     "data": {
      "image/png": "[encoded data removed]",
      "text/plain": [
       "<Figure size 432x288 with 1 Axes>"
      ]
     },
     "metadata": {
      "needs_background": "light"
     },
     "output_type": "display_data"
    }
   ],
   "source": [
    "#spam wordcloud\n",
    "wordcloud_spam = WordCloud(max_font_size=100).generate(spam_text)\n",
    "plt.imshow(wordcloud_spam, interpolation = 'bilinear')\n",
    "plt.axis('off')\n",
    "plt.show()"
   ]
  },
  {
   "cell_type": "code",
   "execution_count": 35,
   "metadata": {},
   "outputs": [
    {
     "data": {
      "text/plain": [
       "['free',\n",
       " 'call',\n",
       " 'text',\n",
       " 'mobile',\n",
       " 'txt',\n",
       " 'reply',\n",
       " 'stop',\n",
       " 'please call',\n",
       " 'new',\n",
       " 'message']"
      ]
     },
     "execution_count": 35,
     "metadata": {},
     "output_type": "execute_result"
    }
   ],
   "source": [
    "count_spam = sorted(wordcloud_spam.words_.items(), key = lambda x:x[1], reverse = True)\n",
    "[count_spam[:10][i][0] for i in range(10)]"
   ]
  },
  {
   "cell_type": "markdown",
   "metadata": {},
   "source": [
    "### Insigth_1\n",
    " - spam에서 자주 사용된 단어를 이용한 wordcloud\n",
    " - spam에서 사용된 단어 중 빈도수 상위 10개\n",
    " - call, text, reply 등 연락과 관련된 단어가 많이 포함되있는것을 확인할 수 있다"
   ]
  },
  {
   "cell_type": "markdown",
   "metadata": {},
   "source": [
    "## ham wordcloud"
   ]
  },
  {
   "cell_type": "code",
   "execution_count": 36,
   "metadata": {},
   "outputs": [
    {
     "data": {
      "image/png": "[encoded data removed]",
      "text/plain": [
       "<Figure size 432x288 with 1 Axes>"
      ]
     },
     "metadata": {
      "needs_background": "light"
     },
     "output_type": "display_data"
    }
   ],
   "source": [
    "#ham wordcloud\n",
    "wordcloud_ham = WordCloud(max_font_size=100).generate(ham_text)\n",
    "plt.imshow(wordcloud_ham, interpolation = 'bilinear')\n",
    "plt.axis('off')\n",
    "plt.show()"
   ]
  },
  {
   "cell_type": "code",
   "execution_count": 37,
   "metadata": {},
   "outputs": [
    {
     "data": {
      "text/plain": [
       "['im', 'ok', 'got', 'go', 'ltgt', 'come', 'time', 'ur', 'dont', 'love']"
      ]
     },
     "execution_count": 37,
     "metadata": {},
     "output_type": "execute_result"
    }
   ],
   "source": [
    "count_ham = sorted(wordcloud_ham.words_.items(), key = lambda x:x[1], reverse = True)\n",
    "[count_ham[:10][i][0] for i in range(10)]"
   ]
  },
  {
   "cell_type": "markdown",
   "metadata": {},
   "source": [
    "### Insight_2\n",
    "- ham에서 자주 사용된 단어를 이용한 wordcloud\n",
    " - ham에서 사용된 단어 중 빈도수 상위 10개\n",
    " - im, ok, got, go 등 상태에 대한 단어가 많이 등장한다"
   ]
  },
  {
   "cell_type": "markdown",
   "metadata": {},
   "source": [
    "## ham 상위 5개 단어별 유사도를 활용한 spam/ham 비교"
   ]
  },
  {
   "cell_type": "code",
   "execution_count": 38,
   "metadata": {},
   "outputs": [
    {
     "name": "stdout",
     "output_type": "stream",
     "text": [
      "im : [True, True, True, True, True, True, False, True, True, True]\n",
      "ok : [True, True, True, True, True, False, False, False, True, True]\n",
      "got : [False, True, False, True, True, False, True, True, True, True]\n",
      "go : [True, True, False, True, True, True, False, False, True, True]\n",
      "ltgt : [False, True, True, True, True, True, True, True, True, True]\n"
     ]
    }
   ],
   "source": [
    "for hams_word in [count_ham[:5][i][0] for i in range(5)]:\n",
    "    similar = [fasttext_model.wv.most_similar(hams_word, topn=10)[i][0] for i in range(10)]\n",
    "    tf_list = [text in spam_words for text in similar]\n",
    "    print(hams_word,\":\",tf_list)"
   ]
  },
  {
   "cell_type": "code",
   "execution_count": 39,
   "metadata": {},
   "outputs": [
    {
     "name": "stdout",
     "output_type": "stream",
     "text": [
      "im : [True, True, True, True, True, True, True, True, True, True]\n",
      "ok : [True, True, True, True, True, True, True, True, True, True]\n",
      "got : [True, True, True, True, True, True, True, True, True, True]\n",
      "go : [True, True, True, True, True, True, True, True, True, True]\n",
      "ltgt : [True, True, True, True, True, True, True, True, True, True]\n"
     ]
    }
   ],
   "source": [
    "for hams_word in [count_ham[:5][i][0] for i in range(5)]:\n",
    "    similar = [fasttext_model.wv.most_similar(hams_word, topn=10)[i][0] for i in range(10)]\n",
    "    tf_list = [text in ham_words for text in similar]\n",
    "    print(hams_word,\":\",tf_list)"
   ]
  },
  {
   "cell_type": "markdown",
   "metadata": {},
   "source": [
    "### Insight_3\n",
    " - ham의 상위 5개 단어별로 모델에서 유사한 10개의 단어들이 spam/ham 포함되어있는지를 확인\n",
    " - spam 단어리스트에 포함되어있는지 확인할 때 포함되지 않은 경우 존재한다\n",
    " - ham 단어리스트에 포함되어있는지 확인할 때 포함되지 않은 경우 존재하지 않는다\n",
    " - 즉, 단어들은 같은 라벨의 단어들과 유사도가 높은 것을 확인할 수 있다"
   ]
  },
  {
   "cell_type": "code",
   "execution_count": null,
   "metadata": {},
   "outputs": [],
   "source": []
  }
 ],
 "metadata": {
  "kernelspec": {
   "display_name": "Python 3",
   "language": "python",
   "name": "python3"
  },
  "language_info": {
   "codemirror_mode": {
    "name": "ipython",
    "version": 3
   },
   "file_extension": ".py",
   "mimetype": "text/x-python",
   "name": "python",
   "nbconvert_exporter": "python",
   "pygments_lexer": "ipython3",
   "version": "3.7.3"
  }
 },
 "nbformat": 4,
 "nbformat_minor": 4
}
