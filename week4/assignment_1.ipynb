{
 "cells": [
  {
   "cell_type": "markdown",
   "metadata": {
    "colab_type": "text",
    "id": "8HyMvTfrPTEU"
   },
   "source": [
    "#### TOBIG'S 14기 정규세션 4주차 SVM \n",
    "### ASSIGNMENT1. Multiclass SVM 구현"
   ]
  },
  {
   "cell_type": "code",
   "execution_count": 1,
   "metadata": {
    "colab": {},
    "colab_type": "code",
    "id": "lMqxwjbRNX6u",
    "outputId": "f7b6519f-9521-446b-a107-044a7113bc08"
   },
   "outputs": [
    {
     "name": "stdout",
     "output_type": "stream",
     "text": [
      "0         setosa\n",
      "1         setosa\n",
      "2         setosa\n",
      "3         setosa\n",
      "4         setosa\n",
      "5         setosa\n",
      "6         setosa\n",
      "7         setosa\n",
      "8         setosa\n",
      "9         setosa\n",
      "10        setosa\n",
      "11        setosa\n",
      "12        setosa\n",
      "13        setosa\n",
      "14        setosa\n",
      "15        setosa\n",
      "16        setosa\n",
      "17        setosa\n",
      "18        setosa\n",
      "19        setosa\n",
      "20        setosa\n",
      "21        setosa\n",
      "22        setosa\n",
      "23        setosa\n",
      "24        setosa\n",
      "25        setosa\n",
      "26        setosa\n",
      "27        setosa\n",
      "28        setosa\n",
      "29        setosa\n",
      "         ...    \n",
      "120    virginica\n",
      "121    virginica\n",
      "122    virginica\n",
      "123    virginica\n",
      "124    virginica\n",
      "125    virginica\n",
      "126    virginica\n",
      "127    virginica\n",
      "128    virginica\n",
      "129    virginica\n",
      "130    virginica\n",
      "131    virginica\n",
      "132    virginica\n",
      "133    virginica\n",
      "134    virginica\n",
      "135    virginica\n",
      "136    virginica\n",
      "137    virginica\n",
      "138    virginica\n",
      "139    virginica\n",
      "140    virginica\n",
      "141    virginica\n",
      "142    virginica\n",
      "143    virginica\n",
      "144    virginica\n",
      "145    virginica\n",
      "146    virginica\n",
      "147    virginica\n",
      "148    virginica\n",
      "149    virginica\n",
      "Name: species, Length: 150, dtype: object\n"
     ]
    }
   ],
   "source": [
    "import numpy as np\n",
    "import pandas as pd\n",
    "import matplotlib.pyplot as plt\n",
    "import seaborn as sns\n",
    "from sklearn.svm import SVC\n",
    "from sklearn.model_selection import train_test_split\n",
    "from sklearn.pipeline import Pipeline\n",
    "from sklearn.preprocessing import StandardScaler\n",
    "from sklearn import metrics\n",
    "\n",
    "#IRIS 데이터 로드\n",
    "iris =  sns.load_dataset('iris') \n",
    "X= iris.iloc[:,:4] #학습할데이터\n",
    "y = iris.iloc[:,-1] #타겟\n",
    "print(y)"
   ]
  },
  {
   "cell_type": "code",
   "execution_count": 69,
   "metadata": {
    "colab": {},
    "colab_type": "code",
    "id": "tm8gpfVSNX67"
   },
   "outputs": [],
   "source": [
    "scal = StandardScaler() #scaling\n",
    "X = scal.fit_transform(X)"
   ]
  },
  {
   "cell_type": "code",
   "execution_count": 70,
   "metadata": {
    "colab": {},
    "colab_type": "code",
    "id": "laRcz10bNX7C",
    "outputId": "66f6f6c2-38fb-4da2-bb76-560838244c24"
   },
   "outputs": [
    {
     "name": "stdout",
     "output_type": "stream",
     "text": [
      "0         setosa\n",
      "1         setosa\n",
      "2         setosa\n",
      "3         setosa\n",
      "4         setosa\n",
      "5         setosa\n",
      "6         setosa\n",
      "7         setosa\n",
      "8         setosa\n",
      "9         setosa\n",
      "10        setosa\n",
      "11        setosa\n",
      "12        setosa\n",
      "13        setosa\n",
      "14        setosa\n",
      "15        setosa\n",
      "16        setosa\n",
      "17        setosa\n",
      "18        setosa\n",
      "19        setosa\n",
      "20        setosa\n",
      "21        setosa\n",
      "22        setosa\n",
      "23        setosa\n",
      "24        setosa\n",
      "25        setosa\n",
      "26        setosa\n",
      "27        setosa\n",
      "28        setosa\n",
      "29        setosa\n",
      "         ...    \n",
      "120    virginica\n",
      "121    virginica\n",
      "122    virginica\n",
      "123    virginica\n",
      "124    virginica\n",
      "125    virginica\n",
      "126    virginica\n",
      "127    virginica\n",
      "128    virginica\n",
      "129    virginica\n",
      "130    virginica\n",
      "131    virginica\n",
      "132    virginica\n",
      "133    virginica\n",
      "134    virginica\n",
      "135    virginica\n",
      "136    virginica\n",
      "137    virginica\n",
      "138    virginica\n",
      "139    virginica\n",
      "140    virginica\n",
      "141    virginica\n",
      "142    virginica\n",
      "143    virginica\n",
      "144    virginica\n",
      "145    virginica\n",
      "146    virginica\n",
      "147    virginica\n",
      "148    virginica\n",
      "149    virginica\n",
      "Name: species, Length: 150, dtype: object\n"
     ]
    }
   ],
   "source": [
    "print(y)"
   ]
  },
  {
   "cell_type": "code",
   "execution_count": 2,
   "metadata": {
    "colab": {},
    "colab_type": "code",
    "id": "d7VgXR-SNX7K"
   },
   "outputs": [],
   "source": [
    "# One VS Rest 구현을 위해 1) class가 0 or not 2)class가 1 or not을 구분하기 위한 머신 등을 미리 만들어주자\n",
    "svm_1 = SVC(kernel ='rbf', C = 5, gamma = 5)\n",
    "svm_2 = SVC(kernel ='rbf', C = 5, gamma = 5)\n",
    "svm_3 = SVC(kernel ='rbf', C = 5, gamma = 5)"
   ]
  },
  {
   "cell_type": "code",
   "execution_count": 3,
   "metadata": {
    "colab": {},
    "colab_type": "code",
    "id": "pyMSHOFHNX7R"
   },
   "outputs": [],
   "source": [
    "from sklearn.model_selection import train_test_split #test/train 데이터로 분리\n",
    "X_train, X_test, y_train, y_test = train_test_split(X, y, test_size=0.2, random_state=48)"
   ]
  },
  {
   "cell_type": "code",
   "execution_count": 4,
   "metadata": {},
   "outputs": [],
   "source": [
    "scal = StandardScaler() #scaling\n",
    "X_train = scal.fit_transform(X_train)\n",
    "X_test = scal.transform(X_test)"
   ]
  },
  {
   "cell_type": "code",
   "execution_count": 5,
   "metadata": {
    "colab": {},
    "colab_type": "code",
    "id": "5KnlaqAJNX7X"
   },
   "outputs": [],
   "source": [
    "y_train = pd.get_dummies(y_train) #one hot encoding"
   ]
  },
  {
   "cell_type": "code",
   "execution_count": 6,
   "metadata": {
    "colab": {},
    "colab_type": "code",
    "id": "9S5ML8x1NX7d",
    "outputId": "598fe774-41b4-4552-b7f6-b2a650e57897"
   },
   "outputs": [
    {
     "name": "stdout",
     "output_type": "stream",
     "text": [
      "[0 0 0 0 0 0 1 0 1 0 0 1 1 0 0 0 1 0 0 0 1 0 0 0 0 1 1 0 0 0]\n",
      "[-1.12359969 -0.86782512 -0.65599247 -0.50194294 -0.76541147 -0.8819188\n",
      "  1.07735938 -0.99156769  0.50201986 -0.9984315  -0.84532712  0.17062549\n",
      "  0.34917127 -0.9813287  -0.72783399 -0.93313988  1.28153212 -0.56827872\n",
      " -0.73092732 -0.99670034  0.43553308 -0.96967771 -0.83939495 -1.03305682\n",
      " -0.75566609  1.13888006  0.42965012 -1.04268452 -0.93608147 -1.06090982]\n"
     ]
    }
   ],
   "source": [
    "svm_1.fit(X_train,y_train.iloc[:,0]) # 데이터 클레스가 0 or not 구분해주는 머신\n",
    "svm_2.fit(X_train,y_train.iloc[:,1]) # 데이터 클레스가 1 or not 구분해주는 머신\n",
    "svm_3.fit(X_train,y_train.iloc[:,2]) # 데이터 클레스가 2 or not 구분해주는 머신\n",
    "print(svm_1.predict(X_test)) #데이터 클래스가 0 or not을 구분해주는 애를 통해서 테스트 데이터의 클래스가 0인지, 0이 아닌인지 예측해보자\n",
    "\n",
    "print(svm_1.decision_function(X_test)) #decision_function hyperplane과의 거리를 구하는 방법(필요하다면 활용해주세요!)"
   ]
  },
  {
   "cell_type": "code",
   "execution_count": 7,
   "metadata": {
    "colab": {},
    "colab_type": "code",
    "id": "sCR46aMrNX7p",
    "outputId": "ec7adcec-d0e8-4dd8-f2df-4cd063a19867"
   },
   "outputs": [
    {
     "name": "stdout",
     "output_type": "stream",
     "text": [
      "3\n",
      "17\n",
      "18\n"
     ]
    }
   ],
   "source": [
    "# 부호가 모든 같은 경우가 있는가? > 모두 동점인 경우가 생길 것\n",
    "for i in range(len(X_test)):\n",
    "    # ~. decision_function을 이용하면 해당 데이터가 하이퍼플레인으로부터 얼마나 떨어져있는지 '거리'가 나온다!\n",
    "    # 다음은 그 값의 부호를 이용해 모두가 동점인 경우가 있는지 출력하는 함수 \n",
    "    if (np.sign(svm_1.decision_function(X_test)[i]) == np.sign(svm_2.decision_function(X_test)[i])) \\\n",
    "    and (np.sign(svm_2.decision_function(X_test)[i]) == np.sign(svm_3.decision_function(X_test)[i])):\n",
    "        print(i)"
   ]
  },
  {
   "cell_type": "code",
   "execution_count": 8,
   "metadata": {},
   "outputs": [
    {
     "name": "stdout",
     "output_type": "stream",
     "text": [
      "['versicolor', 'versicolor', 'versicolor', 'setosa', 'virginica', 'virginica', 'setosa', 'virginica', 'setosa', 'versicolor', 'virginica', 'setosa', 'setosa', 'virginica', 'versicolor', 'versicolor', 'setosa', 'versicolor', 'virginica', 'virginica', 'setosa', 'virginica', 'versicolor', 'versicolor', 'virginica', 'setosa', 'setosa', 'virginica', 'virginica', 'versicolor']\n",
      "my_score: 0.9\n"
     ]
    }
   ],
   "source": [
    "## Case 1 : One vs Rest SVM을 이부분에 구현해주세요 위 결과들을 이용해서 multi class SVM을 직접 구현해주세요! 하드코딩이 하시기 편할겁니다.\n",
    "cases = ['setosa','versicolor','virginica']\n",
    "predict_label = np.array([svm_1.predict(X_test),svm_2.predict(X_test),svm_3.predict(X_test)])\n",
    "# print(predict_label)\n",
    "label_by_distance = []\n",
    "for mode in [svm_1,svm_2,svm_3]:\n",
    "    temp = [0,0,0]\n",
    "    deter = mode.decision_function(X_test)[[3,17,18]]\n",
    "    abs_deter = list(map(abs, deter))\n",
    "    idx = abs_deter.index(min(abs_deter))\n",
    "    temp[idx] = 1\n",
    "    label_by_distance.append(temp)\n",
    "\n",
    "\n",
    "for i,j in enumerate([3,17,18]):\n",
    "    predict_label[:,j] = label_by_distance[i]\n",
    "# print(predict_label)\n",
    "my_pred = []\n",
    "for i in range(predict_label.shape[1]):\n",
    "    temp = predict_label[:,i]\n",
    "    for j in range(len(temp)):\n",
    "        if temp[j] == 1:\n",
    "            my_pred.append(cases[j])\n",
    "            break\n",
    "print(my_pred)\n",
    "print(\"my_score:\",metrics.accuracy_score(y_test, my_pred))"
   ]
  },
  {
   "cell_type": "code",
   "execution_count": 11,
   "metadata": {
    "colab": {},
    "colab_type": "code",
    "id": "LlVlC9l9NX77",
    "outputId": "46f7603d-a673-498e-8a9e-a0cb79cc9468"
   },
   "outputs": [
    {
     "data": {
      "text/plain": [
       "0.8666666666666667"
      ]
     },
     "execution_count": 11,
     "metadata": {},
     "output_type": "execute_result"
    }
   ],
   "source": [
    "# 원래 라이브러리가 제공하는 multi class SVM과 여러분이 구현한 multiclass SVM 결과를 비교해주세요\n",
    "from sklearn.model_selection import train_test_split #데이터셋 분리\n",
    "X_train_2, X_test_2, y_train_2, y_test_2 = train_test_split(X, y, test_size=0.2, random_state=48)\n",
    "\n",
    "svm_4 = SVC(kernel ='rbf', C = 5, gamma = 5)\n",
    "svm_4.fit(X_train_2, y_train_2)\n",
    "y_pred = svm_4.predict(X_test_2)\n",
    "\n",
    "metrics.accuracy_score(y_test_2,y_pred)"
   ]
  },
  {
   "cell_type": "markdown",
   "metadata": {},
   "source": [
    "my_predict_score = 0.9 > sklearn_predict_score = 0.83333"
   ]
  },
  {
   "cell_type": "code",
   "execution_count": null,
   "metadata": {},
   "outputs": [],
   "source": []
  }
 ],
 "metadata": {
  "colab": {
   "name": "assignment_1.ipynb",
   "provenance": []
  },
  "file_extension": ".py",
  "kernelspec": {
   "display_name": "Python 3",
   "language": "python",
   "name": "python3"
  },
  "language_info": {
   "codemirror_mode": {
    "name": "ipython",
    "version": 3
   },
   "file_extension": ".py",
   "mimetype": "text/x-python",
   "name": "python",
   "nbconvert_exporter": "python",
   "pygments_lexer": "ipython3",
   "version": "3.7.3"
  },
  "mimetype": "text/x-python",
  "name": "python",
  "npconvert_exporter": "python",
  "pygments_lexer": "ipython3",
  "version": 3
 },
 "nbformat": 4,
 "nbformat_minor": 2
}
