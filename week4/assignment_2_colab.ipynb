{
  "nbformat": 4,
  "nbformat_minor": 0,
  "metadata": {
    "colab": {
      "name": "assignment_2.ipynb",
      "provenance": []
    },
    "file_extension": ".py",
    "kernelspec": {
      "display_name": "Python 3",
      "language": "python",
      "name": "python3"
    },
    "language_info": {
      "codemirror_mode": {
        "name": "ipython",
        "version": 3
      },
      "file_extension": ".py",
      "mimetype": "text/x-python",
      "name": "python",
      "nbconvert_exporter": "python",
      "pygments_lexer": "ipython3",
      "version": "3.7.3"
    },
    "mimetype": "text/x-python",
    "name": "python",
    "npconvert_exporter": "python",
    "pygments_lexer": "ipython3",
    "version": 3
  },
  "cells": [
    {
      "cell_type": "markdown",
      "metadata": {
        "colab_type": "text",
        "id": "J15nU7_ONY3E"
      },
      "source": [
        "#### TOBIG'S 14기 정규세션 4주차 SVM \n",
        "### ASSIGNMENT2\n",
        "---\n",
        "\n",
        " Anomaly detection 데이터셋을 SVM을 이용해서 판별하는 과제로 여러가지 방법을 사용해서 트레이닝 해보고 결과를 비교해주면됩니다!\n",
        "\n",
        " 데이터 분포 : True : 0.17프로 나머지 다 False, \n",
        " \n",
        " Row가 약 28만행이기 때문에 data training 시간이 오래 걸립니다.그래도 자고 일어나면 트레이닝 되어있기는 하는 정도니 여유롭게 과제를 시작해주세요 :)\n",
        "\n",
        " 아직 익숙하지 않으신 분들은 멘토에게 물어보고 한 가지 방법으로만 구현해도 과제를 반려하지는 않겠습니다!"
      ]
    },
    {
      "cell_type": "code",
      "metadata": {
        "colab_type": "code",
        "id": "xpWilxuDNY3F",
        "colab": {}
      },
      "source": [
        "import numpy as np\n",
        "import pandas as pd\n",
        "import matplotlib.pyplot as plt\n",
        "from sklearn.svm import SVC\n",
        "from sklearn.model_selection import train_test_split\n",
        "from sklearn.pipeline import Pipeline\n",
        "from sklearn.preprocessing import StandardScaler\n",
        "from sklearn.metrics import accuracy_score"
      ],
      "execution_count": 1,
      "outputs": []
    },
    {
      "cell_type": "markdown",
      "metadata": {
        "id": "rq6BROCP_K5V",
        "colab_type": "text"
      },
      "source": [
        "## 데이터 확인 및 처리"
      ]
    },
    {
      "cell_type": "code",
      "metadata": {
        "colab_type": "code",
        "id": "DEJCvtOeNY3J",
        "colab": {
          "base_uri": "https://localhost:8080/",
          "height": 105
        },
        "outputId": "904df3a0-dd68-44b6-abdc-457fd96d8f6d"
      },
      "source": [
        "# Anomaly detection(사기감지 데이터) 로드\n",
        "data = pd.read_csv('/content/drive/My Drive/Colab Notebooks/creditcard.csv')\n",
        "print(data.columns)"
      ],
      "execution_count": 4,
      "outputs": [
        {
          "output_type": "stream",
          "text": [
            "Index(['Time', 'V1', 'V2', 'V3', 'V4', 'V5', 'V6', 'V7', 'V8', 'V9', 'V10',\n",
            "       'V11', 'V12', 'V13', 'V14', 'V15', 'V16', 'V17', 'V18', 'V19', 'V20',\n",
            "       'V21', 'V22', 'V23', 'V24', 'V25', 'V26', 'V27', 'V28', 'Amount',\n",
            "       'Class'],\n",
            "      dtype='object')\n"
          ],
          "name": "stdout"
        }
      ]
    },
    {
      "cell_type": "code",
      "metadata": {
        "id": "21k3-yMs_K5Z",
        "colab_type": "code",
        "colab": {
          "base_uri": "https://localhost:8080/",
          "height": 215
        },
        "outputId": "0e703d69-cadf-41db-98c2-d02dfc068273"
      },
      "source": [
        "data.head()"
      ],
      "execution_count": 5,
      "outputs": [
        {
          "output_type": "execute_result",
          "data": {
            "text/html": [
              "<div>\n",
              "<style scoped>\n",
              "    .dataframe tbody tr th:only-of-type {\n",
              "        vertical-align: middle;\n",
              "    }\n",
              "\n",
              "    .dataframe tbody tr th {\n",
              "        vertical-align: top;\n",
              "    }\n",
              "\n",
              "    .dataframe thead th {\n",
              "        text-align: right;\n",
              "    }\n",
              "</style>\n",
              "<table border=\"1\" class=\"dataframe\">\n",
              "  <thead>\n",
              "    <tr style=\"text-align: right;\">\n",
              "      <th></th>\n",
              "      <th>Time</th>\n",
              "      <th>V1</th>\n",
              "      <th>V2</th>\n",
              "      <th>V3</th>\n",
              "      <th>V4</th>\n",
              "      <th>V5</th>\n",
              "      <th>V6</th>\n",
              "      <th>V7</th>\n",
              "      <th>V8</th>\n",
              "      <th>V9</th>\n",
              "      <th>V10</th>\n",
              "      <th>V11</th>\n",
              "      <th>V12</th>\n",
              "      <th>V13</th>\n",
              "      <th>V14</th>\n",
              "      <th>V15</th>\n",
              "      <th>V16</th>\n",
              "      <th>V17</th>\n",
              "      <th>V18</th>\n",
              "      <th>V19</th>\n",
              "      <th>V20</th>\n",
              "      <th>V21</th>\n",
              "      <th>V22</th>\n",
              "      <th>V23</th>\n",
              "      <th>V24</th>\n",
              "      <th>V25</th>\n",
              "      <th>V26</th>\n",
              "      <th>V27</th>\n",
              "      <th>V28</th>\n",
              "      <th>Amount</th>\n",
              "      <th>Class</th>\n",
              "    </tr>\n",
              "  </thead>\n",
              "  <tbody>\n",
              "    <tr>\n",
              "      <th>0</th>\n",
              "      <td>0.0</td>\n",
              "      <td>-1.359807</td>\n",
              "      <td>-0.072781</td>\n",
              "      <td>2.536347</td>\n",
              "      <td>1.378155</td>\n",
              "      <td>-0.338321</td>\n",
              "      <td>0.462388</td>\n",
              "      <td>0.239599</td>\n",
              "      <td>0.098698</td>\n",
              "      <td>0.363787</td>\n",
              "      <td>0.090794</td>\n",
              "      <td>-0.551600</td>\n",
              "      <td>-0.617801</td>\n",
              "      <td>-0.991390</td>\n",
              "      <td>-0.311169</td>\n",
              "      <td>1.468177</td>\n",
              "      <td>-0.470401</td>\n",
              "      <td>0.207971</td>\n",
              "      <td>0.025791</td>\n",
              "      <td>0.403993</td>\n",
              "      <td>0.251412</td>\n",
              "      <td>-0.018307</td>\n",
              "      <td>0.277838</td>\n",
              "      <td>-0.110474</td>\n",
              "      <td>0.066928</td>\n",
              "      <td>0.128539</td>\n",
              "      <td>-0.189115</td>\n",
              "      <td>0.133558</td>\n",
              "      <td>-0.021053</td>\n",
              "      <td>149.62</td>\n",
              "      <td>0</td>\n",
              "    </tr>\n",
              "    <tr>\n",
              "      <th>1</th>\n",
              "      <td>0.0</td>\n",
              "      <td>1.191857</td>\n",
              "      <td>0.266151</td>\n",
              "      <td>0.166480</td>\n",
              "      <td>0.448154</td>\n",
              "      <td>0.060018</td>\n",
              "      <td>-0.082361</td>\n",
              "      <td>-0.078803</td>\n",
              "      <td>0.085102</td>\n",
              "      <td>-0.255425</td>\n",
              "      <td>-0.166974</td>\n",
              "      <td>1.612727</td>\n",
              "      <td>1.065235</td>\n",
              "      <td>0.489095</td>\n",
              "      <td>-0.143772</td>\n",
              "      <td>0.635558</td>\n",
              "      <td>0.463917</td>\n",
              "      <td>-0.114805</td>\n",
              "      <td>-0.183361</td>\n",
              "      <td>-0.145783</td>\n",
              "      <td>-0.069083</td>\n",
              "      <td>-0.225775</td>\n",
              "      <td>-0.638672</td>\n",
              "      <td>0.101288</td>\n",
              "      <td>-0.339846</td>\n",
              "      <td>0.167170</td>\n",
              "      <td>0.125895</td>\n",
              "      <td>-0.008983</td>\n",
              "      <td>0.014724</td>\n",
              "      <td>2.69</td>\n",
              "      <td>0</td>\n",
              "    </tr>\n",
              "    <tr>\n",
              "      <th>2</th>\n",
              "      <td>1.0</td>\n",
              "      <td>-1.358354</td>\n",
              "      <td>-1.340163</td>\n",
              "      <td>1.773209</td>\n",
              "      <td>0.379780</td>\n",
              "      <td>-0.503198</td>\n",
              "      <td>1.800499</td>\n",
              "      <td>0.791461</td>\n",
              "      <td>0.247676</td>\n",
              "      <td>-1.514654</td>\n",
              "      <td>0.207643</td>\n",
              "      <td>0.624501</td>\n",
              "      <td>0.066084</td>\n",
              "      <td>0.717293</td>\n",
              "      <td>-0.165946</td>\n",
              "      <td>2.345865</td>\n",
              "      <td>-2.890083</td>\n",
              "      <td>1.109969</td>\n",
              "      <td>-0.121359</td>\n",
              "      <td>-2.261857</td>\n",
              "      <td>0.524980</td>\n",
              "      <td>0.247998</td>\n",
              "      <td>0.771679</td>\n",
              "      <td>0.909412</td>\n",
              "      <td>-0.689281</td>\n",
              "      <td>-0.327642</td>\n",
              "      <td>-0.139097</td>\n",
              "      <td>-0.055353</td>\n",
              "      <td>-0.059752</td>\n",
              "      <td>378.66</td>\n",
              "      <td>0</td>\n",
              "    </tr>\n",
              "    <tr>\n",
              "      <th>3</th>\n",
              "      <td>1.0</td>\n",
              "      <td>-0.966272</td>\n",
              "      <td>-0.185226</td>\n",
              "      <td>1.792993</td>\n",
              "      <td>-0.863291</td>\n",
              "      <td>-0.010309</td>\n",
              "      <td>1.247203</td>\n",
              "      <td>0.237609</td>\n",
              "      <td>0.377436</td>\n",
              "      <td>-1.387024</td>\n",
              "      <td>-0.054952</td>\n",
              "      <td>-0.226487</td>\n",
              "      <td>0.178228</td>\n",
              "      <td>0.507757</td>\n",
              "      <td>-0.287924</td>\n",
              "      <td>-0.631418</td>\n",
              "      <td>-1.059647</td>\n",
              "      <td>-0.684093</td>\n",
              "      <td>1.965775</td>\n",
              "      <td>-1.232622</td>\n",
              "      <td>-0.208038</td>\n",
              "      <td>-0.108300</td>\n",
              "      <td>0.005274</td>\n",
              "      <td>-0.190321</td>\n",
              "      <td>-1.175575</td>\n",
              "      <td>0.647376</td>\n",
              "      <td>-0.221929</td>\n",
              "      <td>0.062723</td>\n",
              "      <td>0.061458</td>\n",
              "      <td>123.50</td>\n",
              "      <td>0</td>\n",
              "    </tr>\n",
              "    <tr>\n",
              "      <th>4</th>\n",
              "      <td>2.0</td>\n",
              "      <td>-1.158233</td>\n",
              "      <td>0.877737</td>\n",
              "      <td>1.548718</td>\n",
              "      <td>0.403034</td>\n",
              "      <td>-0.407193</td>\n",
              "      <td>0.095921</td>\n",
              "      <td>0.592941</td>\n",
              "      <td>-0.270533</td>\n",
              "      <td>0.817739</td>\n",
              "      <td>0.753074</td>\n",
              "      <td>-0.822843</td>\n",
              "      <td>0.538196</td>\n",
              "      <td>1.345852</td>\n",
              "      <td>-1.119670</td>\n",
              "      <td>0.175121</td>\n",
              "      <td>-0.451449</td>\n",
              "      <td>-0.237033</td>\n",
              "      <td>-0.038195</td>\n",
              "      <td>0.803487</td>\n",
              "      <td>0.408542</td>\n",
              "      <td>-0.009431</td>\n",
              "      <td>0.798278</td>\n",
              "      <td>-0.137458</td>\n",
              "      <td>0.141267</td>\n",
              "      <td>-0.206010</td>\n",
              "      <td>0.502292</td>\n",
              "      <td>0.219422</td>\n",
              "      <td>0.215153</td>\n",
              "      <td>69.99</td>\n",
              "      <td>0</td>\n",
              "    </tr>\n",
              "  </tbody>\n",
              "</table>\n",
              "</div>"
            ],
            "text/plain": [
              "   Time        V1        V2        V3  ...       V27       V28  Amount  Class\n",
              "0   0.0 -1.359807 -0.072781  2.536347  ...  0.133558 -0.021053  149.62      0\n",
              "1   0.0  1.191857  0.266151  0.166480  ... -0.008983  0.014724    2.69      0\n",
              "2   1.0 -1.358354 -1.340163  1.773209  ... -0.055353 -0.059752  378.66      0\n",
              "3   1.0 -0.966272 -0.185226  1.792993  ...  0.062723  0.061458  123.50      0\n",
              "4   2.0 -1.158233  0.877737  1.548718  ...  0.219422  0.215153   69.99      0\n",
              "\n",
              "[5 rows x 31 columns]"
            ]
          },
          "metadata": {
            "tags": []
          },
          "execution_count": 5
        }
      ]
    },
    {
      "cell_type": "code",
      "metadata": {
        "id": "3ijbIaOd_K5b",
        "colab_type": "code",
        "colab": {
          "base_uri": "https://localhost:8080/",
          "height": 304
        },
        "outputId": "9c198054-de4e-4543-85e5-9adf1937bb11"
      },
      "source": [
        "data.describe()"
      ],
      "execution_count": 6,
      "outputs": [
        {
          "output_type": "execute_result",
          "data": {
            "text/html": [
              "<div>\n",
              "<style scoped>\n",
              "    .dataframe tbody tr th:only-of-type {\n",
              "        vertical-align: middle;\n",
              "    }\n",
              "\n",
              "    .dataframe tbody tr th {\n",
              "        vertical-align: top;\n",
              "    }\n",
              "\n",
              "    .dataframe thead th {\n",
              "        text-align: right;\n",
              "    }\n",
              "</style>\n",
              "<table border=\"1\" class=\"dataframe\">\n",
              "  <thead>\n",
              "    <tr style=\"text-align: right;\">\n",
              "      <th></th>\n",
              "      <th>Time</th>\n",
              "      <th>V1</th>\n",
              "      <th>V2</th>\n",
              "      <th>V3</th>\n",
              "      <th>V4</th>\n",
              "      <th>V5</th>\n",
              "      <th>V6</th>\n",
              "      <th>V7</th>\n",
              "      <th>V8</th>\n",
              "      <th>V9</th>\n",
              "      <th>V10</th>\n",
              "      <th>V11</th>\n",
              "      <th>V12</th>\n",
              "      <th>V13</th>\n",
              "      <th>V14</th>\n",
              "      <th>V15</th>\n",
              "      <th>V16</th>\n",
              "      <th>V17</th>\n",
              "      <th>V18</th>\n",
              "      <th>V19</th>\n",
              "      <th>V20</th>\n",
              "      <th>V21</th>\n",
              "      <th>V22</th>\n",
              "      <th>V23</th>\n",
              "      <th>V24</th>\n",
              "      <th>V25</th>\n",
              "      <th>V26</th>\n",
              "      <th>V27</th>\n",
              "      <th>V28</th>\n",
              "      <th>Amount</th>\n",
              "      <th>Class</th>\n",
              "    </tr>\n",
              "  </thead>\n",
              "  <tbody>\n",
              "    <tr>\n",
              "      <th>count</th>\n",
              "      <td>284806.000000</td>\n",
              "      <td>284806.000000</td>\n",
              "      <td>2.848060e+05</td>\n",
              "      <td>284806.000000</td>\n",
              "      <td>284806.000000</td>\n",
              "      <td>2.848060e+05</td>\n",
              "      <td>284806.000000</td>\n",
              "      <td>284806.000000</td>\n",
              "      <td>284806.000000</td>\n",
              "      <td>284806.000000</td>\n",
              "      <td>284806.000000</td>\n",
              "      <td>284806.000000</td>\n",
              "      <td>2.848060e+05</td>\n",
              "      <td>2.848060e+05</td>\n",
              "      <td>2.848060e+05</td>\n",
              "      <td>2.848060e+05</td>\n",
              "      <td>284806.000000</td>\n",
              "      <td>284806.000000</td>\n",
              "      <td>2.848060e+05</td>\n",
              "      <td>2.848060e+05</td>\n",
              "      <td>284806.000000</td>\n",
              "      <td>2.848060e+05</td>\n",
              "      <td>284806.000000</td>\n",
              "      <td>284806.000000</td>\n",
              "      <td>2.848060e+05</td>\n",
              "      <td>284806.000000</td>\n",
              "      <td>284806.000000</td>\n",
              "      <td>2.848060e+05</td>\n",
              "      <td>2.848060e+05</td>\n",
              "      <td>284806.000000</td>\n",
              "      <td>284806.000000</td>\n",
              "    </tr>\n",
              "    <tr>\n",
              "      <th>mean</th>\n",
              "      <td>94813.585781</td>\n",
              "      <td>0.000002</td>\n",
              "      <td>6.661837e-07</td>\n",
              "      <td>-0.000002</td>\n",
              "      <td>0.000002</td>\n",
              "      <td>4.405007e-08</td>\n",
              "      <td>0.000002</td>\n",
              "      <td>-0.000006</td>\n",
              "      <td>0.000001</td>\n",
              "      <td>-0.000002</td>\n",
              "      <td>0.000003</td>\n",
              "      <td>0.000004</td>\n",
              "      <td>1.106485e-07</td>\n",
              "      <td>6.604254e-07</td>\n",
              "      <td>2.960486e-07</td>\n",
              "      <td>-1.451290e-07</td>\n",
              "      <td>0.000001</td>\n",
              "      <td>0.000002</td>\n",
              "      <td>-5.878731e-07</td>\n",
              "      <td>8.992685e-07</td>\n",
              "      <td>-0.000001</td>\n",
              "      <td>-9.166149e-07</td>\n",
              "      <td>-0.000002</td>\n",
              "      <td>-0.000001</td>\n",
              "      <td>-3.088756e-08</td>\n",
              "      <td>0.000002</td>\n",
              "      <td>0.000003</td>\n",
              "      <td>8.483873e-09</td>\n",
              "      <td>-4.792707e-08</td>\n",
              "      <td>88.349168</td>\n",
              "      <td>0.001727</td>\n",
              "    </tr>\n",
              "    <tr>\n",
              "      <th>std</th>\n",
              "      <td>47488.004530</td>\n",
              "      <td>1.958699</td>\n",
              "      <td>1.651311e+00</td>\n",
              "      <td>1.516257</td>\n",
              "      <td>1.415871</td>\n",
              "      <td>1.380249e+00</td>\n",
              "      <td>1.332273</td>\n",
              "      <td>1.237092</td>\n",
              "      <td>1.194355</td>\n",
              "      <td>1.098634</td>\n",
              "      <td>1.088850</td>\n",
              "      <td>1.020713</td>\n",
              "      <td>9.992031e-01</td>\n",
              "      <td>9.952759e-01</td>\n",
              "      <td>9.585973e-01</td>\n",
              "      <td>9.153176e-01</td>\n",
              "      <td>0.876254</td>\n",
              "      <td>0.849338</td>\n",
              "      <td>8.381776e-01</td>\n",
              "      <td>8.140418e-01</td>\n",
              "      <td>0.770926</td>\n",
              "      <td>7.345251e-01</td>\n",
              "      <td>0.725702</td>\n",
              "      <td>0.624461</td>\n",
              "      <td>6.056481e-01</td>\n",
              "      <td>0.521278</td>\n",
              "      <td>0.482225</td>\n",
              "      <td>4.036332e-01</td>\n",
              "      <td>3.300838e-01</td>\n",
              "      <td>250.120432</td>\n",
              "      <td>0.041527</td>\n",
              "    </tr>\n",
              "    <tr>\n",
              "      <th>min</th>\n",
              "      <td>0.000000</td>\n",
              "      <td>-56.407510</td>\n",
              "      <td>-7.271573e+01</td>\n",
              "      <td>-48.325589</td>\n",
              "      <td>-5.683171</td>\n",
              "      <td>-1.137433e+02</td>\n",
              "      <td>-26.160506</td>\n",
              "      <td>-43.557242</td>\n",
              "      <td>-73.216718</td>\n",
              "      <td>-13.434066</td>\n",
              "      <td>-24.588262</td>\n",
              "      <td>-4.797473</td>\n",
              "      <td>-1.868371e+01</td>\n",
              "      <td>-5.791881e+00</td>\n",
              "      <td>-1.921433e+01</td>\n",
              "      <td>-4.498945e+00</td>\n",
              "      <td>-14.129855</td>\n",
              "      <td>-25.162799</td>\n",
              "      <td>-9.498746e+00</td>\n",
              "      <td>-7.213527e+00</td>\n",
              "      <td>-54.497720</td>\n",
              "      <td>-3.483038e+01</td>\n",
              "      <td>-10.933144</td>\n",
              "      <td>-44.807735</td>\n",
              "      <td>-2.836627e+00</td>\n",
              "      <td>-10.295397</td>\n",
              "      <td>-2.604551</td>\n",
              "      <td>-2.256568e+01</td>\n",
              "      <td>-1.543008e+01</td>\n",
              "      <td>0.000000</td>\n",
              "      <td>0.000000</td>\n",
              "    </tr>\n",
              "    <tr>\n",
              "      <th>25%</th>\n",
              "      <td>54201.250000</td>\n",
              "      <td>-0.920374</td>\n",
              "      <td>-5.985522e-01</td>\n",
              "      <td>-0.890368</td>\n",
              "      <td>-0.848642</td>\n",
              "      <td>-6.915995e-01</td>\n",
              "      <td>-0.768296</td>\n",
              "      <td>-0.554080</td>\n",
              "      <td>-0.208628</td>\n",
              "      <td>-0.643098</td>\n",
              "      <td>-0.535422</td>\n",
              "      <td>-0.762485</td>\n",
              "      <td>-4.055742e-01</td>\n",
              "      <td>-6.485416e-01</td>\n",
              "      <td>-4.255807e-01</td>\n",
              "      <td>-5.828853e-01</td>\n",
              "      <td>-0.468046</td>\n",
              "      <td>-0.483745</td>\n",
              "      <td>-4.988498e-01</td>\n",
              "      <td>-4.563030e-01</td>\n",
              "      <td>-0.211722</td>\n",
              "      <td>-2.283974e-01</td>\n",
              "      <td>-0.542351</td>\n",
              "      <td>-0.161846</td>\n",
              "      <td>-3.545895e-01</td>\n",
              "      <td>-0.317142</td>\n",
              "      <td>-0.326979</td>\n",
              "      <td>-7.083961e-02</td>\n",
              "      <td>-5.295995e-02</td>\n",
              "      <td>5.600000</td>\n",
              "      <td>0.000000</td>\n",
              "    </tr>\n",
              "    <tr>\n",
              "      <th>50%</th>\n",
              "      <td>84691.500000</td>\n",
              "      <td>0.018109</td>\n",
              "      <td>6.549621e-02</td>\n",
              "      <td>0.179846</td>\n",
              "      <td>-0.019845</td>\n",
              "      <td>-5.433621e-02</td>\n",
              "      <td>-0.274186</td>\n",
              "      <td>0.040097</td>\n",
              "      <td>0.022358</td>\n",
              "      <td>-0.051429</td>\n",
              "      <td>-0.092913</td>\n",
              "      <td>-0.032757</td>\n",
              "      <td>1.400356e-01</td>\n",
              "      <td>-1.356316e-02</td>\n",
              "      <td>5.060308e-02</td>\n",
              "      <td>4.807416e-02</td>\n",
              "      <td>0.066418</td>\n",
              "      <td>-0.065673</td>\n",
              "      <td>-3.639113e-03</td>\n",
              "      <td>3.736578e-03</td>\n",
              "      <td>-0.062481</td>\n",
              "      <td>-2.945020e-02</td>\n",
              "      <td>0.006781</td>\n",
              "      <td>-0.011196</td>\n",
              "      <td>4.097671e-02</td>\n",
              "      <td>0.016596</td>\n",
              "      <td>-0.052134</td>\n",
              "      <td>1.342244e-03</td>\n",
              "      <td>1.124381e-02</td>\n",
              "      <td>22.000000</td>\n",
              "      <td>0.000000</td>\n",
              "    </tr>\n",
              "    <tr>\n",
              "      <th>75%</th>\n",
              "      <td>139320.000000</td>\n",
              "      <td>1.315645</td>\n",
              "      <td>8.037257e-01</td>\n",
              "      <td>1.027198</td>\n",
              "      <td>0.743348</td>\n",
              "      <td>6.119267e-01</td>\n",
              "      <td>0.398567</td>\n",
              "      <td>0.570426</td>\n",
              "      <td>0.327346</td>\n",
              "      <td>0.597140</td>\n",
              "      <td>0.453934</td>\n",
              "      <td>0.739595</td>\n",
              "      <td>6.182391e-01</td>\n",
              "      <td>6.625058e-01</td>\n",
              "      <td>4.931500e-01</td>\n",
              "      <td>6.488220e-01</td>\n",
              "      <td>0.523300</td>\n",
              "      <td>0.399676</td>\n",
              "      <td>5.008082e-01</td>\n",
              "      <td>4.589502e-01</td>\n",
              "      <td>0.133034</td>\n",
              "      <td>1.863701e-01</td>\n",
              "      <td>0.528548</td>\n",
              "      <td>0.147641</td>\n",
              "      <td>4.395270e-01</td>\n",
              "      <td>0.350716</td>\n",
              "      <td>0.240955</td>\n",
              "      <td>9.104579e-02</td>\n",
              "      <td>7.828043e-02</td>\n",
              "      <td>77.160000</td>\n",
              "      <td>0.000000</td>\n",
              "    </tr>\n",
              "    <tr>\n",
              "      <th>max</th>\n",
              "      <td>172788.000000</td>\n",
              "      <td>2.454930</td>\n",
              "      <td>2.205773e+01</td>\n",
              "      <td>9.382558</td>\n",
              "      <td>16.875344</td>\n",
              "      <td>3.480167e+01</td>\n",
              "      <td>73.301626</td>\n",
              "      <td>120.589494</td>\n",
              "      <td>20.007208</td>\n",
              "      <td>15.594995</td>\n",
              "      <td>23.745136</td>\n",
              "      <td>12.018913</td>\n",
              "      <td>7.848392e+00</td>\n",
              "      <td>7.126883e+00</td>\n",
              "      <td>1.052677e+01</td>\n",
              "      <td>8.877742e+00</td>\n",
              "      <td>17.315112</td>\n",
              "      <td>9.253526</td>\n",
              "      <td>5.041069e+00</td>\n",
              "      <td>5.591971e+00</td>\n",
              "      <td>39.420904</td>\n",
              "      <td>2.720284e+01</td>\n",
              "      <td>10.503090</td>\n",
              "      <td>22.528412</td>\n",
              "      <td>4.584549e+00</td>\n",
              "      <td>7.519589</td>\n",
              "      <td>3.517346</td>\n",
              "      <td>3.161220e+01</td>\n",
              "      <td>3.384781e+01</td>\n",
              "      <td>25691.160000</td>\n",
              "      <td>1.000000</td>\n",
              "    </tr>\n",
              "  </tbody>\n",
              "</table>\n",
              "</div>"
            ],
            "text/plain": [
              "                Time             V1  ...         Amount          Class\n",
              "count  284806.000000  284806.000000  ...  284806.000000  284806.000000\n",
              "mean    94813.585781       0.000002  ...      88.349168       0.001727\n",
              "std     47488.004530       1.958699  ...     250.120432       0.041527\n",
              "min         0.000000     -56.407510  ...       0.000000       0.000000\n",
              "25%     54201.250000      -0.920374  ...       5.600000       0.000000\n",
              "50%     84691.500000       0.018109  ...      22.000000       0.000000\n",
              "75%    139320.000000       1.315645  ...      77.160000       0.000000\n",
              "max    172788.000000       2.454930  ...   25691.160000       1.000000\n",
              "\n",
              "[8 rows x 31 columns]"
            ]
          },
          "metadata": {
            "tags": []
          },
          "execution_count": 6
        }
      ]
    },
    {
      "cell_type": "code",
      "metadata": {
        "id": "BWZkBGBO_K5e",
        "colab_type": "code",
        "colab": {
          "base_uri": "https://localhost:8080/",
          "height": 265
        },
        "outputId": "35cd4487-9d0e-4741-d726-9d83937afc1a"
      },
      "source": [
        "import matplotlib.pyplot as plt\n",
        "data['Time'].plot(style = '.')\n",
        "plt.show()"
      ],
      "execution_count": 7,
      "outputs": [
        {
          "output_type": "display_data",
          "data": {
            "image/png": "[encoded data removed]",
            "text/plain": [
              "<Figure size 432x288 with 1 Axes>"
            ]
          },
          "metadata": {
            "tags": [],
            "needs_background": "light"
          }
        }
      ]
    },
    {
      "cell_type": "markdown",
      "metadata": {
        "id": "b_qFfJCb_K5h",
        "colab_type": "text"
      },
      "source": [
        " - 'Time'은 순서가 있는 정보이므로 삭제해준다"
      ]
    },
    {
      "cell_type": "code",
      "metadata": {
        "id": "-inUqQRT_K5k",
        "colab_type": "code",
        "colab": {}
      },
      "source": [
        "#remove column['Time']\n",
        "data = data.drop(['Time'], axis=1)"
      ],
      "execution_count": 8,
      "outputs": []
    },
    {
      "cell_type": "markdown",
      "metadata": {
        "id": "isAKh7J3_K5m",
        "colab_type": "text"
      },
      "source": [
        " ### 타겟의 비율"
      ]
    },
    {
      "cell_type": "code",
      "metadata": {
        "id": "juNxYo7z_K5n",
        "colab_type": "code",
        "colab": {
          "base_uri": "https://localhost:8080/",
          "height": 70
        },
        "outputId": "6f0d1dd0-d327-4aae-f156-e1f81efed037"
      },
      "source": [
        "data['Class'].value_counts()"
      ],
      "execution_count": 9,
      "outputs": [
        {
          "output_type": "execute_result",
          "data": {
            "text/plain": [
              "0    284314\n",
              "1       492\n",
              "Name: Class, dtype: int64"
            ]
          },
          "metadata": {
            "tags": []
          },
          "execution_count": 9
        }
      ]
    },
    {
      "cell_type": "markdown",
      "metadata": {
        "id": "xgm7wUzm_K5q",
        "colab_type": "text"
      },
      "source": [
        " - 불균형한 데이터임을 확인할 수 있다"
      ]
    },
    {
      "cell_type": "markdown",
      "metadata": {
        "id": "Le3NG9ch_K5q",
        "colab_type": "text"
      },
      "source": [
        "### 결측치 및 이상치 확인"
      ]
    },
    {
      "cell_type": "code",
      "metadata": {
        "id": "dYmwzavp_K5q",
        "colab_type": "code",
        "colab": {
          "base_uri": "https://localhost:8080/",
          "height": 562
        },
        "outputId": "137539b5-8fb7-4144-e8ab-181572f04eda"
      },
      "source": [
        "data.isnull().sum()"
      ],
      "execution_count": 10,
      "outputs": [
        {
          "output_type": "execute_result",
          "data": {
            "text/plain": [
              "V1        0\n",
              "V2        0\n",
              "V3        0\n",
              "V4        0\n",
              "V5        0\n",
              "V6        0\n",
              "V7        0\n",
              "V8        0\n",
              "V9        0\n",
              "V10       0\n",
              "V11       0\n",
              "V12       0\n",
              "V13       0\n",
              "V14       0\n",
              "V15       0\n",
              "V16       0\n",
              "V17       0\n",
              "V18       0\n",
              "V19       0\n",
              "V20       0\n",
              "V21       0\n",
              "V22       0\n",
              "V23       0\n",
              "V24       0\n",
              "V25       0\n",
              "V26       0\n",
              "V27       0\n",
              "V28       0\n",
              "Amount    0\n",
              "Class     0\n",
              "dtype: int64"
            ]
          },
          "metadata": {
            "tags": []
          },
          "execution_count": 10
        }
      ]
    },
    {
      "cell_type": "markdown",
      "metadata": {
        "id": "oTNhV7nU_K5t",
        "colab_type": "text"
      },
      "source": [
        " - 결측치 없음 확인"
      ]
    },
    {
      "cell_type": "code",
      "metadata": {
        "id": "M_R4NzBY_K5t",
        "colab_type": "code",
        "colab": {
          "base_uri": "https://localhost:8080/",
          "height": 513
        },
        "outputId": "023464d5-58f9-4fc4-e93e-c43776fd299c"
      },
      "source": [
        "data.drop(['Amount','Class'], axis = 1).boxplot()\n",
        "plt.show()\n",
        "plt.boxplot(data['Amount'])\n",
        "plt.show()"
      ],
      "execution_count": 11,
      "outputs": [
        {
          "output_type": "display_data",
          "data": {
            "image/png": "[encoded data removed]",
            "text/plain": [
              "<Figure size 432x288 with 1 Axes>"
            ]
          },
          "metadata": {
            "tags": [],
            "needs_background": "light"
          }
        },
        {
          "output_type": "display_data",
          "data": {
            "image/png": "[encoded data removed]",
            "text/plain": [
              "<Figure size 432x288 with 1 Axes>"
            ]
          },
          "metadata": {
            "tags": [],
            "needs_background": "light"
          }
        }
      ]
    },
    {
      "cell_type": "markdown",
      "metadata": {
        "id": "kaqHOTyy_K5w",
        "colab_type": "text"
      },
      "source": [
        " - V1~V28은 적은 양의 이상치가 확인되고, 중간값과 크게 차이가 나지 않으므로 제거 X\n",
        " - Amount의 경우 중간값과 굉장히 많이 차이나는 이상치들이 많이 확인되지만, 많은 정보를 제거할 시 원본 데이터의 특성을 잃어버릴 수 있으므로 제거 X\n",
        " - =>정규화 과정을 수행"
      ]
    },
    {
      "cell_type": "markdown",
      "metadata": {
        "id": "j3m9CmWu_K5w",
        "colab_type": "text"
      },
      "source": [
        "## 학습 준비 및 모델 설정"
      ]
    },
    {
      "cell_type": "code",
      "metadata": {
        "id": "hrkk6hCi_K5w",
        "colab_type": "code",
        "colab": {}
      },
      "source": [
        "X,y = data.drop(['Class'], axis = 1), data['Class']"
      ],
      "execution_count": 12,
      "outputs": []
    },
    {
      "cell_type": "code",
      "metadata": {
        "id": "j5vfo7fM_K5y",
        "colab_type": "code",
        "colab": {}
      },
      "source": [
        "#train_test_split\n",
        "X_train, X_test, y_train, y_test = train_test_split(X, y, test_size=0.2, random_state=48)"
      ],
      "execution_count": 13,
      "outputs": []
    },
    {
      "cell_type": "code",
      "metadata": {
        "id": "g3SvMuA7_K51",
        "colab_type": "code",
        "colab": {}
      },
      "source": [
        "#train_scaling\n",
        "scaler = StandardScaler()\n",
        "X_train = scaler.fit_transform(X_train)"
      ],
      "execution_count": 14,
      "outputs": []
    },
    {
      "cell_type": "code",
      "metadata": {
        "id": "ZPz0rZoz_K54",
        "colab_type": "code",
        "colab": {}
      },
      "source": [
        "#test_scaling\n",
        "X_test = scaler.transform(X_test)"
      ],
      "execution_count": 15,
      "outputs": []
    },
    {
      "cell_type": "code",
      "metadata": {
        "id": "qY7CGjRP_K56",
        "colab_type": "code",
        "colab": {
          "base_uri": "https://localhost:8080/",
          "height": 34
        },
        "outputId": "a0ca434e-7bc2-48e9-9bad-adbbc93dd929"
      },
      "source": [
        "X_train.shape, y_train.shape"
      ],
      "execution_count": 16,
      "outputs": [
        {
          "output_type": "execute_result",
          "data": {
            "text/plain": [
              "((227844, 29), (227844,))"
            ]
          },
          "metadata": {
            "tags": []
          },
          "execution_count": 16
        }
      ]
    },
    {
      "cell_type": "code",
      "metadata": {
        "id": "6_ZxX3T0_K59",
        "colab_type": "code",
        "colab": {
          "base_uri": "https://localhost:8080/",
          "height": 142
        },
        "outputId": "889bfa67-bcf5-4833-82f2-6a39b698eff8"
      },
      "source": [
        "#oversampling(synthetic minority oversampling technique = SMOTE)\n",
        "from sklearn.datasets import make_classification\n",
        "from sklearn.decomposition import PCA\n",
        "from imblearn.over_sampling import SMOTE\n",
        "\n",
        "sm = SMOTE()\n",
        "\n",
        "resample_X_train, resample_y_train = sm.fit_sample(X_train, y_train)"
      ],
      "execution_count": 17,
      "outputs": [
        {
          "output_type": "stream",
          "text": [
            "/usr/local/lib/python3.6/dist-packages/sklearn/externals/six.py:31: FutureWarning: The module is deprecated in version 0.21 and will be removed in version 0.23 since we've dropped support for Python 2.7. Please rely on the official version of six (https://pypi.org/project/six/).\n",
            "  \"(https://pypi.org/project/six/).\", FutureWarning)\n",
            "/usr/local/lib/python3.6/dist-packages/sklearn/utils/deprecation.py:144: FutureWarning: The sklearn.neighbors.base module is  deprecated in version 0.22 and will be removed in version 0.24. The corresponding classes / functions should instead be imported from sklearn.neighbors. Anything that cannot be imported from sklearn.neighbors is now part of the private API.\n",
            "  warnings.warn(message, FutureWarning)\n",
            "/usr/local/lib/python3.6/dist-packages/sklearn/utils/deprecation.py:87: FutureWarning: Function safe_indexing is deprecated; safe_indexing is deprecated in version 0.22 and will be removed in version 0.24.\n",
            "  warnings.warn(msg, category=FutureWarning)\n"
          ],
          "name": "stderr"
        }
      ]
    },
    {
      "cell_type": "code",
      "metadata": {
        "id": "uFZ02ILA_K5_",
        "colab_type": "code",
        "colab": {
          "base_uri": "https://localhost:8080/",
          "height": 210
        },
        "outputId": "ca8f8382-85f6-4152-effc-968f4342e775"
      },
      "source": [
        "print(\"shape of resample_X:\",resample_X_train.shape) \n",
        "print(\"shape of resample_y:\",resample_y_train.shape)\n",
        "print()\n",
        "print(\"proportion of original target\")\n",
        "print(pd.Series(y_train).value_counts())\n",
        "print('proportion of resampled target')\n",
        "print(pd.Series(resample_y_train).value_counts())"
      ],
      "execution_count": 18,
      "outputs": [
        {
          "output_type": "stream",
          "text": [
            "shape of resample_X: (454922, 29)\n",
            "shape of resample_y: (454922,)\n",
            "\n",
            "proportion of original target\n",
            "0    227461\n",
            "1       383\n",
            "Name: Class, dtype: int64\n",
            "proportion of resampled target\n",
            "1    227461\n",
            "0    227461\n",
            "dtype: int64\n"
          ],
          "name": "stdout"
        }
      ]
    },
    {
      "cell_type": "markdown",
      "metadata": {
        "id": "-ijybW7f_K6B",
        "colab_type": "text"
      },
      "source": [
        "### 모델 생성"
      ]
    },
    {
      "cell_type": "code",
      "metadata": {
        "id": "WG-T77LH_K6B",
        "colab_type": "code",
        "colab": {}
      },
      "source": [
        "from sklearn.model_selection import cross_validate"
      ],
      "execution_count": 19,
      "outputs": []
    },
    {
      "cell_type": "code",
      "metadata": {
        "id": "5k-9g0Hz_K6E",
        "colab_type": "code",
        "colab": {}
      },
      "source": [
        "# 모델들 생성\n",
        "svc_original = SVC(kernel = 'linear', gamma = 'scale')\n",
        "svc_weight = SVC(kernel = 'linear', gamma = 'scale', class_weight='balanced')\n",
        "svc_resample = SVC(kernel = 'linear', gamma = 'scale')"
      ],
      "execution_count": 20,
      "outputs": []
    },
    {
      "cell_type": "markdown",
      "metadata": {
        "id": "v3U28d67_K6G",
        "colab_type": "text"
      },
      "source": [
        "## 모델 평가"
      ]
    },
    {
      "cell_type": "code",
      "metadata": {
        "id": "_aPDI2yp_K6G",
        "colab_type": "code",
        "colab": {}
      },
      "source": [
        "from sklearn.metrics import classification_report"
      ],
      "execution_count": 21,
      "outputs": []
    },
    {
      "cell_type": "code",
      "metadata": {
        "id": "s6ei-oZ2_K6J",
        "colab_type": "code",
        "colab": {
          "base_uri": "https://localhost:8080/",
          "height": 210
        },
        "outputId": "063bb5df-a4ef-477c-9a9e-817834119738"
      },
      "source": [
        "# #original\n",
        "# svc_original.fit(X_train, y_train)\n",
        "# y_pred = svc_original.predict(X_test)\n",
        "# print('Original Case')\n",
        "# print('Accuracy Score:')\n",
        "# print(classification_report(y_test,y_pred))\n",
        "\n",
        "\n",
        "#weight\n",
        "svc_weight.fit(X_train, y_train)\n",
        "y_pred = svc_weight.predict(X_test)\n",
        "print('Weight Case')\n",
        "print('Accuracy Score:')\n",
        "print(classification_report(y_test,y_pred))\n",
        "\n",
        "# #Smote_resample\n",
        "# svc_resample.fit(resample_X_train, resample_y_train)\n",
        "# y_pred = svc_resample.predict(X_test)\n",
        "# print('Resample Case')\n",
        "# print(\"Accuracy Score:\")\n",
        "# print(classification_report(y_test,y_pred))\n"
      ],
      "execution_count": 22,
      "outputs": [
        {
          "output_type": "stream",
          "text": [
            "Weight Case\n",
            "Accuracy Score:\n",
            "              precision    recall  f1-score   support\n",
            "\n",
            "           0       1.00      0.98      0.99     56853\n",
            "           1       0.07      0.94      0.13       109\n",
            "\n",
            "    accuracy                           0.98     56962\n",
            "   macro avg       0.54      0.96      0.56     56962\n",
            "weighted avg       1.00      0.98      0.99     56962\n",
            "\n"
          ],
          "name": "stdout"
        }
      ]
    },
    {
      "cell_type": "code",
      "metadata": {
        "id": "0fSNoyfR_K6M",
        "colab_type": "code",
        "colab": {
          "base_uri": "https://localhost:8080/",
          "height": 34
        },
        "outputId": "b9e7916f-7fe9-416c-8221-1bfd52594e13"
      },
      "source": [
        "accuracy_score(y_test, y_pred)"
      ],
      "execution_count": 23,
      "outputs": [
        {
          "output_type": "execute_result",
          "data": {
            "text/plain": [
              "0.9769846564376251"
            ]
          },
          "metadata": {
            "tags": []
          },
          "execution_count": 23
        }
      ]
    },
    {
      "cell_type": "markdown",
      "metadata": {
        "id": "Qjo-qq7abGmp",
        "colab_type": "text"
      },
      "source": [
        "다른 모델들과 비교를 하지 못했지만, 가중치를 준 모델의 경우 높은 recall을 보여준다."
      ]
    },
    {
      "cell_type": "markdown",
      "metadata": {
        "id": "Z_In3k1vbaUE",
        "colab_type": "text"
      },
      "source": [
        "시간이 부족해서 기본 모델과, oversampling은 학습을 시키지 못했습니다."
      ]
    },
    {
      "cell_type": "code",
      "metadata": {
        "id": "yCEnPtQfbUHt",
        "colab_type": "code",
        "colab": {}
      },
      "source": [
        ""
      ],
      "execution_count": null,
      "outputs": []
    }
  ]
}