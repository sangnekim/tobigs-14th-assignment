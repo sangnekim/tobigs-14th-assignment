{
 "cells": [
  {
   "cell_type": "code",
   "execution_count": 1,
   "metadata": {},
   "outputs": [],
   "source": [
    "import pandas as pd\n",
    "import numpy as np\n",
    "import matplotlib.pyplot as plt\n",
    "import seaborn as sns\n",
    "%matplotlib inline"
   ]
  },
  {
   "cell_type": "code",
   "execution_count": 238,
   "metadata": {},
   "outputs": [],
   "source": [
    "#data load\n",
    "train = pd.read_csv('ggstore_train.csv')\n",
    "test = pd.read_csv('ggstore_test.csv')"
   ]
  },
  {
   "cell_type": "markdown",
   "metadata": {},
   "source": [
    "# 1.EDA & Data Processing"
   ]
  },
  {
   "cell_type": "code",
   "execution_count": 239,
   "metadata": {},
   "outputs": [
    {
     "name": "stdout",
     "output_type": "stream",
     "text": [
      "<class 'pandas.core.frame.DataFrame'>\n",
      "RangeIndex: 5616 entries, 0 to 5615\n",
      "Data columns (total 12 columns):\n",
      "App               5616 non-null object\n",
      "Category          5616 non-null object\n",
      "Rating            5616 non-null float64\n",
      "Reviews           5616 non-null int64\n",
      "Size              5616 non-null float64\n",
      "Installs          5616 non-null float64\n",
      "Type              5616 non-null int64\n",
      "Price             5616 non-null float64\n",
      "Content Rating    5616 non-null object\n",
      "Genres            5616 non-null object\n",
      "Last Updated      5616 non-null object\n",
      "Id                5616 non-null int64\n",
      "dtypes: float64(4), int64(3), object(5)\n",
      "memory usage: 526.6+ KB\n"
     ]
    }
   ],
   "source": [
    "train.info()"
   ]
  },
  {
   "cell_type": "code",
   "execution_count": 240,
   "metadata": {},
   "outputs": [
    {
     "name": "stdout",
     "output_type": "stream",
     "text": [
      "<class 'pandas.core.frame.DataFrame'>\n",
      "RangeIndex: 1404 entries, 0 to 1403\n",
      "Data columns (total 11 columns):\n",
      "App               1404 non-null object\n",
      "Category          1404 non-null object\n",
      "Reviews           1404 non-null int64\n",
      "Size              1404 non-null float64\n",
      "Installs          1404 non-null float64\n",
      "Type              1404 non-null int64\n",
      "Price             1404 non-null float64\n",
      "Content Rating    1404 non-null object\n",
      "Genres            1404 non-null object\n",
      "Last Updated      1404 non-null object\n",
      "Id                1404 non-null int64\n",
      "dtypes: float64(3), int64(3), object(5)\n",
      "memory usage: 120.7+ KB\n"
     ]
    }
   ],
   "source": [
    "test.info()"
   ]
  },
  {
   "cell_type": "code",
   "execution_count": 241,
   "metadata": {},
   "outputs": [
    {
     "data": {
      "text/html": [
       "<div>\n",
       "<style scoped>\n",
       "    .dataframe tbody tr th:only-of-type {\n",
       "        vertical-align: middle;\n",
       "    }\n",
       "\n",
       "    .dataframe tbody tr th {\n",
       "        vertical-align: top;\n",
       "    }\n",
       "\n",
       "    .dataframe thead th {\n",
       "        text-align: right;\n",
       "    }\n",
       "</style>\n",
       "<table border=\"1\" class=\"dataframe\">\n",
       "  <thead>\n",
       "    <tr style=\"text-align: right;\">\n",
       "      <th></th>\n",
       "      <th>App</th>\n",
       "      <th>Category</th>\n",
       "      <th>Rating</th>\n",
       "      <th>Reviews</th>\n",
       "      <th>Size</th>\n",
       "      <th>Installs</th>\n",
       "      <th>Type</th>\n",
       "      <th>Price</th>\n",
       "      <th>Content Rating</th>\n",
       "      <th>Genres</th>\n",
       "      <th>Last Updated</th>\n",
       "      <th>Id</th>\n",
       "    </tr>\n",
       "  </thead>\n",
       "  <tbody>\n",
       "    <tr>\n",
       "      <th>0</th>\n",
       "      <td>Photo Editor &amp; Candy Camera &amp; Grid &amp; ScrapBook</td>\n",
       "      <td>ART_AND_DESIGN</td>\n",
       "      <td>4.1</td>\n",
       "      <td>159</td>\n",
       "      <td>19.0</td>\n",
       "      <td>10000.0</td>\n",
       "      <td>0</td>\n",
       "      <td>0.0</td>\n",
       "      <td>Everyone</td>\n",
       "      <td>Art &amp; Design</td>\n",
       "      <td>2018-01-07</td>\n",
       "      <td>0</td>\n",
       "    </tr>\n",
       "    <tr>\n",
       "      <th>1</th>\n",
       "      <td>Coloring book moana</td>\n",
       "      <td>ART_AND_DESIGN</td>\n",
       "      <td>3.9</td>\n",
       "      <td>967</td>\n",
       "      <td>14.0</td>\n",
       "      <td>500000.0</td>\n",
       "      <td>0</td>\n",
       "      <td>0.0</td>\n",
       "      <td>Everyone</td>\n",
       "      <td>Art &amp; Design;Pretend Play</td>\n",
       "      <td>2018-01-15</td>\n",
       "      <td>1</td>\n",
       "    </tr>\n",
       "    <tr>\n",
       "      <th>2</th>\n",
       "      <td>U Launcher Lite – FREE Live Cool Themes, Hide ...</td>\n",
       "      <td>ART_AND_DESIGN</td>\n",
       "      <td>4.7</td>\n",
       "      <td>87510</td>\n",
       "      <td>8.7</td>\n",
       "      <td>5000000.0</td>\n",
       "      <td>0</td>\n",
       "      <td>0.0</td>\n",
       "      <td>Everyone</td>\n",
       "      <td>Art &amp; Design</td>\n",
       "      <td>2018-08-01</td>\n",
       "      <td>2</td>\n",
       "    </tr>\n",
       "    <tr>\n",
       "      <th>3</th>\n",
       "      <td>Sketch - Draw &amp; Paint</td>\n",
       "      <td>ART_AND_DESIGN</td>\n",
       "      <td>4.5</td>\n",
       "      <td>215644</td>\n",
       "      <td>25.0</td>\n",
       "      <td>50000000.0</td>\n",
       "      <td>0</td>\n",
       "      <td>0.0</td>\n",
       "      <td>Teen</td>\n",
       "      <td>Art &amp; Design</td>\n",
       "      <td>2018-06-08</td>\n",
       "      <td>3</td>\n",
       "    </tr>\n",
       "    <tr>\n",
       "      <th>4</th>\n",
       "      <td>Pixel Draw - Number Art Coloring Book</td>\n",
       "      <td>ART_AND_DESIGN</td>\n",
       "      <td>4.3</td>\n",
       "      <td>967</td>\n",
       "      <td>2.8</td>\n",
       "      <td>100000.0</td>\n",
       "      <td>0</td>\n",
       "      <td>0.0</td>\n",
       "      <td>Everyone</td>\n",
       "      <td>Art &amp; Design;Creativity</td>\n",
       "      <td>2018-06-20</td>\n",
       "      <td>4</td>\n",
       "    </tr>\n",
       "  </tbody>\n",
       "</table>\n",
       "</div>"
      ],
      "text/plain": [
       "                                                 App        Category  Rating  \\\n",
       "0     Photo Editor & Candy Camera & Grid & ScrapBook  ART_AND_DESIGN     4.1   \n",
       "1                                Coloring book moana  ART_AND_DESIGN     3.9   \n",
       "2  U Launcher Lite – FREE Live Cool Themes, Hide ...  ART_AND_DESIGN     4.7   \n",
       "3                              Sketch - Draw & Paint  ART_AND_DESIGN     4.5   \n",
       "4              Pixel Draw - Number Art Coloring Book  ART_AND_DESIGN     4.3   \n",
       "\n",
       "   Reviews  Size    Installs  Type  Price Content Rating  \\\n",
       "0      159  19.0     10000.0     0    0.0       Everyone   \n",
       "1      967  14.0    500000.0     0    0.0       Everyone   \n",
       "2    87510   8.7   5000000.0     0    0.0       Everyone   \n",
       "3   215644  25.0  50000000.0     0    0.0           Teen   \n",
       "4      967   2.8    100000.0     0    0.0       Everyone   \n",
       "\n",
       "                      Genres Last Updated  Id  \n",
       "0               Art & Design   2018-01-07   0  \n",
       "1  Art & Design;Pretend Play   2018-01-15   1  \n",
       "2               Art & Design   2018-08-01   2  \n",
       "3               Art & Design   2018-06-08   3  \n",
       "4    Art & Design;Creativity   2018-06-20   4  "
      ]
     },
     "execution_count": 241,
     "metadata": {},
     "output_type": "execute_result"
    }
   ],
   "source": [
    "train.head()"
   ]
  },
  {
   "cell_type": "markdown",
   "metadata": {},
   "source": [
    "### 범주형 변수 확인"
   ]
  },
  {
   "cell_type": "code",
   "execution_count": 242,
   "metadata": {},
   "outputs": [
    {
     "data": {
      "text/plain": [
       "Everyone           4531\n",
       "Teen                589\n",
       "Mature 17+          281\n",
       "Everyone 10+        212\n",
       "Adults only 18+       2\n",
       "Unrated               1\n",
       "Name: Content Rating, dtype: int64"
      ]
     },
     "execution_count": 242,
     "metadata": {},
     "output_type": "execute_result"
    }
   ],
   "source": [
    "train['Content Rating'].value_counts()"
   ]
  },
  {
   "cell_type": "code",
   "execution_count": 243,
   "metadata": {},
   "outputs": [
    {
     "data": {
      "text/plain": [
       "FAMILY                 408\n",
       "GAME                   175\n",
       "TOOLS                  162\n",
       "SPORTS                  78\n",
       "FINANCE                 57\n",
       "BUSINESS                56\n",
       "PRODUCTIVITY            50\n",
       "LIFESTYLE               49\n",
       "PERSONALIZATION         47\n",
       "NEWS_AND_MAGAZINES      40\n",
       "COMMUNICATION           35\n",
       "SOCIAL                  34\n",
       "TRAVEL_AND_LOCAL        33\n",
       "BOOKS_AND_REFERENCE     32\n",
       "PHOTOGRAPHY             29\n",
       "VIDEO_PLAYERS           22\n",
       "HEALTH_AND_FITNESS      19\n",
       "MAPS_AND_NAVIGATION     18\n",
       "MEDICAL                 13\n",
       "WEATHER                 13\n",
       "AUTO_AND_VEHICLES        8\n",
       "SHOPPING                 7\n",
       "EVENTS                   4\n",
       "BEAUTY                   3\n",
       "FOOD_AND_DRINK           3\n",
       "LIBRARIES_AND_DEMO       3\n",
       "HOUSE_AND_HOME           2\n",
       "COMICS                   1\n",
       "PARENTING                1\n",
       "DATING                   1\n",
       "ART_AND_DESIGN           1\n",
       "Name: Category, dtype: int64"
      ]
     },
     "execution_count": 243,
     "metadata": {},
     "output_type": "execute_result"
    }
   ],
   "source": [
    "test['Category'].value_counts()"
   ]
  },
  {
   "cell_type": "code",
   "execution_count": 244,
   "metadata": {},
   "outputs": [
    {
     "data": {
      "text/plain": [
       "Tools                                    463\n",
       "Entertainment                            337\n",
       "Education                                309\n",
       "Medical                                  253\n",
       "Personalization                          227\n",
       "Lifestyle                                219\n",
       "Action                                   214\n",
       "Finance                                  201\n",
       "Photography                              175\n",
       "Productivity                             173\n",
       "Health & Fitness                         172\n",
       "Business                                 166\n",
       "Communication                            153\n",
       "Sports                                   149\n",
       "Shopping                                 139\n",
       "Arcade                                   129\n",
       "Social                                   122\n",
       "Dating                                   121\n",
       "News & Magazines                         114\n",
       "Simulation                               110\n",
       "Books & Reference                        109\n",
       "Travel & Local                           107\n",
       "Video Players & Editors                   90\n",
       "Casual                                    89\n",
       "Role Playing                              79\n",
       "Maps & Navigation                         76\n",
       "Food & Drink                              69\n",
       "Strategy                                  68\n",
       "Puzzle                                    61\n",
       "Libraries & Demo                          57\n",
       "                                        ... \n",
       "Entertainment;Creativity                   2\n",
       "Education;Music & Video                    2\n",
       "Strategy;Action & Adventure                2\n",
       "Entertainment;Action & Adventure           2\n",
       "Music;Music & Video                        2\n",
       "Educational;Action & Adventure             2\n",
       "Role Playing;Pretend Play                  2\n",
       "Simulation;Pretend Play                    2\n",
       "Video Players & Editors;Creativity         1\n",
       "Parenting;Brain Games                      1\n",
       "Books & Reference;Education                1\n",
       "Art & Design;Pretend Play                  1\n",
       "Comics;Creativity                          1\n",
       "Adventure;Brain Games                      1\n",
       "Music & Audio;Music & Video                1\n",
       "Education;Brain Games                      1\n",
       "Entertainment;Education                    1\n",
       "Board;Pretend Play                         1\n",
       "Simulation;Education                       1\n",
       "Arcade;Pretend Play                        1\n",
       "Casual;Music & Video                       1\n",
       "Video Players & Editors;Music & Video      1\n",
       "Health & Fitness;Education                 1\n",
       "Lifestyle;Pretend Play                     1\n",
       "Puzzle;Creativity                          1\n",
       "Sports;Action & Adventure                  1\n",
       "Travel & Local;Action & Adventure          1\n",
       "Health & Fitness;Action & Adventure        1\n",
       "Entertainment;Pretend Play                 1\n",
       "Adventure;Education                        1\n",
       "Name: Genres, Length: 106, dtype: int64"
      ]
     },
     "execution_count": 244,
     "metadata": {},
     "output_type": "execute_result"
    }
   ],
   "source": [
    "train['Genres'].value_counts()"
   ]
  },
  {
   "cell_type": "markdown",
   "metadata": {},
   "source": [
    " - Content Rating외 다른 변수들은 범주가 너무 많이 존재한다\n",
    " - Content Rating을 더미변수화하기\n",
    " - 18+ 와 Unrated는 너무 적으므로 제거"
   ]
  },
  {
   "cell_type": "code",
   "execution_count": 245,
   "metadata": {},
   "outputs": [],
   "source": [
    "train = train[train['Content Rating'] != 'Adults only 18+']\n",
    "train = train[train['Content Rating'] != 'Unrated']"
   ]
  },
  {
   "cell_type": "code",
   "execution_count": 246,
   "metadata": {},
   "outputs": [],
   "source": [
    "test = test[test['Content Rating'] != 'Adults only 18+']\n",
    "test = test[test['Content Rating'] != 'Unrated']"
   ]
  },
  {
   "cell_type": "code",
   "execution_count": 247,
   "metadata": {},
   "outputs": [],
   "source": [
    "dummy_train = pd.get_dummies(train['Content Rating'], drop_first=True)\n",
    "dummy_test = pd.get_dummies(test['Content Rating'], drop_first=True)"
   ]
  },
  {
   "cell_type": "markdown",
   "metadata": {},
   "source": [
    " - 나중에 연속형 변수들 데이터프레임과 concat"
   ]
  },
  {
   "cell_type": "markdown",
   "metadata": {},
   "source": [
    "### 연속형 변수 확인"
   ]
  },
  {
   "cell_type": "code",
   "execution_count": 248,
   "metadata": {},
   "outputs": [
    {
     "data": {
      "image/png": "[encoded data removed]",
      "text/plain": [
       "<Figure size 720x720 with 6 Axes>"
      ]
     },
     "metadata": {
      "needs_background": "light"
     },
     "output_type": "display_data"
    }
   ],
   "source": [
    "#연속형 변수 분포 확인\n",
    "continuous = train[['Rating', 'Reviews','Size', 'Installs','Price']]\n",
    "continuous.hist(bins=30,figsize=(10,10))\n",
    "plt.show()"
   ]
  },
  {
   "cell_type": "code",
   "execution_count": 249,
   "metadata": {},
   "outputs": [
    {
     "data": {
      "image/png": "[encoded data removed]",
      "text/plain": [
       "<Figure size 1152x576 with 2 Axes>"
      ]
     },
     "metadata": {
      "needs_background": "light"
     },
     "output_type": "display_data"
    }
   ],
   "source": [
    "# 연속형 변수 heatmap 상관관계 시각화\n",
    "plt.figure(figsize=(16,8))\n",
    "sns.heatmap(continuous.corr(), annot=True)\n",
    "plt.title('continuous variables corr heatmap', fontsize=20)\n",
    "\n",
    "plt.show()"
   ]
  },
  {
   "cell_type": "code",
   "execution_count": 250,
   "metadata": {},
   "outputs": [],
   "source": [
    "continuous = pd.concat([continuous, dummy_train], axis = 1)"
   ]
  },
  {
   "cell_type": "markdown",
   "metadata": {},
   "source": [
    "### Last Updated로 업데이트 경과일수 변수 생성"
   ]
  },
  {
   "cell_type": "code",
   "execution_count": 251,
   "metadata": {},
   "outputs": [],
   "source": [
    "import datetime as dt"
   ]
  },
  {
   "cell_type": "code",
   "execution_count": 252,
   "metadata": {},
   "outputs": [],
   "source": [
    "def to_date(x):\n",
    "    return dt.datetime.strptime(x, '%Y-%m-%d')"
   ]
  },
  {
   "cell_type": "code",
   "execution_count": 253,
   "metadata": {},
   "outputs": [],
   "source": [
    "train['Last Updated'] = train['Last Updated'].map(to_date)"
   ]
  },
  {
   "cell_type": "code",
   "execution_count": 254,
   "metadata": {},
   "outputs": [
    {
     "data": {
      "image/png": "[encoded data removed]",
      "text/plain": [
       "<Figure size 432x288 with 1 Axes>"
      ]
     },
     "metadata": {
      "needs_background": "light"
     },
     "output_type": "display_data"
    }
   ],
   "source": [
    "train['Last Updated'].hist()\n",
    "plt.show()"
   ]
  },
  {
   "cell_type": "code",
   "execution_count": 255,
   "metadata": {},
   "outputs": [],
   "source": [
    "def day_differ(x):\n",
    "    return (dt.datetime.strptime('2018-08-31','%Y-%m-%d') - x).days"
   ]
  },
  {
   "cell_type": "code",
   "execution_count": 256,
   "metadata": {},
   "outputs": [],
   "source": [
    "continuous['days_after'] = train['Last Updated'].map(day_differ)"
   ]
  },
  {
   "cell_type": "code",
   "execution_count": 257,
   "metadata": {},
   "outputs": [],
   "source": [
    "#test data에도 같은 작업 반복\n",
    "test['Last Updated'] = test['Last Updated'].map(to_date)\n",
    "test['days_after'] = test['Last Updated'].map(day_differ)"
   ]
  },
  {
   "cell_type": "markdown",
   "metadata": {},
   "source": [
    " - 연속형 변수들에 days를 연속형 변수로 만든 후 추가\n",
    " - scaler는 minmaxscaler 적용하기\n",
    " - 위에 좀 더 시각화하기 and outlier 제거 (예시 notebook 참고)\n",
    " - test data도 같은 작업해주기\n",
    " - 그 다음 학습 "
   ]
  },
  {
   "cell_type": "markdown",
   "metadata": {},
   "source": [
    "### 이상치 확인"
   ]
  },
  {
   "cell_type": "code",
   "execution_count": 258,
   "metadata": {},
   "outputs": [
    {
     "data": {
      "text/plain": [
       "<matplotlib.collections.PathCollection at 0x2685d28a5c0>"
      ]
     },
     "execution_count": 258,
     "metadata": {},
     "output_type": "execute_result"
    },
    {
     "data": {
      "image/png": "[encoded data removed]",
      "text/plain": [
       "<Figure size 720x360 with 1 Axes>"
      ]
     },
     "metadata": {
      "needs_background": "light"
     },
     "output_type": "display_data"
    }
   ],
   "source": [
    "# Installs\n",
    "plt.figure(figsize=(10,5))\n",
    "plt.scatter(x = continuous['Installs'], y = continuous['Rating'])"
   ]
  },
  {
   "cell_type": "code",
   "execution_count": 259,
   "metadata": {},
   "outputs": [
    {
     "data": {
      "text/plain": [
       "<matplotlib.collections.PathCollection at 0x2685cdd5b00>"
      ]
     },
     "execution_count": 259,
     "metadata": {},
     "output_type": "execute_result"
    },
    {
     "data": {
      "image/png": "[encoded data removed]",
      "text/plain": [
       "<Figure size 720x360 with 1 Axes>"
      ]
     },
     "metadata": {
      "needs_background": "light"
     },
     "output_type": "display_data"
    }
   ],
   "source": [
    "# Reviews\n",
    "plt.figure(figsize=(10,5))\n",
    "plt.scatter(x = continuous['Reviews'], y = continuous['Rating'])"
   ]
  },
  {
   "cell_type": "code",
   "execution_count": 260,
   "metadata": {},
   "outputs": [
    {
     "data": {
      "text/plain": [
       "<matplotlib.collections.PathCollection at 0x2685dd4fa90>"
      ]
     },
     "execution_count": 260,
     "metadata": {},
     "output_type": "execute_result"
    },
    {
     "data": {
      "image/png": "[encoded data removed]",
      "text/plain": [
       "<Figure size 720x360 with 1 Axes>"
      ]
     },
     "metadata": {
      "needs_background": "light"
     },
     "output_type": "display_data"
    }
   ],
   "source": [
    "# Size\n",
    "plt.figure(figsize=(10,5))\n",
    "plt.scatter(x = continuous['Size'], y = continuous['Rating'])"
   ]
  },
  {
   "cell_type": "code",
   "execution_count": 261,
   "metadata": {},
   "outputs": [
    {
     "data": {
      "text/plain": [
       "<matplotlib.collections.PathCollection at 0x2685d248668>"
      ]
     },
     "execution_count": 261,
     "metadata": {},
     "output_type": "execute_result"
    },
    {
     "data": {
      "image/png": "[encoded data removed]",
      "text/plain": [
       "<Figure size 720x360 with 1 Axes>"
      ]
     },
     "metadata": {
      "needs_background": "light"
     },
     "output_type": "display_data"
    }
   ],
   "source": [
    "# Price\n",
    "plt.figure(figsize=(10,5))\n",
    "plt.scatter(x = continuous['Price'], y = continuous['Rating'])"
   ]
  },
  {
   "cell_type": "code",
   "execution_count": 262,
   "metadata": {},
   "outputs": [
    {
     "data": {
      "text/plain": [
       "<matplotlib.collections.PathCollection at 0x2685d55f0f0>"
      ]
     },
     "execution_count": 262,
     "metadata": {},
     "output_type": "execute_result"
    },
    {
     "data": {
      "image/png": "[encoded data removed]",
      "text/plain": [
       "<Figure size 720x360 with 1 Axes>"
      ]
     },
     "metadata": {
      "needs_background": "light"
     },
     "output_type": "display_data"
    }
   ],
   "source": [
    "# day\n",
    "plt.figure(figsize=(10,5))\n",
    "plt.scatter(x = continuous['days_after'], y = continuous['Rating'])"
   ]
  },
  {
   "cell_type": "code",
   "execution_count": 263,
   "metadata": {},
   "outputs": [
    {
     "data": {
      "text/plain": [
       "(5587, 9)"
      ]
     },
     "execution_count": 263,
     "metadata": {},
     "output_type": "execute_result"
    }
   ],
   "source": [
    "#plot을 보고 직관적으로 수행\n",
    "continuous = continuous.query('Installs < 200000000 and Price < 250 and Reviews < 40000000')\n",
    "continuous.shape"
   ]
  },
  {
   "cell_type": "code",
   "execution_count": 264,
   "metadata": {},
   "outputs": [],
   "source": [
    "# #더미변수 추가해주기\n",
    "# continuous = pd.concat([continuous, dummy_train], axis = 1)"
   ]
  },
  {
   "cell_type": "markdown",
   "metadata": {},
   "source": [
    "# 2.Regression Modeling"
   ]
  },
  {
   "cell_type": "code",
   "execution_count": 265,
   "metadata": {},
   "outputs": [],
   "source": [
    "# sklearn \n",
    "import warnings\n",
    "warnings.filterwarnings('ignore')\n",
    "from sklearn.linear_model import LinearRegression\n",
    "from sklearn.tree import DecisionTreeRegressor\n",
    "#from sklearn.naive_bayes import GaussianNB\n",
    "from sklearn.neighbors import KNeighborsRegressor\n",
    "from sklearn.svm import SVR\n",
    "from sklearn.ensemble import RandomForestRegressor, GradientBoostingRegressor\n",
    "import xgboost as xgb\n",
    "import lightgbm as lgb\n",
    "\n",
    "from sklearn.pipeline import make_pipeline\n",
    "from sklearn.preprocessing import RobustScaler\n",
    "from sklearn.base import BaseEstimator, TransformerMixin, RegressorMixin, clone\n",
    "from sklearn.model_selection import KFold, cross_val_score, train_test_split\n",
    "from sklearn.metrics import mean_squared_error\n",
    "from sklearn.metrics import accuracy_score"
   ]
  },
  {
   "cell_type": "code",
   "execution_count": 266,
   "metadata": {},
   "outputs": [
    {
     "name": "stdout",
     "output_type": "stream",
     "text": [
      "<class 'pandas.core.frame.DataFrame'>\n",
      "Int64Index: 5587 entries, 0 to 5615\n",
      "Data columns (total 9 columns):\n",
      "Rating          5587 non-null float64\n",
      "Reviews         5587 non-null int64\n",
      "Size            5587 non-null float64\n",
      "Installs        5587 non-null float64\n",
      "Price           5587 non-null float64\n",
      "Everyone 10+    5587 non-null uint8\n",
      "Mature 17+      5587 non-null uint8\n",
      "Teen            5587 non-null uint8\n",
      "days_after      5587 non-null int64\n",
      "dtypes: float64(4), int64(2), uint8(3)\n",
      "memory usage: 321.9 KB\n"
     ]
    }
   ],
   "source": [
    "continuous.info()"
   ]
  },
  {
   "cell_type": "code",
   "execution_count": 267,
   "metadata": {},
   "outputs": [],
   "source": [
    "# target 분리, data split\n",
    "y = continuous['Rating']\n",
    "X = continuous.iloc[:,1:9]\n",
    "\n",
    "X_train, X_test, y_train, y_test = train_test_split(X,y, train_size = 0.7, random_state=318)"
   ]
  },
  {
   "cell_type": "code",
   "execution_count": 268,
   "metadata": {},
   "outputs": [
    {
     "name": "stdout",
     "output_type": "stream",
     "text": [
      "<class 'pandas.core.frame.DataFrame'>\n",
      "Int64Index: 1404 entries, 0 to 1403\n",
      "Data columns (total 12 columns):\n",
      "App               1404 non-null object\n",
      "Category          1404 non-null object\n",
      "Reviews           1404 non-null int64\n",
      "Size              1404 non-null float64\n",
      "Installs          1404 non-null float64\n",
      "Type              1404 non-null int64\n",
      "Price             1404 non-null float64\n",
      "Content Rating    1404 non-null object\n",
      "Genres            1404 non-null object\n",
      "Last Updated      1404 non-null datetime64[ns]\n",
      "Id                1404 non-null int64\n",
      "days_after        1404 non-null int64\n",
      "dtypes: datetime64[ns](1), float64(3), int64(4), object(4)\n",
      "memory usage: 142.6+ KB\n"
     ]
    }
   ],
   "source": [
    "test.info()"
   ]
  },
  {
   "cell_type": "code",
   "execution_count": 269,
   "metadata": {},
   "outputs": [],
   "source": [
    "# Update test data\n",
    "test_ID = test['Id']\n",
    "test = test[['Reviews','Size','Installs','Price','days_after']]"
   ]
  },
  {
   "cell_type": "code",
   "execution_count": 124,
   "metadata": {},
   "outputs": [],
   "source": [
    "# test = pd.concat([test, dummy_test], axis = 1)"
   ]
  },
  {
   "cell_type": "markdown",
   "metadata": {},
   "source": [
    "### validation function"
   ]
  },
  {
   "cell_type": "code",
   "execution_count": 270,
   "metadata": {},
   "outputs": [],
   "source": [
    "# X_train = X_train[['Reviews', 'Size','Installs','Price']]"
   ]
  },
  {
   "cell_type": "code",
   "execution_count": 271,
   "metadata": {},
   "outputs": [],
   "source": [
    "n_folds = 5\n",
    "train = X\n",
    "def rmse_cv(model):\n",
    "  kf = KFold(n_folds, shuffle=True, random_state=42).get_n_splits(X_train.values)\n",
    "  rmse = np.sqrt(-cross_val_score(model, X_train.values, y_train, scoring='neg_mean_squared_error', cv=kf))\n",
    "  return (rmse)"
   ]
  },
  {
   "cell_type": "code",
   "execution_count": 272,
   "metadata": {},
   "outputs": [],
   "source": [
    "def rmse(y,y_pred):\n",
    "  return np.sqrt(mean_squared_error(y,y_pred))"
   ]
  },
  {
   "cell_type": "code",
   "execution_count": 273,
   "metadata": {},
   "outputs": [],
   "source": [
    "from sklearn.preprocessing import MinMaxScaler"
   ]
  },
  {
   "cell_type": "markdown",
   "metadata": {},
   "source": [
    "### base model"
   ]
  },
  {
   "cell_type": "code",
   "execution_count": 286,
   "metadata": {},
   "outputs": [],
   "source": [
    "#linear regression\n",
    "lr = make_pipeline(MinMaxScaler(), LinearRegression())"
   ]
  },
  {
   "cell_type": "code",
   "execution_count": 295,
   "metadata": {},
   "outputs": [],
   "source": [
    "#knn\n",
    "knn = make_pipeline(MinMaxScaler(),KNeighborsRegressor(n_neighbors = 3, weights = 'distance'))"
   ]
  },
  {
   "cell_type": "code",
   "execution_count": 288,
   "metadata": {},
   "outputs": [],
   "source": [
    "#SVR\n",
    "svm = make_pipeline(MinMaxScaler(),SVR())"
   ]
  },
  {
   "cell_type": "code",
   "execution_count": 289,
   "metadata": {},
   "outputs": [],
   "source": [
    "#random forest\n",
    "rf = make_pipeline(RandomForestRegressor())"
   ]
  },
  {
   "cell_type": "markdown",
   "metadata": {},
   "source": [
    "### base model Scores"
   ]
  },
  {
   "cell_type": "code",
   "execution_count": 290,
   "metadata": {},
   "outputs": [
    {
     "name": "stdout",
     "output_type": "stream",
     "text": [
      "\n",
      "Linear Regression score: 0.5382 (0.0268)\n",
      "\n"
     ]
    }
   ],
   "source": [
    "score = rmse_cv(lr)\n",
    "print(\"\\nLinear Regression score: {:.4f} ({:.4f})\\n\".format(score.mean(), score.std()))"
   ]
  },
  {
   "cell_type": "code",
   "execution_count": 296,
   "metadata": {},
   "outputs": [
    {
     "name": "stdout",
     "output_type": "stream",
     "text": [
      "\n",
      "KNN score: 0.6208 (0.0262)\n",
      "\n"
     ]
    }
   ],
   "source": [
    "score = rmse_cv(knn)     \n",
    "print(\"\\nKNN score: {:.4f} ({:.4f})\\n\".format(score.mean(), score.std()))"
   ]
  },
  {
   "cell_type": "code",
   "execution_count": 292,
   "metadata": {},
   "outputs": [
    {
     "name": "stdout",
     "output_type": "stream",
     "text": [
      "\n",
      "SVM score: 0.5446 (0.0308)\n",
      "\n"
     ]
    }
   ],
   "source": [
    "score = rmse_cv(svm)     \n",
    "print(\"\\nSVM score: {:.4f} ({:.4f})\\n\".format(score.mean(), score.std()))"
   ]
  },
  {
   "cell_type": "code",
   "execution_count": 293,
   "metadata": {},
   "outputs": [
    {
     "name": "stdout",
     "output_type": "stream",
     "text": [
      "\n",
      "Random Forest score: 0.5336 (0.0256)\n",
      "\n"
     ]
    }
   ],
   "source": [
    "score = rmse_cv(rf)     \n",
    "print(\"\\nRandom Forest score: {:.4f} ({:.4f})\\n\".format(score.mean(), score.std()))"
   ]
  },
  {
   "cell_type": "markdown",
   "metadata": {},
   "source": [
    "### 베이스 모델 튜닝"
   ]
  },
  {
   "cell_type": "code",
   "execution_count": 305,
   "metadata": {},
   "outputs": [
    {
     "name": "stdout",
     "output_type": "stream",
     "text": [
      "1 0.7451376657660947\n",
      "2 0.6540473029823003\n",
      "3 0.6208111618115248\n",
      "4 0.6030722785413072\n"
     ]
    }
   ],
   "source": [
    "for i in range(1,5):\n",
    "    knn = make_pipeline(MinMaxScaler(),KNeighborsRegressor(n_neighbors = i, weights='distance'))\n",
    "    score = rmse_cv(knn)\n",
    "    print(i, score.mean())"
   ]
  },
  {
   "cell_type": "code",
   "execution_count": 306,
   "metadata": {},
   "outputs": [],
   "source": [
    "knn = make_pipeline(MinMaxScaler(), KNeighborsRegressor(n_neighbors = 1, weights = 'distance'))"
   ]
  },
  {
   "cell_type": "markdown",
   "metadata": {},
   "source": [
    " - knn n=1로 설정"
   ]
  },
  {
   "cell_type": "code",
   "execution_count": 309,
   "metadata": {},
   "outputs": [
    {
     "name": "stdout",
     "output_type": "stream",
     "text": [
      "1 0.5446215586306792\n",
      "2 0.5447598170906864\n",
      "3 0.5451271069091213\n",
      "4 0.5452203824726537\n",
      "5 0.5453333431260139\n",
      "6 0.5453046654569774\n",
      "7 0.5452398840972327\n",
      "8 0.5451518737614529\n",
      "9 0.5450358209105002\n"
     ]
    }
   ],
   "source": [
    "for i in range(1,10):\n",
    "    svm = make_pipeline(MinMaxScaler(),SVR(C = i))\n",
    "    score = rmse_cv(svm)\n",
    "    print(i, score.mean())"
   ]
  },
  {
   "cell_type": "code",
   "execution_count": 310,
   "metadata": {},
   "outputs": [],
   "source": [
    "svm = make_pipeline(MinMaxScaler(),SVR(C = 5))"
   ]
  },
  {
   "cell_type": "markdown",
   "metadata": {},
   "source": [
    " - svm c=5로 설정"
   ]
  },
  {
   "cell_type": "markdown",
   "metadata": {},
   "source": [
    "### stacking"
   ]
  },
  {
   "cell_type": "code",
   "execution_count": 311,
   "metadata": {},
   "outputs": [],
   "source": [
    "class AveragingModels(BaseEstimator, RegressorMixin, TransformerMixin):\n",
    "    def __init__(self, models):\n",
    "        self.models = models\n",
    "        \n",
    "    # we define clones of the original models to fit the data in\n",
    "    def fit(self, X_train, y_train):\n",
    "        self.models_ = [clone(x) for x in self.models]\n",
    "        \n",
    "        # Train cloned base models\n",
    "        for model in self.models_:\n",
    "            model.fit(X, y)\n",
    "\n",
    "        return self\n",
    "    \n",
    "    #Now we do the predictions for cloned models and average them\n",
    "    def predict(self, X_test):\n",
    "        predictions = np.column_stack([\n",
    "            model.predict(X_test) for model in self.models_\n",
    "        ])\n",
    "        return np.mean(predictions, axis=1)   "
   ]
  },
  {
   "cell_type": "code",
   "execution_count": 312,
   "metadata": {},
   "outputs": [
    {
     "name": "stdout",
     "output_type": "stream",
     "text": [
      " Averaged base models score: 0.3112 (0.0165)\n",
      "\n"
     ]
    }
   ],
   "source": [
    "averaged_models = AveragingModels(models = (lr, svm, rf, knn))\n",
    "\n",
    "score = rmse_cv(averaged_models)\n",
    "print(\" Averaged base models score: {:.4f} ({:.4f})\\n\".format(score.mean(), score.std()))"
   ]
  },
  {
   "cell_type": "code",
   "execution_count": 316,
   "metadata": {},
   "outputs": [],
   "source": [
    "from sklearn.ensemble import StackingRegressor"
   ]
  },
  {
   "cell_type": "code",
   "execution_count": 342,
   "metadata": {},
   "outputs": [],
   "source": [
    "#linear regression\n",
    "lr = make_pipeline(MinMaxScaler(), LinearRegression())\n",
    "#SVR\n",
    "svm = make_pipeline(MinMaxScaler(),SVR())\n",
    "#knn\n",
    "knn = make_pipeline(MinMaxScaler(),KNeighborsRegressor())"
   ]
  },
  {
   "cell_type": "code",
   "execution_count": 396,
   "metadata": {},
   "outputs": [
    {
     "data": {
      "text/plain": [
       "StackingRegressor(cv=10,\n",
       "                  estimators=[('lr',\n",
       "                               Pipeline(steps=[('minmaxscaler', MinMaxScaler()),\n",
       "                                               ('linearregression',\n",
       "                                                LinearRegression())])),\n",
       "                              ('svm',\n",
       "                               Pipeline(steps=[('minmaxscaler', MinMaxScaler()),\n",
       "                                               ('svr', SVR())])),\n",
       "                              ('knn',\n",
       "                               Pipeline(steps=[('minmaxscaler', MinMaxScaler()),\n",
       "                                               ('kneighborsregressor',\n",
       "                                                KNeighborsRegressor())]))],\n",
       "                  final_estimator=RandomForestRegressor(n_estimators=3,\n",
       "                                                        random_state=42),\n",
       "                  n_jobs=3, verbose=3)"
      ]
     },
     "execution_count": 396,
     "metadata": {},
     "output_type": "execute_result"
    }
   ],
   "source": [
    "# 파라미터 설정\n",
    "estimators = [\n",
    "              ('lr',lr),\n",
    "              ('svm',svm),\n",
    "              ('knn',knn)\n",
    "]\n",
    "              \n",
    "# Stacking\n",
    "reg = StackingRegressor(\n",
    "    estimators = estimators,\n",
    "    final_estimator = RandomForestRegressor(n_estimators=3, random_state=42),\n",
    "    cv = 10,\n",
    "    n_jobs=3,\n",
    "    verbose=3\n",
    "    )\n",
    "\n",
    "# fit\n",
    "reg.fit(X_train, y_train)"
   ]
  },
  {
   "cell_type": "code",
   "execution_count": 397,
   "metadata": {},
   "outputs": [
    {
     "data": {
      "text/plain": [
       "0.6423770291129411"
      ]
     },
     "execution_count": 397,
     "metadata": {},
     "output_type": "execute_result"
    }
   ],
   "source": [
    "# rmse\n",
    "rmse(y_test,reg.predict(X_test))"
   ]
  },
  {
   "cell_type": "markdown",
   "metadata": {},
   "source": [
    "### GridSearch"
   ]
  },
  {
   "cell_type": "code",
   "execution_count": 380,
   "metadata": {},
   "outputs": [],
   "source": [
    "from sklearn.model_selection import GridSearchCV\n",
    "tuned_parameters = {'knn__kneighborsregressor__n_neighbors':[1,2,3],\n",
    "                   'svm__svr__C':[1,2,3,4]}"
   ]
  },
  {
   "cell_type": "code",
   "execution_count": 381,
   "metadata": {},
   "outputs": [],
   "source": [
    "reg = StackingRegressor(\n",
    "    estimators = estimators,\n",
    "    final_estimator = RandomForestRegressor(n_estimators=3, random_state=42),\n",
    "    cv = 10,\n",
    "    n_jobs=3,\n",
    "    verbose=3\n",
    "    )\n",
    "model_reg = GridSearchCV(reg, tuned_parameters,cv=10, verbose = 3)"
   ]
  },
  {
   "cell_type": "code",
   "execution_count": 382,
   "metadata": {},
   "outputs": [
    {
     "name": "stdout",
     "output_type": "stream",
     "text": [
      "Fitting 10 folds for each of 12 candidates, totalling 120 fits\n",
      "[CV] knn__kneighborsregressor__n_neighbors=1, svm__svr__C=1 ..........\n"
     ]
    },
    {
     "name": "stderr",
     "output_type": "stream",
     "text": [
      "[Parallel(n_jobs=1)]: Using backend SequentialBackend with 1 concurrent workers.\n"
     ]
    },
    {
     "name": "stdout",
     "output_type": "stream",
     "text": [
      "[CV]  knn__kneighborsregressor__n_neighbors=1, svm__svr__C=1, score=-0.356, total=   2.7s\n",
      "[CV] knn__kneighborsregressor__n_neighbors=1, svm__svr__C=1 ..........\n"
     ]
    },
    {
     "name": "stderr",
     "output_type": "stream",
     "text": [
      "[Parallel(n_jobs=1)]: Done   1 out of   1 | elapsed:    2.7s remaining:    0.0s\n"
     ]
    },
    {
     "name": "stdout",
     "output_type": "stream",
     "text": [
      "[CV]  knn__kneighborsregressor__n_neighbors=1, svm__svr__C=1, score=-0.367, total=   3.7s\n",
      "[CV] knn__kneighborsregressor__n_neighbors=1, svm__svr__C=1 ..........\n"
     ]
    },
    {
     "name": "stderr",
     "output_type": "stream",
     "text": [
      "[Parallel(n_jobs=1)]: Done   2 out of   2 | elapsed:    6.4s remaining:    0.0s\n"
     ]
    },
    {
     "name": "stdout",
     "output_type": "stream",
     "text": [
      "[CV]  knn__kneighborsregressor__n_neighbors=1, svm__svr__C=1, score=-0.355, total=   3.5s\n",
      "[CV] knn__kneighborsregressor__n_neighbors=1, svm__svr__C=1 ..........\n",
      "[CV]  knn__kneighborsregressor__n_neighbors=1, svm__svr__C=1, score=-0.405, total=   2.8s\n",
      "[CV] knn__kneighborsregressor__n_neighbors=1, svm__svr__C=1 ..........\n",
      "[CV]  knn__kneighborsregressor__n_neighbors=1, svm__svr__C=1, score=-0.529, total=   3.6s\n",
      "[CV] knn__kneighborsregressor__n_neighbors=1, svm__svr__C=1 ..........\n",
      "[CV]  knn__kneighborsregressor__n_neighbors=1, svm__svr__C=1, score=-0.275, total=   2.7s\n",
      "[CV] knn__kneighborsregressor__n_neighbors=1, svm__svr__C=1 ..........\n",
      "[CV]  knn__kneighborsregressor__n_neighbors=1, svm__svr__C=1, score=-0.451, total=   3.3s\n",
      "[CV] knn__kneighborsregressor__n_neighbors=1, svm__svr__C=1 ..........\n",
      "[CV]  knn__kneighborsregressor__n_neighbors=1, svm__svr__C=1, score=-0.453, total=   3.6s\n",
      "[CV] knn__kneighborsregressor__n_neighbors=1, svm__svr__C=1 ..........\n",
      "[CV]  knn__kneighborsregressor__n_neighbors=1, svm__svr__C=1, score=-0.340, total=   8.6s\n",
      "[CV] knn__kneighborsregressor__n_neighbors=1, svm__svr__C=1 ..........\n",
      "[CV]  knn__kneighborsregressor__n_neighbors=1, svm__svr__C=1, score=-0.739, total=   4.8s\n",
      "[CV] knn__kneighborsregressor__n_neighbors=1, svm__svr__C=2 ..........\n",
      "[CV]  knn__kneighborsregressor__n_neighbors=1, svm__svr__C=2, score=-0.342, total=   4.7s\n",
      "[CV] knn__kneighborsregressor__n_neighbors=1, svm__svr__C=2 ..........\n",
      "[CV]  knn__kneighborsregressor__n_neighbors=1, svm__svr__C=2, score=-0.349, total=   4.8s\n",
      "[CV] knn__kneighborsregressor__n_neighbors=1, svm__svr__C=2 ..........\n",
      "[CV]  knn__kneighborsregressor__n_neighbors=1, svm__svr__C=2, score=-0.308, total=   2.3s\n",
      "[CV] knn__kneighborsregressor__n_neighbors=1, svm__svr__C=2 ..........\n",
      "[CV]  knn__kneighborsregressor__n_neighbors=1, svm__svr__C=2, score=-0.454, total=   3.0s\n",
      "[CV] knn__kneighborsregressor__n_neighbors=1, svm__svr__C=2 ..........\n",
      "[CV]  knn__kneighborsregressor__n_neighbors=1, svm__svr__C=2, score=-0.465, total=   8.0s\n",
      "[CV] knn__kneighborsregressor__n_neighbors=1, svm__svr__C=2 ..........\n",
      "[CV]  knn__kneighborsregressor__n_neighbors=1, svm__svr__C=2, score=-0.343, total=   4.6s\n",
      "[CV] knn__kneighborsregressor__n_neighbors=1, svm__svr__C=2 ..........\n",
      "[CV]  knn__kneighborsregressor__n_neighbors=1, svm__svr__C=2, score=-0.339, total=   4.7s\n",
      "[CV] knn__kneighborsregressor__n_neighbors=1, svm__svr__C=2 ..........\n",
      "[CV]  knn__kneighborsregressor__n_neighbors=1, svm__svr__C=2, score=-0.532, total=   4.8s\n",
      "[CV] knn__kneighborsregressor__n_neighbors=1, svm__svr__C=2 ..........\n",
      "[CV]  knn__kneighborsregressor__n_neighbors=1, svm__svr__C=2, score=-0.295, total=   2.2s\n",
      "[CV] knn__kneighborsregressor__n_neighbors=1, svm__svr__C=2 ..........\n",
      "[CV]  knn__kneighborsregressor__n_neighbors=1, svm__svr__C=2, score=-0.522, total=   8.0s\n",
      "[CV] knn__kneighborsregressor__n_neighbors=1, svm__svr__C=3 ..........\n",
      "[CV]  knn__kneighborsregressor__n_neighbors=1, svm__svr__C=3, score=-0.440, total=   4.5s\n",
      "[CV] knn__kneighborsregressor__n_neighbors=1, svm__svr__C=3 ..........\n",
      "[CV]  knn__kneighborsregressor__n_neighbors=1, svm__svr__C=3, score=-0.448, total=   4.8s\n",
      "[CV] knn__kneighborsregressor__n_neighbors=1, svm__svr__C=3 ..........\n",
      "[CV]  knn__kneighborsregressor__n_neighbors=1, svm__svr__C=3, score=-0.483, total=   3.7s\n",
      "[CV] knn__kneighborsregressor__n_neighbors=1, svm__svr__C=3 ..........\n",
      "[CV]  knn__kneighborsregressor__n_neighbors=1, svm__svr__C=3, score=-0.466, total=   2.1s\n",
      "[CV] knn__kneighborsregressor__n_neighbors=1, svm__svr__C=3 ..........\n",
      "[CV]  knn__kneighborsregressor__n_neighbors=1, svm__svr__C=3, score=-0.569, total=   2.1s\n",
      "[CV] knn__kneighborsregressor__n_neighbors=1, svm__svr__C=3 ..........\n",
      "[CV]  knn__kneighborsregressor__n_neighbors=1, svm__svr__C=3, score=-0.304, total=   2.6s\n",
      "[CV] knn__kneighborsregressor__n_neighbors=1, svm__svr__C=3 ..........\n",
      "[CV]  knn__kneighborsregressor__n_neighbors=1, svm__svr__C=3, score=-0.495, total=   3.2s\n",
      "[CV] knn__kneighborsregressor__n_neighbors=1, svm__svr__C=3 ..........\n",
      "[CV]  knn__kneighborsregressor__n_neighbors=1, svm__svr__C=3, score=-0.453, total=   2.7s\n",
      "[CV] knn__kneighborsregressor__n_neighbors=1, svm__svr__C=3 ..........\n",
      "[CV]  knn__kneighborsregressor__n_neighbors=1, svm__svr__C=3, score=-0.373, total=   3.3s\n",
      "[CV] knn__kneighborsregressor__n_neighbors=1, svm__svr__C=3 ..........\n",
      "[CV]  knn__kneighborsregressor__n_neighbors=1, svm__svr__C=3, score=-0.430, total=   3.5s\n",
      "[CV] knn__kneighborsregressor__n_neighbors=1, svm__svr__C=4 ..........\n",
      "[CV]  knn__kneighborsregressor__n_neighbors=1, svm__svr__C=4, score=-0.439, total=   3.2s\n",
      "[CV] knn__kneighborsregressor__n_neighbors=1, svm__svr__C=4 ..........\n",
      "[CV]  knn__kneighborsregressor__n_neighbors=1, svm__svr__C=4, score=-0.240, total=   8.5s\n",
      "[CV] knn__kneighborsregressor__n_neighbors=1, svm__svr__C=4 ..........\n",
      "[CV]  knn__kneighborsregressor__n_neighbors=1, svm__svr__C=4, score=-0.509, total=   5.0s\n",
      "[CV] knn__kneighborsregressor__n_neighbors=1, svm__svr__C=4 ..........\n",
      "[CV]  knn__kneighborsregressor__n_neighbors=1, svm__svr__C=4, score=-0.502, total=   5.0s\n",
      "[CV] knn__kneighborsregressor__n_neighbors=1, svm__svr__C=4 ..........\n",
      "[CV]  knn__kneighborsregressor__n_neighbors=1, svm__svr__C=4, score=-0.590, total=   3.5s\n",
      "[CV] knn__kneighborsregressor__n_neighbors=1, svm__svr__C=4 ..........\n",
      "[CV]  knn__kneighborsregressor__n_neighbors=1, svm__svr__C=4, score=-0.360, total=   8.6s\n",
      "[CV] knn__kneighborsregressor__n_neighbors=1, svm__svr__C=4 ..........\n",
      "[CV]  knn__kneighborsregressor__n_neighbors=1, svm__svr__C=4, score=-0.404, total=   5.1s\n",
      "[CV] knn__kneighborsregressor__n_neighbors=1, svm__svr__C=4 ..........\n",
      "[CV]  knn__kneighborsregressor__n_neighbors=1, svm__svr__C=4, score=-0.515, total=   4.8s\n",
      "[CV] knn__kneighborsregressor__n_neighbors=1, svm__svr__C=4 ..........\n",
      "[CV]  knn__kneighborsregressor__n_neighbors=1, svm__svr__C=4, score=-0.361, total=   3.6s\n",
      "[CV] knn__kneighborsregressor__n_neighbors=1, svm__svr__C=4 ..........\n",
      "[CV]  knn__kneighborsregressor__n_neighbors=1, svm__svr__C=4, score=-0.595, total=   2.3s\n",
      "[CV] knn__kneighborsregressor__n_neighbors=2, svm__svr__C=1 ..........\n",
      "[CV]  knn__kneighborsregressor__n_neighbors=2, svm__svr__C=1, score=-0.448, total=   2.3s\n",
      "[CV] knn__kneighborsregressor__n_neighbors=2, svm__svr__C=1 ..........\n",
      "[CV]  knn__kneighborsregressor__n_neighbors=2, svm__svr__C=1, score=-0.398, total=   8.7s\n",
      "[CV] knn__kneighborsregressor__n_neighbors=2, svm__svr__C=1 ..........\n",
      "[CV]  knn__kneighborsregressor__n_neighbors=2, svm__svr__C=1, score=-0.499, total=   4.6s\n",
      "[CV] knn__kneighborsregressor__n_neighbors=2, svm__svr__C=1 ..........\n",
      "[CV]  knn__kneighborsregressor__n_neighbors=2, svm__svr__C=1, score=-0.360, total=   4.6s\n",
      "[CV] knn__kneighborsregressor__n_neighbors=2, svm__svr__C=1 ..........\n",
      "[CV]  knn__kneighborsregressor__n_neighbors=2, svm__svr__C=1, score=-0.362, total=   4.6s\n",
      "[CV] knn__kneighborsregressor__n_neighbors=2, svm__svr__C=1 ..........\n",
      "[CV]  knn__kneighborsregressor__n_neighbors=2, svm__svr__C=1, score=-0.381, total=   2.1s\n",
      "[CV] knn__kneighborsregressor__n_neighbors=2, svm__svr__C=1 ..........\n",
      "[CV]  knn__kneighborsregressor__n_neighbors=2, svm__svr__C=1, score=-0.371, total=   2.0s\n",
      "[CV] knn__kneighborsregressor__n_neighbors=2, svm__svr__C=1 ..........\n",
      "[CV]  knn__kneighborsregressor__n_neighbors=2, svm__svr__C=1, score=-0.441, total=   2.3s\n",
      "[CV] knn__kneighborsregressor__n_neighbors=2, svm__svr__C=1 ..........\n",
      "[CV]  knn__kneighborsregressor__n_neighbors=2, svm__svr__C=1, score=-0.316, total=   2.7s\n",
      "[CV] knn__kneighborsregressor__n_neighbors=2, svm__svr__C=1 ..........\n",
      "[CV]  knn__kneighborsregressor__n_neighbors=2, svm__svr__C=1, score=-0.568, total=   2.9s\n",
      "[CV] knn__kneighborsregressor__n_neighbors=2, svm__svr__C=2 ..........\n",
      "[CV]  knn__kneighborsregressor__n_neighbors=2, svm__svr__C=2, score=-0.381, total=   7.8s\n",
      "[CV] knn__kneighborsregressor__n_neighbors=2, svm__svr__C=2 ..........\n",
      "[CV]  knn__kneighborsregressor__n_neighbors=2, svm__svr__C=2, score=-0.369, total=   4.9s\n",
      "[CV] knn__kneighborsregressor__n_neighbors=2, svm__svr__C=2 ..........\n",
      "[CV]  knn__kneighborsregressor__n_neighbors=2, svm__svr__C=2, score=-0.412, total=   4.6s\n",
      "[CV] knn__kneighborsregressor__n_neighbors=2, svm__svr__C=2 ..........\n",
      "[CV]  knn__kneighborsregressor__n_neighbors=2, svm__svr__C=2, score=-0.502, total=   4.8s\n",
      "[CV] knn__kneighborsregressor__n_neighbors=2, svm__svr__C=2 ..........\n",
      "[CV]  knn__kneighborsregressor__n_neighbors=2, svm__svr__C=2, score=-0.410, total=   8.1s\n",
      "[CV] knn__kneighborsregressor__n_neighbors=2, svm__svr__C=2 ..........\n",
      "[CV]  knn__kneighborsregressor__n_neighbors=2, svm__svr__C=2, score=-0.358, total=   4.7s\n",
      "[CV] knn__kneighborsregressor__n_neighbors=2, svm__svr__C=2 ..........\n",
      "[CV]  knn__kneighborsregressor__n_neighbors=2, svm__svr__C=2, score=-0.359, total=   4.9s\n",
      "[CV] knn__kneighborsregressor__n_neighbors=2, svm__svr__C=2 ..........\n",
      "[CV]  knn__kneighborsregressor__n_neighbors=2, svm__svr__C=2, score=-0.495, total=   3.6s\n",
      "[CV] knn__kneighborsregressor__n_neighbors=2, svm__svr__C=2 ..........\n",
      "[CV]  knn__kneighborsregressor__n_neighbors=2, svm__svr__C=2, score=-0.421, total=   2.4s\n",
      "[CV] knn__kneighborsregressor__n_neighbors=2, svm__svr__C=2 ..........\n",
      "[CV]  knn__kneighborsregressor__n_neighbors=2, svm__svr__C=2, score=-0.611, total=   8.7s\n",
      "[CV] knn__kneighborsregressor__n_neighbors=2, svm__svr__C=3 ..........\n",
      "[CV]  knn__kneighborsregressor__n_neighbors=2, svm__svr__C=3, score=-0.393, total=   4.7s\n",
      "[CV] knn__kneighborsregressor__n_neighbors=2, svm__svr__C=3 ..........\n",
      "[CV]  knn__kneighborsregressor__n_neighbors=2, svm__svr__C=3, score=-0.464, total=   4.7s\n",
      "[CV] knn__kneighborsregressor__n_neighbors=2, svm__svr__C=3 ..........\n",
      "[CV]  knn__kneighborsregressor__n_neighbors=2, svm__svr__C=3, score=-0.274, total=   3.6s\n",
      "[CV] knn__kneighborsregressor__n_neighbors=2, svm__svr__C=3 ..........\n",
      "[CV]  knn__kneighborsregressor__n_neighbors=2, svm__svr__C=3, score=-0.442, total=   8.2s\n",
      "[CV] knn__kneighborsregressor__n_neighbors=2, svm__svr__C=3 ..........\n",
      "[CV]  knn__kneighborsregressor__n_neighbors=2, svm__svr__C=3, score=-0.575, total=   4.6s\n",
      "[CV] knn__kneighborsregressor__n_neighbors=2, svm__svr__C=3 ..........\n",
      "[CV]  knn__kneighborsregressor__n_neighbors=2, svm__svr__C=3, score=-0.356, total=   4.7s\n",
      "[CV] knn__kneighborsregressor__n_neighbors=2, svm__svr__C=3 ..........\n",
      "[CV]  knn__kneighborsregressor__n_neighbors=2, svm__svr__C=3, score=-0.596, total=   4.2s\n",
      "[CV] knn__kneighborsregressor__n_neighbors=2, svm__svr__C=3 ..........\n",
      "[CV]  knn__kneighborsregressor__n_neighbors=2, svm__svr__C=3, score=-0.509, total=   2.3s\n",
      "[CV] knn__kneighborsregressor__n_neighbors=2, svm__svr__C=3 ..........\n",
      "[CV]  knn__kneighborsregressor__n_neighbors=2, svm__svr__C=3, score=-0.323, total=   8.1s\n",
      "[CV] knn__kneighborsregressor__n_neighbors=2, svm__svr__C=3 ..........\n",
      "[CV]  knn__kneighborsregressor__n_neighbors=2, svm__svr__C=3, score=-0.372, total=   5.0s\n",
      "[CV] knn__kneighborsregressor__n_neighbors=2, svm__svr__C=4 ..........\n",
      "[CV]  knn__kneighborsregressor__n_neighbors=2, svm__svr__C=4, score=-0.413, total=   4.8s\n",
      "[CV] knn__kneighborsregressor__n_neighbors=2, svm__svr__C=4 ..........\n",
      "[CV]  knn__kneighborsregressor__n_neighbors=2, svm__svr__C=4, score=-0.304, total=   4.3s\n",
      "[CV] knn__kneighborsregressor__n_neighbors=2, svm__svr__C=4 ..........\n",
      "[CV]  knn__kneighborsregressor__n_neighbors=2, svm__svr__C=4, score=-0.366, total=   2.2s\n",
      "[CV] knn__kneighborsregressor__n_neighbors=2, svm__svr__C=4 ..........\n",
      "[CV]  knn__kneighborsregressor__n_neighbors=2, svm__svr__C=4, score=-0.458, total=   2.2s\n",
      "[CV] knn__kneighborsregressor__n_neighbors=2, svm__svr__C=4 ..........\n",
      "[CV]  knn__kneighborsregressor__n_neighbors=2, svm__svr__C=4, score=-0.456, total=   3.2s\n",
      "[CV] knn__kneighborsregressor__n_neighbors=2, svm__svr__C=4 ..........\n",
      "[CV]  knn__kneighborsregressor__n_neighbors=2, svm__svr__C=4, score=-0.435, total=   8.1s\n",
      "[CV] knn__kneighborsregressor__n_neighbors=2, svm__svr__C=4 ..........\n",
      "[CV]  knn__kneighborsregressor__n_neighbors=2, svm__svr__C=4, score=-0.437, total=   5.8s\n",
      "[CV] knn__kneighborsregressor__n_neighbors=2, svm__svr__C=4 ..........\n",
      "[CV]  knn__kneighborsregressor__n_neighbors=2, svm__svr__C=4, score=-0.578, total=   5.7s\n",
      "[CV] knn__kneighborsregressor__n_neighbors=2, svm__svr__C=4 ..........\n",
      "[CV]  knn__kneighborsregressor__n_neighbors=2, svm__svr__C=4, score=-0.412, total=   3.5s\n",
      "[CV] knn__kneighborsregressor__n_neighbors=2, svm__svr__C=4 ..........\n",
      "[CV]  knn__kneighborsregressor__n_neighbors=2, svm__svr__C=4, score=-0.532, total=   7.8s\n",
      "[CV] knn__kneighborsregressor__n_neighbors=3, svm__svr__C=1 ..........\n",
      "[CV]  knn__kneighborsregressor__n_neighbors=3, svm__svr__C=1, score=-0.404, total=   4.6s\n",
      "[CV] knn__kneighborsregressor__n_neighbors=3, svm__svr__C=1 ..........\n",
      "[CV]  knn__kneighborsregressor__n_neighbors=3, svm__svr__C=1, score=-0.407, total=   4.6s\n",
      "[CV] knn__kneighborsregressor__n_neighbors=3, svm__svr__C=1 ..........\n",
      "[CV]  knn__kneighborsregressor__n_neighbors=3, svm__svr__C=1, score=-0.375, total=   4.3s\n",
      "[CV] knn__kneighborsregressor__n_neighbors=3, svm__svr__C=1 ..........\n",
      "[CV]  knn__kneighborsregressor__n_neighbors=3, svm__svr__C=1, score=-0.348, total=   2.1s\n",
      "[CV] knn__kneighborsregressor__n_neighbors=3, svm__svr__C=1 ..........\n",
      "[CV]  knn__kneighborsregressor__n_neighbors=3, svm__svr__C=1, score=-0.364, total=   8.3s\n",
      "[CV] knn__kneighborsregressor__n_neighbors=3, svm__svr__C=1 ..........\n",
      "[CV]  knn__kneighborsregressor__n_neighbors=3, svm__svr__C=1, score=-0.339, total=   4.8s\n",
      "[CV] knn__kneighborsregressor__n_neighbors=3, svm__svr__C=1 ..........\n",
      "[CV]  knn__kneighborsregressor__n_neighbors=3, svm__svr__C=1, score=-0.594, total=   4.8s\n",
      "[CV] knn__kneighborsregressor__n_neighbors=3, svm__svr__C=1 ..........\n",
      "[CV]  knn__kneighborsregressor__n_neighbors=3, svm__svr__C=1, score=-0.581, total=   4.1s\n",
      "[CV] knn__kneighborsregressor__n_neighbors=3, svm__svr__C=1 ..........\n",
      "[CV]  knn__kneighborsregressor__n_neighbors=3, svm__svr__C=1, score=-0.219, total=   8.0s\n",
      "[CV] knn__kneighborsregressor__n_neighbors=3, svm__svr__C=1 ..........\n",
      "[CV]  knn__kneighborsregressor__n_neighbors=3, svm__svr__C=1, score=-0.543, total=   4.7s\n",
      "[CV] knn__kneighborsregressor__n_neighbors=3, svm__svr__C=2 ..........\n",
      "[CV]  knn__kneighborsregressor__n_neighbors=3, svm__svr__C=2, score=-0.452, total=   4.8s\n",
      "[CV] knn__kneighborsregressor__n_neighbors=3, svm__svr__C=2 ..........\n",
      "[CV]  knn__kneighborsregressor__n_neighbors=3, svm__svr__C=2, score=-0.497, total=   4.4s\n",
      "[CV] knn__kneighborsregressor__n_neighbors=3, svm__svr__C=2 ..........\n",
      "[CV]  knn__kneighborsregressor__n_neighbors=3, svm__svr__C=2, score=-0.318, total=   7.9s\n",
      "[CV] knn__kneighborsregressor__n_neighbors=3, svm__svr__C=2 ..........\n",
      "[CV]  knn__kneighborsregressor__n_neighbors=3, svm__svr__C=2, score=-0.383, total=   4.7s\n",
      "[CV] knn__kneighborsregressor__n_neighbors=3, svm__svr__C=2 ..........\n",
      "[CV]  knn__kneighborsregressor__n_neighbors=3, svm__svr__C=2, score=-0.471, total=   4.9s\n",
      "[CV] knn__kneighborsregressor__n_neighbors=3, svm__svr__C=2 ..........\n",
      "[CV]  knn__kneighborsregressor__n_neighbors=3, svm__svr__C=2, score=-0.344, total=   4.6s\n",
      "[CV] knn__kneighborsregressor__n_neighbors=3, svm__svr__C=2 ..........\n",
      "[CV]  knn__kneighborsregressor__n_neighbors=3, svm__svr__C=2, score=-0.510, total=   7.9s\n",
      "[CV] knn__kneighborsregressor__n_neighbors=3, svm__svr__C=2 ..........\n",
      "[CV]  knn__kneighborsregressor__n_neighbors=3, svm__svr__C=2, score=-0.578, total=   4.6s\n",
      "[CV] knn__kneighborsregressor__n_neighbors=3, svm__svr__C=2 ..........\n",
      "[CV]  knn__kneighborsregressor__n_neighbors=3, svm__svr__C=2, score=-0.329, total=   4.7s\n",
      "[CV] knn__kneighborsregressor__n_neighbors=3, svm__svr__C=2 ..........\n",
      "[CV]  knn__kneighborsregressor__n_neighbors=3, svm__svr__C=2, score=-0.429, total=   5.1s\n",
      "[CV] knn__kneighborsregressor__n_neighbors=3, svm__svr__C=3 ..........\n",
      "[CV]  knn__kneighborsregressor__n_neighbors=3, svm__svr__C=3, score=-0.340, total=   2.2s\n",
      "[CV] knn__kneighborsregressor__n_neighbors=3, svm__svr__C=3 ..........\n",
      "[CV]  knn__kneighborsregressor__n_neighbors=3, svm__svr__C=3, score=-0.445, total=   2.3s\n",
      "[CV] knn__kneighborsregressor__n_neighbors=3, svm__svr__C=3 ..........\n",
      "[CV]  knn__kneighborsregressor__n_neighbors=3, svm__svr__C=3, score=-0.296, total=   2.2s\n",
      "[CV] knn__kneighborsregressor__n_neighbors=3, svm__svr__C=3 ..........\n",
      "[CV]  knn__kneighborsregressor__n_neighbors=3, svm__svr__C=3, score=-0.388, total=   9.4s\n",
      "[CV] knn__kneighborsregressor__n_neighbors=3, svm__svr__C=3 ..........\n",
      "[CV]  knn__kneighborsregressor__n_neighbors=3, svm__svr__C=3, score=-0.538, total=   5.4s\n",
      "[CV] knn__kneighborsregressor__n_neighbors=3, svm__svr__C=3 ..........\n",
      "[CV]  knn__kneighborsregressor__n_neighbors=3, svm__svr__C=3, score=-0.208, total=   4.7s\n",
      "[CV] knn__kneighborsregressor__n_neighbors=3, svm__svr__C=3 ..........\n",
      "[CV]  knn__kneighborsregressor__n_neighbors=3, svm__svr__C=3, score=-0.366, total=   3.6s\n",
      "[CV] knn__kneighborsregressor__n_neighbors=3, svm__svr__C=3 ..........\n",
      "[CV]  knn__kneighborsregressor__n_neighbors=3, svm__svr__C=3, score=-0.476, total=   3.0s\n",
      "[CV] knn__kneighborsregressor__n_neighbors=3, svm__svr__C=3 ..........\n",
      "[CV]  knn__kneighborsregressor__n_neighbors=3, svm__svr__C=3, score=-0.315, total=   8.1s\n",
      "[CV] knn__kneighborsregressor__n_neighbors=3, svm__svr__C=3 ..........\n",
      "[CV]  knn__kneighborsregressor__n_neighbors=3, svm__svr__C=3, score=-0.456, total=   4.8s\n",
      "[CV] knn__kneighborsregressor__n_neighbors=3, svm__svr__C=4 ..........\n",
      "[CV]  knn__kneighborsregressor__n_neighbors=3, svm__svr__C=4, score=-0.341, total=   5.1s\n",
      "[CV] knn__kneighborsregressor__n_neighbors=3, svm__svr__C=4 ..........\n",
      "[CV]  knn__kneighborsregressor__n_neighbors=3, svm__svr__C=4, score=-0.410, total=   3.9s\n",
      "[CV] knn__kneighborsregressor__n_neighbors=3, svm__svr__C=4 ..........\n",
      "[CV]  knn__kneighborsregressor__n_neighbors=3, svm__svr__C=4, score=-0.236, total=   2.1s\n",
      "[CV] knn__kneighborsregressor__n_neighbors=3, svm__svr__C=4 ..........\n",
      "[CV]  knn__kneighborsregressor__n_neighbors=3, svm__svr__C=4, score=-0.449, total=   2.9s\n",
      "[CV] knn__kneighborsregressor__n_neighbors=3, svm__svr__C=4 ..........\n",
      "[CV]  knn__kneighborsregressor__n_neighbors=3, svm__svr__C=4, score=-0.481, total=   3.2s\n",
      "[CV] knn__kneighborsregressor__n_neighbors=3, svm__svr__C=4 ..........\n",
      "[CV]  knn__kneighborsregressor__n_neighbors=3, svm__svr__C=4, score=-0.308, total=   2.9s\n",
      "[CV] knn__kneighborsregressor__n_neighbors=3, svm__svr__C=4 ..........\n",
      "[CV]  knn__kneighborsregressor__n_neighbors=3, svm__svr__C=4, score=-0.468, total=   2.8s\n",
      "[CV] knn__kneighborsregressor__n_neighbors=3, svm__svr__C=4 ..........\n",
      "[CV]  knn__kneighborsregressor__n_neighbors=3, svm__svr__C=4, score=-0.438, total=   2.8s\n",
      "[CV] knn__kneighborsregressor__n_neighbors=3, svm__svr__C=4 ..........\n",
      "[CV]  knn__kneighborsregressor__n_neighbors=3, svm__svr__C=4, score=-0.478, total=   8.4s\n",
      "[CV] knn__kneighborsregressor__n_neighbors=3, svm__svr__C=4 ..........\n",
      "[CV]  knn__kneighborsregressor__n_neighbors=3, svm__svr__C=4, score=-0.499, total=   4.7s\n"
     ]
    },
    {
     "name": "stderr",
     "output_type": "stream",
     "text": [
      "[Parallel(n_jobs=1)]: Done 120 out of 120 | elapsed:  9.1min finished\n"
     ]
    },
    {
     "data": {
      "text/plain": [
       "GridSearchCV(cv=10,\n",
       "             estimator=StackingRegressor(cv=10,\n",
       "                                         estimators=[('lr',\n",
       "                                                      Pipeline(steps=[('minmaxscaler',\n",
       "                                                                       MinMaxScaler()),\n",
       "                                                                      ('linearregression',\n",
       "                                                                       LinearRegression())])),\n",
       "                                                     ('svm',\n",
       "                                                      Pipeline(steps=[('minmaxscaler',\n",
       "                                                                       MinMaxScaler()),\n",
       "                                                                      ('svr',\n",
       "                                                                       SVR())])),\n",
       "                                                     ('knn',\n",
       "                                                      Pipeline(steps=[('minmaxscaler',\n",
       "                                                                       MinMaxScaler()),\n",
       "                                                                      ('kneighborsregressor',\n",
       "                                                                       KNeighborsRegressor())]))],\n",
       "                                         final_estimator=RandomForestRegressor(n_estimators=3,\n",
       "                                                                               random_state=42),\n",
       "                                         n_jobs=3, verbose=3),\n",
       "             param_grid={'knn__kneighborsregressor__n_neighbors': [1, 2, 3],\n",
       "                         'svm__svr__C': [1, 2, 3, 4]},\n",
       "             verbose=3)"
      ]
     },
     "execution_count": 382,
     "metadata": {},
     "output_type": "execute_result"
    }
   ],
   "source": [
    "model_reg.fit(X_train,y_train)"
   ]
  },
  {
   "cell_type": "code",
   "execution_count": 385,
   "metadata": {},
   "outputs": [
    {
     "name": "stdout",
     "output_type": "stream",
     "text": [
      "Best: -0.382822 using {'knn__kneighborsregressor__n_neighbors': 3, 'svm__svr__C': 3}\n"
     ]
    }
   ],
   "source": [
    "print(\"Best: %f using %s\" % (model_reg.best_score_, model_reg.best_params_))"
   ]
  },
  {
   "cell_type": "code",
   "execution_count": 388,
   "metadata": {},
   "outputs": [],
   "source": [
    "#predict 위해 dummy 변수 concat\n",
    "test = pd.concat([test, dummy_test], axis = 1)"
   ]
  },
  {
   "cell_type": "code",
   "execution_count": 389,
   "metadata": {},
   "outputs": [],
   "source": [
    "stacked_pred = model_reg.predict(test.values)"
   ]
  },
  {
   "cell_type": "code",
   "execution_count": 392,
   "metadata": {},
   "outputs": [],
   "source": [
    "ensemble = stacked_pred"
   ]
  },
  {
   "cell_type": "markdown",
   "metadata": {},
   "source": [
    "### submission"
   ]
  },
  {
   "cell_type": "code",
   "execution_count": 393,
   "metadata": {},
   "outputs": [],
   "source": [
    "sub = pd.DataFrame()\n",
    "sub['Id'] = test_ID\n",
    "sub['Rating'] = ensemble\n",
    "sub.to_csv('submission.csv', index = False)"
   ]
  },
  {
   "cell_type": "code",
   "execution_count": null,
   "metadata": {},
   "outputs": [],
   "source": []
  }
 ],
 "metadata": {
  "kernelspec": {
   "display_name": "Python 3",
   "language": "python",
   "name": "python3"
  },
  "language_info": {
   "codemirror_mode": {
    "name": "ipython",
    "version": 3
   },
   "file_extension": ".py",
   "mimetype": "text/x-python",
   "name": "python",
   "nbconvert_exporter": "python",
   "pygments_lexer": "ipython3",
   "version": "3.7.3"
  }
 },
 "nbformat": 4,
 "nbformat_minor": 2
}
